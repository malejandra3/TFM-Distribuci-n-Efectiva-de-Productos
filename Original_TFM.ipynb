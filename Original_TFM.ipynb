{
  "nbformat": 4,
  "nbformat_minor": 0,
  "metadata": {
    "colab": {
      "provenance": [],
      "toc_visible": true
    },
    "kernelspec": {
      "name": "python3",
      "display_name": "Python 3"
    },
    "language_info": {
      "name": "python"
    }
  },
  "cells": [
    {
      "cell_type": "markdown",
      "source": [
        "\n",
        "#Trabajo de grado (TFM)\n",
        "## Distribución Efectiva de Productos\n",
        "###Maria Alejandra Aranguren\n",
        "#### Agosto 2023\n",
        "---\n",
        "\n"
      ],
      "metadata": {
        "id": "CKj5T0WInmIt"
      }
    },
    {
      "cell_type": "markdown",
      "source": [
        "Se importan los paquetes de las librerias a usar\n"
      ],
      "metadata": {
        "id": "BhPYNyaxJZPS"
      }
    },
    {
      "cell_type": "code",
      "source": [
        "import pandas as pd\n",
        "import numpy as np\n",
        "import seaborn as sns\n",
        "from datetime import datetime\n",
        "from tabulate import tabulate\n",
        "import matplotlib.pyplot as plt"
      ],
      "metadata": {
        "id": "euldkRtrmXQJ"
      },
      "execution_count": null,
      "outputs": []
    },
    {
      "cell_type": "markdown",
      "source": [
        "Se realiza la lectura de los datos.\n",
        "\n",
        "Se especifica el tipo de dato para el C.O. y ID ALM pues es un número en formato de texto Ejemplo: 027, esto aplica tambien para el item Ejemplo: 0009846, para 'Cantidad inv.' Ejemplo: 1.00 y para 'Fecha' Ejemplo: 1/08/2019.\n",
        "\n",
        "Se especifica la cantidad de columnas a tomar, con el fin de evitar columnas vacías."
      ],
      "metadata": {
        "id": "oLU8qbm_JYOA"
      }
    },
    {
      "cell_type": "code",
      "execution_count": null,
      "metadata": {
        "id": "uqh-TVivlRCZ"
      },
      "outputs": [],
      "source": [
        "df_general = pd.read_csv('1.1.22-30.6.23 Ventas.txt', sep = \"\\t\",usecols=range(17),dtype=({\"C.O.\": str,\"Item\": str,\"Fecha\": str,\"Cantidad inv.\":str}), encoding='latin1')"
      ]
    },
    {
      "cell_type": "code",
      "source": [
        "df_especifico = pd.read_excel('dataset_especifico.xlsx', sheet_name= 'Datos',dtype=({\"ID ALM\": str}))"
      ],
      "metadata": {
        "id": "cdTBC6HwJTz5"
      },
      "execution_count": null,
      "outputs": []
    },
    {
      "cell_type": "markdown",
      "source": [
        "Se confirma visualmente la lectura correcta de los datasets"
      ],
      "metadata": {
        "id": "c1GELZzSRSBQ"
      }
    },
    {
      "cell_type": "code",
      "source": [
        "print(\"Dataset general:\")\n",
        "df_general.head(5)"
      ],
      "metadata": {
        "colab": {
          "base_uri": "https://localhost:8080/",
          "height": 383
        },
        "id": "CaQYEvZywPfZ",
        "outputId": "4a3340ef-fd62-4cf5-8af5-da2ed61ee521"
      },
      "execution_count": null,
      "outputs": [
        {
          "output_type": "stream",
          "name": "stdout",
          "text": [
            "Dataset general:\n"
          ]
        },
        {
          "output_type": "execute_result",
          "data": {
            "text/plain": [
              "  C.O.      Fecha     Item Desc. detalle ext. 1 Cantidad inv. Tipo docto.  \\\n",
              "0  017  2/01/2022  0000737            5.5Y               1.00         FVP   \n",
              "1  006  2/01/2022  0002513            L                  1.00         FVP   \n",
              "2  017  2/01/2022  0002513            M                  1.00         FVP   \n",
              "3  032  2/01/2022  0002513            M                  1.00         FP1   \n",
              "4  039  2/01/2022  0003989            XL                 1.00         FVP   \n",
              "\n",
              "     Estado    LINEA         MARCA        DEPORTE    GENERO  \\\n",
              "0  Aprobada  CALZADO          NIKE         FUTBOL  INFANTIL   \n",
              "1  Aprobada     ROPA          NIKE  ENTRENAMIENTO    HOMBRE   \n",
              "2  Aprobada     ROPA          NIKE  ENTRENAMIENTO    HOMBRE   \n",
              "3  Aprobada     ROPA          NIKE  ENTRENAMIENTO    HOMBRE   \n",
              "4  Aprobada     ROPA  UNDER ARMOUR  ENTRENAMIENTO    HOMBRE   \n",
              "\n",
              "             SUB CATEGORIA WEB COLOR Valor descuentos local  \\\n",
              "0        CESPED ARTIFICIAL     NEGRO           $ 167,983.00   \n",
              "1              MANGA CORTA     NEGRO            $ 12,181.00   \n",
              "2              MANGA CORTA     NEGRO            $ 12,181.00   \n",
              "3              MANGA CORTA     NEGRO                 $ 0.00   \n",
              "4  CAMISETAS DE COMPRESION     NEGRO             $ 9,235.00   \n",
              "\n",
              "  Valor impuestos local Valor subtotal local Valor neto local  \n",
              "0           $ 31,917.00         $ 167,983.00     $ 199,900.00  \n",
              "1           $ 20,829.00         $ 109,626.00     $ 130,455.00  \n",
              "2           $ 20,829.00         $ 109,626.00     $ 130,455.00  \n",
              "3           $ 23,143.00         $ 121,807.00     $ 144,950.00  \n",
              "4           $ 15,792.00          $ 83,118.00      $ 98,910.00  "
            ],
            "text/html": [
              "\n",
              "  <div id=\"df-2d48aa27-a26a-4b3c-9358-482a1220a0f7\" class=\"colab-df-container\">\n",
              "    <div>\n",
              "<style scoped>\n",
              "    .dataframe tbody tr th:only-of-type {\n",
              "        vertical-align: middle;\n",
              "    }\n",
              "\n",
              "    .dataframe tbody tr th {\n",
              "        vertical-align: top;\n",
              "    }\n",
              "\n",
              "    .dataframe thead th {\n",
              "        text-align: right;\n",
              "    }\n",
              "</style>\n",
              "<table border=\"1\" class=\"dataframe\">\n",
              "  <thead>\n",
              "    <tr style=\"text-align: right;\">\n",
              "      <th></th>\n",
              "      <th>C.O.</th>\n",
              "      <th>Fecha</th>\n",
              "      <th>Item</th>\n",
              "      <th>Desc. detalle ext. 1</th>\n",
              "      <th>Cantidad inv.</th>\n",
              "      <th>Tipo docto.</th>\n",
              "      <th>Estado</th>\n",
              "      <th>LINEA</th>\n",
              "      <th>MARCA</th>\n",
              "      <th>DEPORTE</th>\n",
              "      <th>GENERO</th>\n",
              "      <th>SUB CATEGORIA</th>\n",
              "      <th>WEB COLOR</th>\n",
              "      <th>Valor descuentos local</th>\n",
              "      <th>Valor impuestos local</th>\n",
              "      <th>Valor subtotal local</th>\n",
              "      <th>Valor neto local</th>\n",
              "    </tr>\n",
              "  </thead>\n",
              "  <tbody>\n",
              "    <tr>\n",
              "      <th>0</th>\n",
              "      <td>017</td>\n",
              "      <td>2/01/2022</td>\n",
              "      <td>0000737</td>\n",
              "      <td>5.5Y</td>\n",
              "      <td>1.00</td>\n",
              "      <td>FVP</td>\n",
              "      <td>Aprobada</td>\n",
              "      <td>CALZADO</td>\n",
              "      <td>NIKE</td>\n",
              "      <td>FUTBOL</td>\n",
              "      <td>INFANTIL</td>\n",
              "      <td>CESPED ARTIFICIAL</td>\n",
              "      <td>NEGRO</td>\n",
              "      <td>$ 167,983.00</td>\n",
              "      <td>$ 31,917.00</td>\n",
              "      <td>$ 167,983.00</td>\n",
              "      <td>$ 199,900.00</td>\n",
              "    </tr>\n",
              "    <tr>\n",
              "      <th>1</th>\n",
              "      <td>006</td>\n",
              "      <td>2/01/2022</td>\n",
              "      <td>0002513</td>\n",
              "      <td>L</td>\n",
              "      <td>1.00</td>\n",
              "      <td>FVP</td>\n",
              "      <td>Aprobada</td>\n",
              "      <td>ROPA</td>\n",
              "      <td>NIKE</td>\n",
              "      <td>ENTRENAMIENTO</td>\n",
              "      <td>HOMBRE</td>\n",
              "      <td>MANGA CORTA</td>\n",
              "      <td>NEGRO</td>\n",
              "      <td>$ 12,181.00</td>\n",
              "      <td>$ 20,829.00</td>\n",
              "      <td>$ 109,626.00</td>\n",
              "      <td>$ 130,455.00</td>\n",
              "    </tr>\n",
              "    <tr>\n",
              "      <th>2</th>\n",
              "      <td>017</td>\n",
              "      <td>2/01/2022</td>\n",
              "      <td>0002513</td>\n",
              "      <td>M</td>\n",
              "      <td>1.00</td>\n",
              "      <td>FVP</td>\n",
              "      <td>Aprobada</td>\n",
              "      <td>ROPA</td>\n",
              "      <td>NIKE</td>\n",
              "      <td>ENTRENAMIENTO</td>\n",
              "      <td>HOMBRE</td>\n",
              "      <td>MANGA CORTA</td>\n",
              "      <td>NEGRO</td>\n",
              "      <td>$ 12,181.00</td>\n",
              "      <td>$ 20,829.00</td>\n",
              "      <td>$ 109,626.00</td>\n",
              "      <td>$ 130,455.00</td>\n",
              "    </tr>\n",
              "    <tr>\n",
              "      <th>3</th>\n",
              "      <td>032</td>\n",
              "      <td>2/01/2022</td>\n",
              "      <td>0002513</td>\n",
              "      <td>M</td>\n",
              "      <td>1.00</td>\n",
              "      <td>FP1</td>\n",
              "      <td>Aprobada</td>\n",
              "      <td>ROPA</td>\n",
              "      <td>NIKE</td>\n",
              "      <td>ENTRENAMIENTO</td>\n",
              "      <td>HOMBRE</td>\n",
              "      <td>MANGA CORTA</td>\n",
              "      <td>NEGRO</td>\n",
              "      <td>$ 0.00</td>\n",
              "      <td>$ 23,143.00</td>\n",
              "      <td>$ 121,807.00</td>\n",
              "      <td>$ 144,950.00</td>\n",
              "    </tr>\n",
              "    <tr>\n",
              "      <th>4</th>\n",
              "      <td>039</td>\n",
              "      <td>2/01/2022</td>\n",
              "      <td>0003989</td>\n",
              "      <td>XL</td>\n",
              "      <td>1.00</td>\n",
              "      <td>FVP</td>\n",
              "      <td>Aprobada</td>\n",
              "      <td>ROPA</td>\n",
              "      <td>UNDER ARMOUR</td>\n",
              "      <td>ENTRENAMIENTO</td>\n",
              "      <td>HOMBRE</td>\n",
              "      <td>CAMISETAS DE COMPRESION</td>\n",
              "      <td>NEGRO</td>\n",
              "      <td>$ 9,235.00</td>\n",
              "      <td>$ 15,792.00</td>\n",
              "      <td>$ 83,118.00</td>\n",
              "      <td>$ 98,910.00</td>\n",
              "    </tr>\n",
              "  </tbody>\n",
              "</table>\n",
              "</div>\n",
              "    <div class=\"colab-df-buttons\">\n",
              "\n",
              "  <div class=\"colab-df-container\">\n",
              "    <button class=\"colab-df-convert\" onclick=\"convertToInteractive('df-2d48aa27-a26a-4b3c-9358-482a1220a0f7')\"\n",
              "            title=\"Convert this dataframe to an interactive table.\"\n",
              "            style=\"display:none;\">\n",
              "\n",
              "  <svg xmlns=\"http://www.w3.org/2000/svg\" height=\"24px\" viewBox=\"0 -960 960 960\">\n",
              "    <path d=\"M120-120v-720h720v720H120Zm60-500h600v-160H180v160Zm220 220h160v-160H400v160Zm0 220h160v-160H400v160ZM180-400h160v-160H180v160Zm440 0h160v-160H620v160ZM180-180h160v-160H180v160Zm440 0h160v-160H620v160Z\"/>\n",
              "  </svg>\n",
              "    </button>\n",
              "\n",
              "  <style>\n",
              "    .colab-df-container {\n",
              "      display:flex;\n",
              "      gap: 12px;\n",
              "    }\n",
              "\n",
              "    .colab-df-convert {\n",
              "      background-color: #E8F0FE;\n",
              "      border: none;\n",
              "      border-radius: 50%;\n",
              "      cursor: pointer;\n",
              "      display: none;\n",
              "      fill: #1967D2;\n",
              "      height: 32px;\n",
              "      padding: 0 0 0 0;\n",
              "      width: 32px;\n",
              "    }\n",
              "\n",
              "    .colab-df-convert:hover {\n",
              "      background-color: #E2EBFA;\n",
              "      box-shadow: 0px 1px 2px rgba(60, 64, 67, 0.3), 0px 1px 3px 1px rgba(60, 64, 67, 0.15);\n",
              "      fill: #174EA6;\n",
              "    }\n",
              "\n",
              "    .colab-df-buttons div {\n",
              "      margin-bottom: 4px;\n",
              "    }\n",
              "\n",
              "    [theme=dark] .colab-df-convert {\n",
              "      background-color: #3B4455;\n",
              "      fill: #D2E3FC;\n",
              "    }\n",
              "\n",
              "    [theme=dark] .colab-df-convert:hover {\n",
              "      background-color: #434B5C;\n",
              "      box-shadow: 0px 1px 3px 1px rgba(0, 0, 0, 0.15);\n",
              "      filter: drop-shadow(0px 1px 2px rgba(0, 0, 0, 0.3));\n",
              "      fill: #FFFFFF;\n",
              "    }\n",
              "  </style>\n",
              "\n",
              "    <script>\n",
              "      const buttonEl =\n",
              "        document.querySelector('#df-2d48aa27-a26a-4b3c-9358-482a1220a0f7 button.colab-df-convert');\n",
              "      buttonEl.style.display =\n",
              "        google.colab.kernel.accessAllowed ? 'block' : 'none';\n",
              "\n",
              "      async function convertToInteractive(key) {\n",
              "        const element = document.querySelector('#df-2d48aa27-a26a-4b3c-9358-482a1220a0f7');\n",
              "        const dataTable =\n",
              "          await google.colab.kernel.invokeFunction('convertToInteractive',\n",
              "                                                    [key], {});\n",
              "        if (!dataTable) return;\n",
              "\n",
              "        const docLinkHtml = 'Like what you see? Visit the ' +\n",
              "          '<a target=\"_blank\" href=https://colab.research.google.com/notebooks/data_table.ipynb>data table notebook</a>'\n",
              "          + ' to learn more about interactive tables.';\n",
              "        element.innerHTML = '';\n",
              "        dataTable['output_type'] = 'display_data';\n",
              "        await google.colab.output.renderOutput(dataTable, element);\n",
              "        const docLink = document.createElement('div');\n",
              "        docLink.innerHTML = docLinkHtml;\n",
              "        element.appendChild(docLink);\n",
              "      }\n",
              "    </script>\n",
              "  </div>\n",
              "\n",
              "\n",
              "<div id=\"df-3554a2b1-b90b-432e-b8d6-409f66d95bbf\">\n",
              "  <button class=\"colab-df-quickchart\" onclick=\"quickchart('df-3554a2b1-b90b-432e-b8d6-409f66d95bbf')\"\n",
              "            title=\"Suggest charts.\"\n",
              "            style=\"display:none;\">\n",
              "\n",
              "<svg xmlns=\"http://www.w3.org/2000/svg\" height=\"24px\"viewBox=\"0 0 24 24\"\n",
              "     width=\"24px\">\n",
              "    <g>\n",
              "        <path d=\"M19 3H5c-1.1 0-2 .9-2 2v14c0 1.1.9 2 2 2h14c1.1 0 2-.9 2-2V5c0-1.1-.9-2-2-2zM9 17H7v-7h2v7zm4 0h-2V7h2v10zm4 0h-2v-4h2v4z\"/>\n",
              "    </g>\n",
              "</svg>\n",
              "  </button>\n",
              "\n",
              "<style>\n",
              "  .colab-df-quickchart {\n",
              "    background-color: #E8F0FE;\n",
              "    border: none;\n",
              "    border-radius: 50%;\n",
              "    cursor: pointer;\n",
              "    display: none;\n",
              "    fill: #1967D2;\n",
              "    height: 32px;\n",
              "    padding: 0 0 0 0;\n",
              "    width: 32px;\n",
              "  }\n",
              "\n",
              "  .colab-df-quickchart:hover {\n",
              "    background-color: #E2EBFA;\n",
              "    box-shadow: 0px 1px 2px rgba(60, 64, 67, 0.3), 0px 1px 3px 1px rgba(60, 64, 67, 0.15);\n",
              "    fill: #174EA6;\n",
              "  }\n",
              "\n",
              "  [theme=dark] .colab-df-quickchart {\n",
              "    background-color: #3B4455;\n",
              "    fill: #D2E3FC;\n",
              "  }\n",
              "\n",
              "  [theme=dark] .colab-df-quickchart:hover {\n",
              "    background-color: #434B5C;\n",
              "    box-shadow: 0px 1px 3px 1px rgba(0, 0, 0, 0.15);\n",
              "    filter: drop-shadow(0px 1px 2px rgba(0, 0, 0, 0.3));\n",
              "    fill: #FFFFFF;\n",
              "  }\n",
              "</style>\n",
              "\n",
              "  <script>\n",
              "    async function quickchart(key) {\n",
              "      const charts = await google.colab.kernel.invokeFunction(\n",
              "          'suggestCharts', [key], {});\n",
              "    }\n",
              "    (() => {\n",
              "      let quickchartButtonEl =\n",
              "        document.querySelector('#df-3554a2b1-b90b-432e-b8d6-409f66d95bbf button');\n",
              "      quickchartButtonEl.style.display =\n",
              "        google.colab.kernel.accessAllowed ? 'block' : 'none';\n",
              "    })();\n",
              "  </script>\n",
              "</div>\n",
              "    </div>\n",
              "  </div>\n"
            ]
          },
          "metadata": {},
          "execution_count": 9
        }
      ]
    },
    {
      "cell_type": "code",
      "source": [
        "print(\"Dataset específico:\")\n",
        "df_especifico.head(5)"
      ],
      "metadata": {
        "colab": {
          "base_uri": "https://localhost:8080/",
          "height": 224
        },
        "id": "eD-uy4IxI-sf",
        "outputId": "f4855fb1-e0eb-4459-86f4-6ec22d9393b5"
      },
      "execution_count": null,
      "outputs": [
        {
          "output_type": "stream",
          "name": "stdout",
          "text": [
            "Dataset específico:\n"
          ]
        },
        {
          "output_type": "execute_result",
          "data": {
            "text/plain": [
              "  ID ALM Tipo de Marca    Nivel\n",
              "0    004    Multimarca  Nivel 1\n",
              "1    006    Multimarca  Nivel 3\n",
              "2    007    Multimarca  Nivel 3\n",
              "3    009    Multimarca  Nivel 1\n",
              "4    010    Multimarca  Nivel 1"
            ],
            "text/html": [
              "\n",
              "  <div id=\"df-49ae5ab0-5856-44b0-b1c3-b88bdb451620\" class=\"colab-df-container\">\n",
              "    <div>\n",
              "<style scoped>\n",
              "    .dataframe tbody tr th:only-of-type {\n",
              "        vertical-align: middle;\n",
              "    }\n",
              "\n",
              "    .dataframe tbody tr th {\n",
              "        vertical-align: top;\n",
              "    }\n",
              "\n",
              "    .dataframe thead th {\n",
              "        text-align: right;\n",
              "    }\n",
              "</style>\n",
              "<table border=\"1\" class=\"dataframe\">\n",
              "  <thead>\n",
              "    <tr style=\"text-align: right;\">\n",
              "      <th></th>\n",
              "      <th>ID ALM</th>\n",
              "      <th>Tipo de Marca</th>\n",
              "      <th>Nivel</th>\n",
              "    </tr>\n",
              "  </thead>\n",
              "  <tbody>\n",
              "    <tr>\n",
              "      <th>0</th>\n",
              "      <td>004</td>\n",
              "      <td>Multimarca</td>\n",
              "      <td>Nivel 1</td>\n",
              "    </tr>\n",
              "    <tr>\n",
              "      <th>1</th>\n",
              "      <td>006</td>\n",
              "      <td>Multimarca</td>\n",
              "      <td>Nivel 3</td>\n",
              "    </tr>\n",
              "    <tr>\n",
              "      <th>2</th>\n",
              "      <td>007</td>\n",
              "      <td>Multimarca</td>\n",
              "      <td>Nivel 3</td>\n",
              "    </tr>\n",
              "    <tr>\n",
              "      <th>3</th>\n",
              "      <td>009</td>\n",
              "      <td>Multimarca</td>\n",
              "      <td>Nivel 1</td>\n",
              "    </tr>\n",
              "    <tr>\n",
              "      <th>4</th>\n",
              "      <td>010</td>\n",
              "      <td>Multimarca</td>\n",
              "      <td>Nivel 1</td>\n",
              "    </tr>\n",
              "  </tbody>\n",
              "</table>\n",
              "</div>\n",
              "    <div class=\"colab-df-buttons\">\n",
              "\n",
              "  <div class=\"colab-df-container\">\n",
              "    <button class=\"colab-df-convert\" onclick=\"convertToInteractive('df-49ae5ab0-5856-44b0-b1c3-b88bdb451620')\"\n",
              "            title=\"Convert this dataframe to an interactive table.\"\n",
              "            style=\"display:none;\">\n",
              "\n",
              "  <svg xmlns=\"http://www.w3.org/2000/svg\" height=\"24px\" viewBox=\"0 -960 960 960\">\n",
              "    <path d=\"M120-120v-720h720v720H120Zm60-500h600v-160H180v160Zm220 220h160v-160H400v160Zm0 220h160v-160H400v160ZM180-400h160v-160H180v160Zm440 0h160v-160H620v160ZM180-180h160v-160H180v160Zm440 0h160v-160H620v160Z\"/>\n",
              "  </svg>\n",
              "    </button>\n",
              "\n",
              "  <style>\n",
              "    .colab-df-container {\n",
              "      display:flex;\n",
              "      gap: 12px;\n",
              "    }\n",
              "\n",
              "    .colab-df-convert {\n",
              "      background-color: #E8F0FE;\n",
              "      border: none;\n",
              "      border-radius: 50%;\n",
              "      cursor: pointer;\n",
              "      display: none;\n",
              "      fill: #1967D2;\n",
              "      height: 32px;\n",
              "      padding: 0 0 0 0;\n",
              "      width: 32px;\n",
              "    }\n",
              "\n",
              "    .colab-df-convert:hover {\n",
              "      background-color: #E2EBFA;\n",
              "      box-shadow: 0px 1px 2px rgba(60, 64, 67, 0.3), 0px 1px 3px 1px rgba(60, 64, 67, 0.15);\n",
              "      fill: #174EA6;\n",
              "    }\n",
              "\n",
              "    .colab-df-buttons div {\n",
              "      margin-bottom: 4px;\n",
              "    }\n",
              "\n",
              "    [theme=dark] .colab-df-convert {\n",
              "      background-color: #3B4455;\n",
              "      fill: #D2E3FC;\n",
              "    }\n",
              "\n",
              "    [theme=dark] .colab-df-convert:hover {\n",
              "      background-color: #434B5C;\n",
              "      box-shadow: 0px 1px 3px 1px rgba(0, 0, 0, 0.15);\n",
              "      filter: drop-shadow(0px 1px 2px rgba(0, 0, 0, 0.3));\n",
              "      fill: #FFFFFF;\n",
              "    }\n",
              "  </style>\n",
              "\n",
              "    <script>\n",
              "      const buttonEl =\n",
              "        document.querySelector('#df-49ae5ab0-5856-44b0-b1c3-b88bdb451620 button.colab-df-convert');\n",
              "      buttonEl.style.display =\n",
              "        google.colab.kernel.accessAllowed ? 'block' : 'none';\n",
              "\n",
              "      async function convertToInteractive(key) {\n",
              "        const element = document.querySelector('#df-49ae5ab0-5856-44b0-b1c3-b88bdb451620');\n",
              "        const dataTable =\n",
              "          await google.colab.kernel.invokeFunction('convertToInteractive',\n",
              "                                                    [key], {});\n",
              "        if (!dataTable) return;\n",
              "\n",
              "        const docLinkHtml = 'Like what you see? Visit the ' +\n",
              "          '<a target=\"_blank\" href=https://colab.research.google.com/notebooks/data_table.ipynb>data table notebook</a>'\n",
              "          + ' to learn more about interactive tables.';\n",
              "        element.innerHTML = '';\n",
              "        dataTable['output_type'] = 'display_data';\n",
              "        await google.colab.output.renderOutput(dataTable, element);\n",
              "        const docLink = document.createElement('div');\n",
              "        docLink.innerHTML = docLinkHtml;\n",
              "        element.appendChild(docLink);\n",
              "      }\n",
              "    </script>\n",
              "  </div>\n",
              "\n",
              "\n",
              "<div id=\"df-a882327c-d346-4313-8920-338195310e6f\">\n",
              "  <button class=\"colab-df-quickchart\" onclick=\"quickchart('df-a882327c-d346-4313-8920-338195310e6f')\"\n",
              "            title=\"Suggest charts.\"\n",
              "            style=\"display:none;\">\n",
              "\n",
              "<svg xmlns=\"http://www.w3.org/2000/svg\" height=\"24px\"viewBox=\"0 0 24 24\"\n",
              "     width=\"24px\">\n",
              "    <g>\n",
              "        <path d=\"M19 3H5c-1.1 0-2 .9-2 2v14c0 1.1.9 2 2 2h14c1.1 0 2-.9 2-2V5c0-1.1-.9-2-2-2zM9 17H7v-7h2v7zm4 0h-2V7h2v10zm4 0h-2v-4h2v4z\"/>\n",
              "    </g>\n",
              "</svg>\n",
              "  </button>\n",
              "\n",
              "<style>\n",
              "  .colab-df-quickchart {\n",
              "    background-color: #E8F0FE;\n",
              "    border: none;\n",
              "    border-radius: 50%;\n",
              "    cursor: pointer;\n",
              "    display: none;\n",
              "    fill: #1967D2;\n",
              "    height: 32px;\n",
              "    padding: 0 0 0 0;\n",
              "    width: 32px;\n",
              "  }\n",
              "\n",
              "  .colab-df-quickchart:hover {\n",
              "    background-color: #E2EBFA;\n",
              "    box-shadow: 0px 1px 2px rgba(60, 64, 67, 0.3), 0px 1px 3px 1px rgba(60, 64, 67, 0.15);\n",
              "    fill: #174EA6;\n",
              "  }\n",
              "\n",
              "  [theme=dark] .colab-df-quickchart {\n",
              "    background-color: #3B4455;\n",
              "    fill: #D2E3FC;\n",
              "  }\n",
              "\n",
              "  [theme=dark] .colab-df-quickchart:hover {\n",
              "    background-color: #434B5C;\n",
              "    box-shadow: 0px 1px 3px 1px rgba(0, 0, 0, 0.15);\n",
              "    filter: drop-shadow(0px 1px 2px rgba(0, 0, 0, 0.3));\n",
              "    fill: #FFFFFF;\n",
              "  }\n",
              "</style>\n",
              "\n",
              "  <script>\n",
              "    async function quickchart(key) {\n",
              "      const charts = await google.colab.kernel.invokeFunction(\n",
              "          'suggestCharts', [key], {});\n",
              "    }\n",
              "    (() => {\n",
              "      let quickchartButtonEl =\n",
              "        document.querySelector('#df-a882327c-d346-4313-8920-338195310e6f button');\n",
              "      quickchartButtonEl.style.display =\n",
              "        google.colab.kernel.accessAllowed ? 'block' : 'none';\n",
              "    })();\n",
              "  </script>\n",
              "</div>\n",
              "    </div>\n",
              "  </div>\n"
            ]
          },
          "metadata": {},
          "execution_count": 10
        }
      ]
    },
    {
      "cell_type": "markdown",
      "source": [
        "Se obtienen las dimensiones de mis datasets"
      ],
      "metadata": {
        "id": "vOnIhw7sKjXo"
      }
    },
    {
      "cell_type": "code",
      "source": [
        "print(\"Estas son las dimensiones iniciales del dataset general: \\n\", df_general.shape ,'\\n')\n",
        "print(\"Estas son las dimensiones iniciales del dataset especifico: \\n\", df_especifico.shape )"
      ],
      "metadata": {
        "colab": {
          "base_uri": "https://localhost:8080/"
        },
        "id": "6394Q6OjHVQK",
        "outputId": "d8a04173-a0f5-40a0-db0f-fe38ec576381"
      },
      "execution_count": null,
      "outputs": [
        {
          "output_type": "stream",
          "name": "stdout",
          "text": [
            "Estas son las dimensiones iniciales del dataset general: \n",
            " (704688, 17) \n",
            "\n",
            "Estas son las dimensiones iniciales del dataset especifico: \n",
            " (23, 3)\n"
          ]
        }
      ]
    },
    {
      "cell_type": "markdown",
      "source": [
        "## Comprensión de los datos"
      ],
      "metadata": {
        "id": "DjOToeoMyikf"
      }
    },
    {
      "cell_type": "markdown",
      "source": [
        "###Descripción de los datos"
      ],
      "metadata": {
        "id": "Kmv1u6h_nL6r"
      }
    },
    {
      "cell_type": "markdown",
      "source": [
        "Se genera una tabla con las columnas de cada dataset y una muestra de su formato:"
      ],
      "metadata": {
        "id": "ScH1W2uARAU_"
      }
    },
    {
      "cell_type": "code",
      "source": [
        "import pandas as pd\n",
        "from tabulate import tabulate\n",
        "\n",
        "def reporte_descripcion_dataset(df):\n",
        "    columnas = df.columns\n",
        "    data = []\n",
        "    for col in columnas:\n",
        "        tipo_dato = df[col].dtype\n",
        "        formato = df[col].iloc[0] if not pd.isna(df[col].iloc[0]) else \"NaN\"\n",
        "        data.append([col, tipo_dato, formato])\n",
        "\n",
        "    headers = [\"Columna\", \"Tipo de dato\", \"Formato\"]\n",
        "    print(tabulate(data, headers=headers, tablefmt=\"grid\"))\n",
        "    print(f\"\\nCantidad de filas: {df.shape[0]}\")\n",
        "\n",
        "print(\"Dataset general:\")\n",
        "reporte_descripcion_dataset(df_general)\n"
      ],
      "metadata": {
        "colab": {
          "base_uri": "https://localhost:8080/"
        },
        "id": "EviS0-n3mW81",
        "outputId": "cf5f0c8a-4c34-4357-948f-80eb582b03bb"
      },
      "execution_count": null,
      "outputs": [
        {
          "output_type": "stream",
          "name": "stdout",
          "text": [
            "Dataset general:\n",
            "+------------------------+----------------+-------------------+\n",
            "| Columna                | Tipo de dato   | Formato           |\n",
            "+========================+================+===================+\n",
            "| C.O.                   | object         | 017               |\n",
            "+------------------------+----------------+-------------------+\n",
            "| Fecha                  | object         | 2/01/2022         |\n",
            "+------------------------+----------------+-------------------+\n",
            "| Item                   | object         | 0000737           |\n",
            "+------------------------+----------------+-------------------+\n",
            "| Desc. detalle ext. 1   | object         | 5.5Y              |\n",
            "+------------------------+----------------+-------------------+\n",
            "| Cantidad inv.          | object         | 1.00              |\n",
            "+------------------------+----------------+-------------------+\n",
            "| Tipo docto.            | object         | FVP               |\n",
            "+------------------------+----------------+-------------------+\n",
            "| Estado                 | object         | Aprobada          |\n",
            "+------------------------+----------------+-------------------+\n",
            "| LINEA                  | object         | CALZADO           |\n",
            "+------------------------+----------------+-------------------+\n",
            "| MARCA                  | object         | NIKE              |\n",
            "+------------------------+----------------+-------------------+\n",
            "| DEPORTE                | object         | FUTBOL            |\n",
            "+------------------------+----------------+-------------------+\n",
            "| GENERO                 | object         | INFANTIL          |\n",
            "+------------------------+----------------+-------------------+\n",
            "| SUB CATEGORIA          | object         | CESPED ARTIFICIAL |\n",
            "+------------------------+----------------+-------------------+\n",
            "| WEB COLOR              | object         | NEGRO             |\n",
            "+------------------------+----------------+-------------------+\n",
            "| Valor descuentos local | object         | $ 167,983.00      |\n",
            "+------------------------+----------------+-------------------+\n",
            "| Valor impuestos local  | object         | $ 31,917.00       |\n",
            "+------------------------+----------------+-------------------+\n",
            "| Valor subtotal local   | object         | $ 167,983.00      |\n",
            "+------------------------+----------------+-------------------+\n",
            "| Valor neto local       | object         | $ 199,900.00      |\n",
            "+------------------------+----------------+-------------------+\n",
            "\n",
            "Cantidad de filas: 704688\n"
          ]
        }
      ]
    },
    {
      "cell_type": "code",
      "source": [
        "import pandas as pd\n",
        "from tabulate import tabulate\n",
        "\n",
        "def reporte_descripcion_dataset(df):\n",
        "    columnas = df.columns\n",
        "    data = []\n",
        "    for col in columnas:\n",
        "        tipo_dato = df[col].dtype\n",
        "        formato = df[col].iloc[0] if not pd.isna(df[col].iloc[0]) else \"NaN\"\n",
        "        data.append([col, tipo_dato, formato])\n",
        "\n",
        "    headers = [\"Columna\", \"Tipo de dato\", \"Formato\"]\n",
        "    print(tabulate(data, headers=headers, tablefmt=\"grid\"))\n",
        "    print(f\"\\nCantidad de filas: {df.shape[0]}\")\n",
        "\n",
        "print(\"Dataset específico:\")\n",
        "reporte_descripcion_dataset(df_especifico)"
      ],
      "metadata": {
        "colab": {
          "base_uri": "https://localhost:8080/"
        },
        "id": "QVH4LgJOSNE-",
        "outputId": "f53b930b-38a6-44b5-ff6e-99480ca9664b"
      },
      "execution_count": null,
      "outputs": [
        {
          "output_type": "stream",
          "name": "stdout",
          "text": [
            "Dataset específico:\n",
            "+---------------+----------------+------------+\n",
            "| Columna       | Tipo de dato   | Formato    |\n",
            "+===============+================+============+\n",
            "| ID ALM        | object         | 004        |\n",
            "+---------------+----------------+------------+\n",
            "| Tipo de Marca | object         | Multimarca |\n",
            "+---------------+----------------+------------+\n",
            "| Nivel         | object         | Nivel 1    |\n",
            "+---------------+----------------+------------+\n",
            "\n",
            "Cantidad de filas: 23\n"
          ]
        }
      ]
    },
    {
      "cell_type": "markdown",
      "source": [
        "#Apéndice II:"
      ],
      "metadata": {
        "id": "KS2Q77iMHIZj"
      }
    },
    {
      "cell_type": "markdown",
      "source": [
        "### Verificación de la calidad de los datos"
      ],
      "metadata": {
        "id": "FubLY6DcymCY"
      }
    },
    {
      "cell_type": "markdown",
      "source": [
        "#### Missing Values"
      ],
      "metadata": {
        "id": "u93IzjPAyskA"
      }
    },
    {
      "cell_type": "markdown",
      "source": [
        "Se hace un mapa de calor para identificar 'missing values' donde el color azul  representa las celdas sin valores nulos y el amarillo las celdas con valores nulos"
      ],
      "metadata": {
        "id": "VeLUYadSRJv3"
      }
    },
    {
      "cell_type": "code",
      "source": [
        "cols = df_general.columns[:]\n",
        "colours = ['#40acd6','#e8ca46']\n",
        "ax =sns.heatmap(df_general[cols].isnull(), cmap=sns.color_palette(colours))\n",
        "\n",
        "ax.set_title('Valores faltantes en dataset general')\n",
        "ax.set_xlabel('Atributos')\n",
        "ax.set_ylabel('Observaciones')\n",
        "\n",
        "plt.show()"
      ],
      "metadata": {
        "colab": {
          "base_uri": "https://localhost:8080/",
          "height": 613
        },
        "id": "E2qQA2adT8WL",
        "outputId": "0cc13497-78fa-4937-a691-6fad9cb69352"
      },
      "execution_count": null,
      "outputs": [
        {
          "output_type": "display_data",
          "data": {
            "text/plain": [
              "<Figure size 640x480 with 2 Axes>"
            ],
            "image/png": "[encoded data removed]"
          },
          "metadata": {}
        }
      ]
    },
    {
      "cell_type": "code",
      "source": [
        "cols = df_especifico.columns[:]\n",
        "colours = ['#e8ca46','#40acd6']\n",
        "ax =sns.heatmap(df_especifico[cols].isnull(), cmap=sns.color_palette(colours))\n",
        "\n",
        "ax.set_title('Valores faltantes en dataset específico')\n",
        "ax.set_xlabel('Atributos')\n",
        "ax.set_ylabel('Observaciones')\n",
        "\n",
        "plt.show()"
      ],
      "metadata": {
        "colab": {
          "base_uri": "https://localhost:8080/",
          "height": 472
        },
        "id": "2r9KeprNWbpn",
        "outputId": "82463301-7364-46b4-da70-f2bd407d14bf"
      },
      "execution_count": null,
      "outputs": [
        {
          "output_type": "display_data",
          "data": {
            "text/plain": [
              "<Figure size 640x480 with 2 Axes>"
            ],
            "image/png": "[encoded data removed]"
          },
          "metadata": {}
        }
      ]
    },
    {
      "cell_type": "markdown",
      "source": [
        "Se obtienen las cantidades de valores nulos y vacíos por columna para el dataset general"
      ],
      "metadata": {
        "id": "wtPV9nv6YO1A"
      }
    },
    {
      "cell_type": "code",
      "source": [
        "# Se realiza una adaptación del código utilizado en la materia 05MBID del presente master.\n",
        "\n",
        "# Se crea un diccionario para almacenar la cantidad de valores faltantes por columna\n",
        "nulos_por_columna = {}\n",
        "\n",
        "# Se genera la iteracion sobre las columnas del dataset\n",
        "for col in df_general.columns:\n",
        "    nulos = df_general[col].isna().sum()  # Cuenta los valores nulos\n",
        "    vacios = (df_general[col].str.strip() == '').sum() # Cuenta los valores vacíos\n",
        "    nulos_por_columna[col] = nulos + vacios  # Suma los valores nulos y los vacíos\n",
        "\n",
        "#  Se crea un DataFrame a partir del diccionario\n",
        "nulos_x_columna = pd.DataFrame(nulos_por_columna.items(), columns=['Columna', 'Cantidad de Nulos y Vacíos'])\n",
        "\n",
        "print(f\"Cantidad de filas que tienen valores nulos y vacíos por atributo para el dataset general:\\n \\n{nulos_x_columna}\")"
      ],
      "metadata": {
        "colab": {
          "base_uri": "https://localhost:8080/"
        },
        "id": "_XrGST5SYFkw",
        "outputId": "8875f75b-3f44-4bf1-dab2-e460b995eaa7"
      },
      "execution_count": null,
      "outputs": [
        {
          "output_type": "stream",
          "name": "stdout",
          "text": [
            "Cantidad de filas que tienen valores nulos y vacíos por atributo para el dataset general:\n",
            " \n",
            "                   Columna  Cantidad de Nulos y Vacíos\n",
            "0                     C.O.                           0\n",
            "1                    Fecha                           0\n",
            "2                     Item                           0\n",
            "3     Desc. detalle ext. 1                       76711\n",
            "4            Cantidad inv.                           0\n",
            "5              Tipo docto.                           0\n",
            "6                   Estado                           0\n",
            "7                    LINEA                       82010\n",
            "8                    MARCA                       82010\n",
            "9                  DEPORTE                       82010\n",
            "10                  GENERO                       82010\n",
            "11           SUB CATEGORIA                       82010\n",
            "12               WEB COLOR                       82010\n",
            "13  Valor descuentos local                           0\n",
            "14   Valor impuestos local                           0\n",
            "15    Valor subtotal local                           0\n",
            "16        Valor neto local                           0\n"
          ]
        }
      ]
    },
    {
      "cell_type": "markdown",
      "source": [
        "#### Cumplimiento de formato de datos dataset general"
      ],
      "metadata": {
        "id": "-1R9TRCnyvcP"
      }
    },
    {
      "cell_type": "markdown",
      "source": [
        "Se verifica que el formato en el atributo 'C.O.' sea válido, se es válido cuando el formato contiene 3 caracteres numéricos"
      ],
      "metadata": {
        "id": "XL7fGJcP6wMe"
      }
    },
    {
      "cell_type": "code",
      "source": [
        "# Se realiza una adaptación  del código utilizado en la materia 13MBID del presente master.\n",
        "\n",
        "# Se establece el formato ideal en el atributo y se realiza la comparación del formato actual vs el formato ideal\n",
        "df_general['formato_correcto_co'] = df_general['C.O.'].astype(str).str.match(\"^[0-9]{3}$\")\n",
        "\n",
        "# Visualizar filas con errores de formateo\n",
        "print(\"Se visualizan las filas con errores de formateo:\")\n",
        "display(df_general[~df_general.formato_correcto_co])\n",
        "\n",
        "# Filtrar filas con valores incorrectos\n",
        "conteo = df_general[~df_general.formato_correcto_co]\n",
        "\n",
        "# Contar la cantidad de errores de formateo\n",
        "print(f\"Cantidad detectada de formato erroneo en el número de tienda: {conteo.shape[0]}\")"
      ],
      "metadata": {
        "colab": {
          "base_uri": "https://localhost:8080/",
          "height": 119
        },
        "id": "ovbCojXE6sGx",
        "outputId": "0b159abc-69fe-4a7c-8295-53b247415562"
      },
      "execution_count": null,
      "outputs": [
        {
          "output_type": "stream",
          "name": "stdout",
          "text": [
            "Se visualizan las filas con errores de formateo:\n"
          ]
        },
        {
          "output_type": "display_data",
          "data": {
            "text/plain": [
              "Empty DataFrame\n",
              "Columns: [C.O., Fecha, Item, Desc. detalle ext. 1, Cantidad inv., Tipo docto., Estado, LINEA, MARCA, DEPORTE, GENERO, SUB CATEGORIA, WEB COLOR, Valor descuentos local, Valor impuestos local, Valor subtotal local, Valor neto local, formato_correcto_co]\n",
              "Index: []"
            ],
            "text/html": [
              "\n",
              "  <div id=\"df-812e9d1a-40c0-42dd-86b9-a9a34b59f65d\" class=\"colab-df-container\">\n",
              "    <div>\n",
              "<style scoped>\n",
              "    .dataframe tbody tr th:only-of-type {\n",
              "        vertical-align: middle;\n",
              "    }\n",
              "\n",
              "    .dataframe tbody tr th {\n",
              "        vertical-align: top;\n",
              "    }\n",
              "\n",
              "    .dataframe thead th {\n",
              "        text-align: right;\n",
              "    }\n",
              "</style>\n",
              "<table border=\"1\" class=\"dataframe\">\n",
              "  <thead>\n",
              "    <tr style=\"text-align: right;\">\n",
              "      <th></th>\n",
              "      <th>C.O.</th>\n",
              "      <th>Fecha</th>\n",
              "      <th>Item</th>\n",
              "      <th>Desc. detalle ext. 1</th>\n",
              "      <th>Cantidad inv.</th>\n",
              "      <th>Tipo docto.</th>\n",
              "      <th>Estado</th>\n",
              "      <th>LINEA</th>\n",
              "      <th>MARCA</th>\n",
              "      <th>DEPORTE</th>\n",
              "      <th>GENERO</th>\n",
              "      <th>SUB CATEGORIA</th>\n",
              "      <th>WEB COLOR</th>\n",
              "      <th>Valor descuentos local</th>\n",
              "      <th>Valor impuestos local</th>\n",
              "      <th>Valor subtotal local</th>\n",
              "      <th>Valor neto local</th>\n",
              "      <th>formato_correcto_co</th>\n",
              "    </tr>\n",
              "  </thead>\n",
              "  <tbody>\n",
              "  </tbody>\n",
              "</table>\n",
              "</div>\n",
              "    <div class=\"colab-df-buttons\">\n",
              "\n",
              "  <div class=\"colab-df-container\">\n",
              "    <button class=\"colab-df-convert\" onclick=\"convertToInteractive('df-812e9d1a-40c0-42dd-86b9-a9a34b59f65d')\"\n",
              "            title=\"Convert this dataframe to an interactive table.\"\n",
              "            style=\"display:none;\">\n",
              "\n",
              "  <svg xmlns=\"http://www.w3.org/2000/svg\" height=\"24px\" viewBox=\"0 -960 960 960\">\n",
              "    <path d=\"M120-120v-720h720v720H120Zm60-500h600v-160H180v160Zm220 220h160v-160H400v160Zm0 220h160v-160H400v160ZM180-400h160v-160H180v160Zm440 0h160v-160H620v160ZM180-180h160v-160H180v160Zm440 0h160v-160H620v160Z\"/>\n",
              "  </svg>\n",
              "    </button>\n",
              "\n",
              "  <style>\n",
              "    .colab-df-container {\n",
              "      display:flex;\n",
              "      gap: 12px;\n",
              "    }\n",
              "\n",
              "    .colab-df-convert {\n",
              "      background-color: #E8F0FE;\n",
              "      border: none;\n",
              "      border-radius: 50%;\n",
              "      cursor: pointer;\n",
              "      display: none;\n",
              "      fill: #1967D2;\n",
              "      height: 32px;\n",
              "      padding: 0 0 0 0;\n",
              "      width: 32px;\n",
              "    }\n",
              "\n",
              "    .colab-df-convert:hover {\n",
              "      background-color: #E2EBFA;\n",
              "      box-shadow: 0px 1px 2px rgba(60, 64, 67, 0.3), 0px 1px 3px 1px rgba(60, 64, 67, 0.15);\n",
              "      fill: #174EA6;\n",
              "    }\n",
              "\n",
              "    .colab-df-buttons div {\n",
              "      margin-bottom: 4px;\n",
              "    }\n",
              "\n",
              "    [theme=dark] .colab-df-convert {\n",
              "      background-color: #3B4455;\n",
              "      fill: #D2E3FC;\n",
              "    }\n",
              "\n",
              "    [theme=dark] .colab-df-convert:hover {\n",
              "      background-color: #434B5C;\n",
              "      box-shadow: 0px 1px 3px 1px rgba(0, 0, 0, 0.15);\n",
              "      filter: drop-shadow(0px 1px 2px rgba(0, 0, 0, 0.3));\n",
              "      fill: #FFFFFF;\n",
              "    }\n",
              "  </style>\n",
              "\n",
              "    <script>\n",
              "      const buttonEl =\n",
              "        document.querySelector('#df-812e9d1a-40c0-42dd-86b9-a9a34b59f65d button.colab-df-convert');\n",
              "      buttonEl.style.display =\n",
              "        google.colab.kernel.accessAllowed ? 'block' : 'none';\n",
              "\n",
              "      async function convertToInteractive(key) {\n",
              "        const element = document.querySelector('#df-812e9d1a-40c0-42dd-86b9-a9a34b59f65d');\n",
              "        const dataTable =\n",
              "          await google.colab.kernel.invokeFunction('convertToInteractive',\n",
              "                                                    [key], {});\n",
              "        if (!dataTable) return;\n",
              "\n",
              "        const docLinkHtml = 'Like what you see? Visit the ' +\n",
              "          '<a target=\"_blank\" href=https://colab.research.google.com/notebooks/data_table.ipynb>data table notebook</a>'\n",
              "          + ' to learn more about interactive tables.';\n",
              "        element.innerHTML = '';\n",
              "        dataTable['output_type'] = 'display_data';\n",
              "        await google.colab.output.renderOutput(dataTable, element);\n",
              "        const docLink = document.createElement('div');\n",
              "        docLink.innerHTML = docLinkHtml;\n",
              "        element.appendChild(docLink);\n",
              "      }\n",
              "    </script>\n",
              "  </div>\n",
              "\n",
              "    </div>\n",
              "  </div>\n"
            ]
          },
          "metadata": {}
        },
        {
          "output_type": "stream",
          "name": "stdout",
          "text": [
            "Cantidad detectada de formato erroneo en el número de tienda: 0\n"
          ]
        }
      ]
    },
    {
      "cell_type": "markdown",
      "source": [
        "Se verifica que el formato en el atributo 'Fecha' sea válido, se es válido cuando el formato es dd/mm/yyyy"
      ],
      "metadata": {
        "id": "nWyZ0hXxzHgJ"
      }
    },
    {
      "cell_type": "code",
      "source": [
        "# Se realiza una adaptación del código utilizado en la materia 13MBID del presente master.\n",
        "\n",
        "# Se establece el formato ideal en el atributo\n",
        "def deteccion_tipo_fecha(row):\n",
        "    fecha = row['Fecha']\n",
        "    formato = '%d/%m/%Y'\n",
        "    try:\n",
        "        res = bool(datetime.strptime(fecha, formato))\n",
        "    except ValueError:\n",
        "        res = False\n",
        "\n",
        "    return res\n",
        "\n",
        "# Se realiza la comparación del formato actual vs el formato ideal\n",
        "df_general['formato_correcto_fecha'] = df_general.apply(lambda x : deteccion_tipo_fecha(x), axis = 1).rename('formato_correcto_fecha')\n",
        "\n",
        "#A partir de esto se podría verificar a través de una nueva columna auxiliar\n",
        "\n",
        "print(\"Se visualizan las filas con errores de formateo:\")\n",
        "display(df_general[df_general.formato_correcto_fecha == False])\n",
        "\n",
        "# Se filtran las filas con estos valores erróneos\n",
        "\n",
        "conteo = df_general[df_general.formato_correcto_fecha == False]\n",
        "\n",
        "#Y se cuenta la cantidad de errores de formateo\n",
        "\n",
        "print(f\"Cantidad detectada de formato erroneo en la fecha de la transacción: {conteo.shape[0]}\")"
      ],
      "metadata": {
        "colab": {
          "base_uri": "https://localhost:8080/",
          "height": 139
        },
        "id": "vxwgXiW7yz25",
        "outputId": "5c1dca04-6351-4e6b-d476-149453a46ff7"
      },
      "execution_count": null,
      "outputs": [
        {
          "output_type": "stream",
          "name": "stdout",
          "text": [
            "Se visualizan las filas con errores de formateo:\n"
          ]
        },
        {
          "output_type": "display_data",
          "data": {
            "text/plain": [
              "Empty DataFrame\n",
              "Columns: [C.O., Fecha, Item, Desc. detalle ext. 1, Cantidad inv., Tipo docto., Estado, LINEA, MARCA, DEPORTE, GENERO, SUB CATEGORIA, WEB COLOR, Valor descuentos local, Valor impuestos local, Valor subtotal local, Valor neto local, formato_correcto_co, formato_correcto_fecha]\n",
              "Index: []"
            ],
            "text/html": [
              "\n",
              "  <div id=\"df-28540654-7198-44d5-bd52-346bae9212e9\" class=\"colab-df-container\">\n",
              "    <div>\n",
              "<style scoped>\n",
              "    .dataframe tbody tr th:only-of-type {\n",
              "        vertical-align: middle;\n",
              "    }\n",
              "\n",
              "    .dataframe tbody tr th {\n",
              "        vertical-align: top;\n",
              "    }\n",
              "\n",
              "    .dataframe thead th {\n",
              "        text-align: right;\n",
              "    }\n",
              "</style>\n",
              "<table border=\"1\" class=\"dataframe\">\n",
              "  <thead>\n",
              "    <tr style=\"text-align: right;\">\n",
              "      <th></th>\n",
              "      <th>C.O.</th>\n",
              "      <th>Fecha</th>\n",
              "      <th>Item</th>\n",
              "      <th>Desc. detalle ext. 1</th>\n",
              "      <th>Cantidad inv.</th>\n",
              "      <th>Tipo docto.</th>\n",
              "      <th>Estado</th>\n",
              "      <th>LINEA</th>\n",
              "      <th>MARCA</th>\n",
              "      <th>DEPORTE</th>\n",
              "      <th>GENERO</th>\n",
              "      <th>SUB CATEGORIA</th>\n",
              "      <th>WEB COLOR</th>\n",
              "      <th>Valor descuentos local</th>\n",
              "      <th>Valor impuestos local</th>\n",
              "      <th>Valor subtotal local</th>\n",
              "      <th>Valor neto local</th>\n",
              "      <th>formato_correcto_co</th>\n",
              "      <th>formato_correcto_fecha</th>\n",
              "    </tr>\n",
              "  </thead>\n",
              "  <tbody>\n",
              "  </tbody>\n",
              "</table>\n",
              "</div>\n",
              "    <div class=\"colab-df-buttons\">\n",
              "\n",
              "  <div class=\"colab-df-container\">\n",
              "    <button class=\"colab-df-convert\" onclick=\"convertToInteractive('df-28540654-7198-44d5-bd52-346bae9212e9')\"\n",
              "            title=\"Convert this dataframe to an interactive table.\"\n",
              "            style=\"display:none;\">\n",
              "\n",
              "  <svg xmlns=\"http://www.w3.org/2000/svg\" height=\"24px\" viewBox=\"0 -960 960 960\">\n",
              "    <path d=\"M120-120v-720h720v720H120Zm60-500h600v-160H180v160Zm220 220h160v-160H400v160Zm0 220h160v-160H400v160ZM180-400h160v-160H180v160Zm440 0h160v-160H620v160ZM180-180h160v-160H180v160Zm440 0h160v-160H620v160Z\"/>\n",
              "  </svg>\n",
              "    </button>\n",
              "\n",
              "  <style>\n",
              "    .colab-df-container {\n",
              "      display:flex;\n",
              "      gap: 12px;\n",
              "    }\n",
              "\n",
              "    .colab-df-convert {\n",
              "      background-color: #E8F0FE;\n",
              "      border: none;\n",
              "      border-radius: 50%;\n",
              "      cursor: pointer;\n",
              "      display: none;\n",
              "      fill: #1967D2;\n",
              "      height: 32px;\n",
              "      padding: 0 0 0 0;\n",
              "      width: 32px;\n",
              "    }\n",
              "\n",
              "    .colab-df-convert:hover {\n",
              "      background-color: #E2EBFA;\n",
              "      box-shadow: 0px 1px 2px rgba(60, 64, 67, 0.3), 0px 1px 3px 1px rgba(60, 64, 67, 0.15);\n",
              "      fill: #174EA6;\n",
              "    }\n",
              "\n",
              "    .colab-df-buttons div {\n",
              "      margin-bottom: 4px;\n",
              "    }\n",
              "\n",
              "    [theme=dark] .colab-df-convert {\n",
              "      background-color: #3B4455;\n",
              "      fill: #D2E3FC;\n",
              "    }\n",
              "\n",
              "    [theme=dark] .colab-df-convert:hover {\n",
              "      background-color: #434B5C;\n",
              "      box-shadow: 0px 1px 3px 1px rgba(0, 0, 0, 0.15);\n",
              "      filter: drop-shadow(0px 1px 2px rgba(0, 0, 0, 0.3));\n",
              "      fill: #FFFFFF;\n",
              "    }\n",
              "  </style>\n",
              "\n",
              "    <script>\n",
              "      const buttonEl =\n",
              "        document.querySelector('#df-28540654-7198-44d5-bd52-346bae9212e9 button.colab-df-convert');\n",
              "      buttonEl.style.display =\n",
              "        google.colab.kernel.accessAllowed ? 'block' : 'none';\n",
              "\n",
              "      async function convertToInteractive(key) {\n",
              "        const element = document.querySelector('#df-28540654-7198-44d5-bd52-346bae9212e9');\n",
              "        const dataTable =\n",
              "          await google.colab.kernel.invokeFunction('convertToInteractive',\n",
              "                                                    [key], {});\n",
              "        if (!dataTable) return;\n",
              "\n",
              "        const docLinkHtml = 'Like what you see? Visit the ' +\n",
              "          '<a target=\"_blank\" href=https://colab.research.google.com/notebooks/data_table.ipynb>data table notebook</a>'\n",
              "          + ' to learn more about interactive tables.';\n",
              "        element.innerHTML = '';\n",
              "        dataTable['output_type'] = 'display_data';\n",
              "        await google.colab.output.renderOutput(dataTable, element);\n",
              "        const docLink = document.createElement('div');\n",
              "        docLink.innerHTML = docLinkHtml;\n",
              "        element.appendChild(docLink);\n",
              "      }\n",
              "    </script>\n",
              "  </div>\n",
              "\n",
              "    </div>\n",
              "  </div>\n"
            ]
          },
          "metadata": {}
        },
        {
          "output_type": "stream",
          "name": "stdout",
          "text": [
            "Cantidad detectada de formato erroneo en la fecha de la transacción: 0\n"
          ]
        }
      ]
    },
    {
      "cell_type": "markdown",
      "source": [
        "Se verifica que el formato en el atributo 'Item' sea válido, se es válido cuando el formato contiene 7 caracteres numéricos"
      ],
      "metadata": {
        "id": "NzalWpO72Ric"
      }
    },
    {
      "cell_type": "code",
      "source": [
        "# Se realiza una adaptación  del código utilizado en la materia 13MBID del presente master.\n",
        "\n",
        "# Se establece el formato ideal en el atributo y se realiza la comparación del formato actual vs el formato ideal\n",
        "df_general['formato_correcto_item'] = df_general['Item'].astype(str).str.match(\"^[0-9]{7}$\")\n",
        "\n",
        "# Visualizar filas con errores de formateo\n",
        "print(\"Se visualizan las filas con errores de formateo:\")\n",
        "display(df_general[~df_general.formato_correcto_item])\n",
        "\n",
        "# Filtrar filas con valores incorrectos\n",
        "conteo = df_general[~df_general.formato_correcto_item]\n",
        "\n",
        "# Contar la cantidad de errores de formateo\n",
        "print(f\"Cantidad detectada de formato erroneo en el item de la transacción: {conteo.shape[0]}\")\n"
      ],
      "metadata": {
        "colab": {
          "base_uri": "https://localhost:8080/",
          "height": 139
        },
        "id": "gUSnxtAr2dTD",
        "outputId": "7f4e7c73-76ee-4064-9e10-36d702a2e1b7"
      },
      "execution_count": null,
      "outputs": [
        {
          "output_type": "stream",
          "name": "stdout",
          "text": [
            "Se visualizan las filas con errores de formateo:\n"
          ]
        },
        {
          "output_type": "display_data",
          "data": {
            "text/plain": [
              "Empty DataFrame\n",
              "Columns: [C.O., Fecha, Item, Desc. detalle ext. 1, Cantidad inv., Tipo docto., Estado, LINEA, MARCA, DEPORTE, GENERO, SUB CATEGORIA, WEB COLOR, Valor descuentos local, Valor impuestos local, Valor subtotal local, Valor neto local, formato_correcto_co, formato_correcto_fecha, formato_correcto_item]\n",
              "Index: []"
            ],
            "text/html": [
              "\n",
              "  <div id=\"df-88d97bd4-6905-4a64-a3ab-b047c75e052a\" class=\"colab-df-container\">\n",
              "    <div>\n",
              "<style scoped>\n",
              "    .dataframe tbody tr th:only-of-type {\n",
              "        vertical-align: middle;\n",
              "    }\n",
              "\n",
              "    .dataframe tbody tr th {\n",
              "        vertical-align: top;\n",
              "    }\n",
              "\n",
              "    .dataframe thead th {\n",
              "        text-align: right;\n",
              "    }\n",
              "</style>\n",
              "<table border=\"1\" class=\"dataframe\">\n",
              "  <thead>\n",
              "    <tr style=\"text-align: right;\">\n",
              "      <th></th>\n",
              "      <th>C.O.</th>\n",
              "      <th>Fecha</th>\n",
              "      <th>Item</th>\n",
              "      <th>Desc. detalle ext. 1</th>\n",
              "      <th>Cantidad inv.</th>\n",
              "      <th>Tipo docto.</th>\n",
              "      <th>Estado</th>\n",
              "      <th>LINEA</th>\n",
              "      <th>MARCA</th>\n",
              "      <th>DEPORTE</th>\n",
              "      <th>GENERO</th>\n",
              "      <th>SUB CATEGORIA</th>\n",
              "      <th>WEB COLOR</th>\n",
              "      <th>Valor descuentos local</th>\n",
              "      <th>Valor impuestos local</th>\n",
              "      <th>Valor subtotal local</th>\n",
              "      <th>Valor neto local</th>\n",
              "      <th>formato_correcto_co</th>\n",
              "      <th>formato_correcto_fecha</th>\n",
              "      <th>formato_correcto_item</th>\n",
              "    </tr>\n",
              "  </thead>\n",
              "  <tbody>\n",
              "  </tbody>\n",
              "</table>\n",
              "</div>\n",
              "    <div class=\"colab-df-buttons\">\n",
              "\n",
              "  <div class=\"colab-df-container\">\n",
              "    <button class=\"colab-df-convert\" onclick=\"convertToInteractive('df-88d97bd4-6905-4a64-a3ab-b047c75e052a')\"\n",
              "            title=\"Convert this dataframe to an interactive table.\"\n",
              "            style=\"display:none;\">\n",
              "\n",
              "  <svg xmlns=\"http://www.w3.org/2000/svg\" height=\"24px\" viewBox=\"0 -960 960 960\">\n",
              "    <path d=\"M120-120v-720h720v720H120Zm60-500h600v-160H180v160Zm220 220h160v-160H400v160Zm0 220h160v-160H400v160ZM180-400h160v-160H180v160Zm440 0h160v-160H620v160ZM180-180h160v-160H180v160Zm440 0h160v-160H620v160Z\"/>\n",
              "  </svg>\n",
              "    </button>\n",
              "\n",
              "  <style>\n",
              "    .colab-df-container {\n",
              "      display:flex;\n",
              "      gap: 12px;\n",
              "    }\n",
              "\n",
              "    .colab-df-convert {\n",
              "      background-color: #E8F0FE;\n",
              "      border: none;\n",
              "      border-radius: 50%;\n",
              "      cursor: pointer;\n",
              "      display: none;\n",
              "      fill: #1967D2;\n",
              "      height: 32px;\n",
              "      padding: 0 0 0 0;\n",
              "      width: 32px;\n",
              "    }\n",
              "\n",
              "    .colab-df-convert:hover {\n",
              "      background-color: #E2EBFA;\n",
              "      box-shadow: 0px 1px 2px rgba(60, 64, 67, 0.3), 0px 1px 3px 1px rgba(60, 64, 67, 0.15);\n",
              "      fill: #174EA6;\n",
              "    }\n",
              "\n",
              "    .colab-df-buttons div {\n",
              "      margin-bottom: 4px;\n",
              "    }\n",
              "\n",
              "    [theme=dark] .colab-df-convert {\n",
              "      background-color: #3B4455;\n",
              "      fill: #D2E3FC;\n",
              "    }\n",
              "\n",
              "    [theme=dark] .colab-df-convert:hover {\n",
              "      background-color: #434B5C;\n",
              "      box-shadow: 0px 1px 3px 1px rgba(0, 0, 0, 0.15);\n",
              "      filter: drop-shadow(0px 1px 2px rgba(0, 0, 0, 0.3));\n",
              "      fill: #FFFFFF;\n",
              "    }\n",
              "  </style>\n",
              "\n",
              "    <script>\n",
              "      const buttonEl =\n",
              "        document.querySelector('#df-88d97bd4-6905-4a64-a3ab-b047c75e052a button.colab-df-convert');\n",
              "      buttonEl.style.display =\n",
              "        google.colab.kernel.accessAllowed ? 'block' : 'none';\n",
              "\n",
              "      async function convertToInteractive(key) {\n",
              "        const element = document.querySelector('#df-88d97bd4-6905-4a64-a3ab-b047c75e052a');\n",
              "        const dataTable =\n",
              "          await google.colab.kernel.invokeFunction('convertToInteractive',\n",
              "                                                    [key], {});\n",
              "        if (!dataTable) return;\n",
              "\n",
              "        const docLinkHtml = 'Like what you see? Visit the ' +\n",
              "          '<a target=\"_blank\" href=https://colab.research.google.com/notebooks/data_table.ipynb>data table notebook</a>'\n",
              "          + ' to learn more about interactive tables.';\n",
              "        element.innerHTML = '';\n",
              "        dataTable['output_type'] = 'display_data';\n",
              "        await google.colab.output.renderOutput(dataTable, element);\n",
              "        const docLink = document.createElement('div');\n",
              "        docLink.innerHTML = docLinkHtml;\n",
              "        element.appendChild(docLink);\n",
              "      }\n",
              "    </script>\n",
              "  </div>\n",
              "\n",
              "    </div>\n",
              "  </div>\n"
            ]
          },
          "metadata": {}
        },
        {
          "output_type": "stream",
          "name": "stdout",
          "text": [
            "Cantidad detectada de formato erroneo en el item de la transacción: 0\n"
          ]
        }
      ]
    },
    {
      "cell_type": "markdown",
      "source": [
        "#### Cumplimiento de formato de datos dataset específico"
      ],
      "metadata": {
        "id": "SUzLoe507lL4"
      }
    },
    {
      "cell_type": "markdown",
      "source": [
        "Se verifica que el formato en el atributo 'ID ALM' sea válido, se es válido cuando el formato contiene 3 caracteres numéricos"
      ],
      "metadata": {
        "id": "Qyp2uZfo7-4G"
      }
    },
    {
      "cell_type": "code",
      "source": [
        "# Se realiza una adaptación  del código utilizado en la materia 13MBID del presente master.\n",
        "\n",
        "# Se establece el formato ideal en el atributo y se realiza la comparación del formato actual vs el formato ideal\n",
        "df_especifico['formato_correcto_alm'] = df_especifico['ID ALM'].astype(str).str.match(\"^[0-9]{3}$\")\n",
        "\n",
        "# Visualizar filas con errores de formateo\n",
        "print(\"Se visualizan las filas con errores de formateo:\")\n",
        "display(df_especifico[~df_especifico.formato_correcto_alm])\n",
        "\n",
        "# Filtrar filas con valores incorrectos\n",
        "conteo = df_especifico[~df_especifico.formato_correcto_alm]\n",
        "\n",
        "# Contar la cantidad de errores de formateo\n",
        "print(f\"Cantidad detectada de formato erroneo en el número de tienda (ID ALM): {conteo.shape[0]}\")"
      ],
      "metadata": {
        "colab": {
          "base_uri": "https://localhost:8080/",
          "height": 88
        },
        "id": "fVGr-__q7o9h",
        "outputId": "2d4f363c-3df3-4da3-cc94-a0fade8f86ac"
      },
      "execution_count": null,
      "outputs": [
        {
          "output_type": "stream",
          "name": "stdout",
          "text": [
            "Se visualizan las filas con errores de formateo:\n"
          ]
        },
        {
          "output_type": "display_data",
          "data": {
            "text/plain": [
              "Empty DataFrame\n",
              "Columns: [ID ALM, Tipo de Marca, Nivel, formato_correcto_alm]\n",
              "Index: []"
            ],
            "text/html": [
              "\n",
              "  <div id=\"df-eb78fee9-14ed-4c99-94a4-8f13807ae515\" class=\"colab-df-container\">\n",
              "    <div>\n",
              "<style scoped>\n",
              "    .dataframe tbody tr th:only-of-type {\n",
              "        vertical-align: middle;\n",
              "    }\n",
              "\n",
              "    .dataframe tbody tr th {\n",
              "        vertical-align: top;\n",
              "    }\n",
              "\n",
              "    .dataframe thead th {\n",
              "        text-align: right;\n",
              "    }\n",
              "</style>\n",
              "<table border=\"1\" class=\"dataframe\">\n",
              "  <thead>\n",
              "    <tr style=\"text-align: right;\">\n",
              "      <th></th>\n",
              "      <th>ID ALM</th>\n",
              "      <th>Tipo de Marca</th>\n",
              "      <th>Nivel</th>\n",
              "      <th>formato_correcto_alm</th>\n",
              "    </tr>\n",
              "  </thead>\n",
              "  <tbody>\n",
              "  </tbody>\n",
              "</table>\n",
              "</div>\n",
              "    <div class=\"colab-df-buttons\">\n",
              "\n",
              "  <div class=\"colab-df-container\">\n",
              "    <button class=\"colab-df-convert\" onclick=\"convertToInteractive('df-eb78fee9-14ed-4c99-94a4-8f13807ae515')\"\n",
              "            title=\"Convert this dataframe to an interactive table.\"\n",
              "            style=\"display:none;\">\n",
              "\n",
              "  <svg xmlns=\"http://www.w3.org/2000/svg\" height=\"24px\" viewBox=\"0 -960 960 960\">\n",
              "    <path d=\"M120-120v-720h720v720H120Zm60-500h600v-160H180v160Zm220 220h160v-160H400v160Zm0 220h160v-160H400v160ZM180-400h160v-160H180v160Zm440 0h160v-160H620v160ZM180-180h160v-160H180v160Zm440 0h160v-160H620v160Z\"/>\n",
              "  </svg>\n",
              "    </button>\n",
              "\n",
              "  <style>\n",
              "    .colab-df-container {\n",
              "      display:flex;\n",
              "      gap: 12px;\n",
              "    }\n",
              "\n",
              "    .colab-df-convert {\n",
              "      background-color: #E8F0FE;\n",
              "      border: none;\n",
              "      border-radius: 50%;\n",
              "      cursor: pointer;\n",
              "      display: none;\n",
              "      fill: #1967D2;\n",
              "      height: 32px;\n",
              "      padding: 0 0 0 0;\n",
              "      width: 32px;\n",
              "    }\n",
              "\n",
              "    .colab-df-convert:hover {\n",
              "      background-color: #E2EBFA;\n",
              "      box-shadow: 0px 1px 2px rgba(60, 64, 67, 0.3), 0px 1px 3px 1px rgba(60, 64, 67, 0.15);\n",
              "      fill: #174EA6;\n",
              "    }\n",
              "\n",
              "    .colab-df-buttons div {\n",
              "      margin-bottom: 4px;\n",
              "    }\n",
              "\n",
              "    [theme=dark] .colab-df-convert {\n",
              "      background-color: #3B4455;\n",
              "      fill: #D2E3FC;\n",
              "    }\n",
              "\n",
              "    [theme=dark] .colab-df-convert:hover {\n",
              "      background-color: #434B5C;\n",
              "      box-shadow: 0px 1px 3px 1px rgba(0, 0, 0, 0.15);\n",
              "      filter: drop-shadow(0px 1px 2px rgba(0, 0, 0, 0.3));\n",
              "      fill: #FFFFFF;\n",
              "    }\n",
              "  </style>\n",
              "\n",
              "    <script>\n",
              "      const buttonEl =\n",
              "        document.querySelector('#df-eb78fee9-14ed-4c99-94a4-8f13807ae515 button.colab-df-convert');\n",
              "      buttonEl.style.display =\n",
              "        google.colab.kernel.accessAllowed ? 'block' : 'none';\n",
              "\n",
              "      async function convertToInteractive(key) {\n",
              "        const element = document.querySelector('#df-eb78fee9-14ed-4c99-94a4-8f13807ae515');\n",
              "        const dataTable =\n",
              "          await google.colab.kernel.invokeFunction('convertToInteractive',\n",
              "                                                    [key], {});\n",
              "        if (!dataTable) return;\n",
              "\n",
              "        const docLinkHtml = 'Like what you see? Visit the ' +\n",
              "          '<a target=\"_blank\" href=https://colab.research.google.com/notebooks/data_table.ipynb>data table notebook</a>'\n",
              "          + ' to learn more about interactive tables.';\n",
              "        element.innerHTML = '';\n",
              "        dataTable['output_type'] = 'display_data';\n",
              "        await google.colab.output.renderOutput(dataTable, element);\n",
              "        const docLink = document.createElement('div');\n",
              "        docLink.innerHTML = docLinkHtml;\n",
              "        element.appendChild(docLink);\n",
              "      }\n",
              "    </script>\n",
              "  </div>\n",
              "\n",
              "    </div>\n",
              "  </div>\n"
            ]
          },
          "metadata": {}
        },
        {
          "output_type": "stream",
          "name": "stdout",
          "text": [
            "Cantidad detectada de formato erroneo en el número de tienda (ID ALM): 0\n"
          ]
        }
      ]
    },
    {
      "cell_type": "markdown",
      "source": [
        "#### Cumplimiento de integridad referencial entre ambos datasets"
      ],
      "metadata": {
        "id": "_U7u8lMiDYr4"
      }
    },
    {
      "cell_type": "markdown",
      "source": [
        "Se determina la correspondencia de los valores en la columna 'C.O.' del dataset general con los valores presentes en el dataset específico, pues cada valor en la columna 'C.O.' del dataset general debe tener una correspondencia directa en 'ID ALM' del dataset específico, lo que garantiza la integridad de los datos utilizados.\n",
        "\n",
        "Se eliminan los posibles espacios de los atributos evaluados, con el fin de realizar la comparación única y exclusivamente de los valores."
      ],
      "metadata": {
        "id": "upS-gwjpES_n"
      }
    },
    {
      "cell_type": "code",
      "source": [
        "# Se realiza una adaptación del código utilizado en la materia 13MBID del presente master.\n",
        "\n",
        "# Se obtienen los valores únicos de la columna 'C.O.' en el dataset general\n",
        "valores_co_general = df_general['C.O.'].str.strip().unique()\n",
        "\n",
        "# Se verifica que cada valor de 'C.O.' del dataset general esté en 'ID ALM' del dataset específico\n",
        "co_presentes = df_general['C.O.'].str.strip().isin(df_especifico['ID ALM']).all()\n",
        "valores_no_presentes = df_general[~df_general['C.O.'].str.strip().isin(df_especifico['ID ALM'])]['C.O.'].unique()\n",
        "\n",
        "# Contar la cantidad de errores de correspondencia\n",
        "if co_presentes:\n",
        "    print(\"Todos los valores de C.O. en el dataset general están presentes en 'ID ALM' del dataset específico.\")\n",
        "else:\n",
        "    cantidad_errores_integridad = len(valores_no_presentes)\n",
        "    print(f\"Algunos valores de C.O. en el dataset general no están presentes en 'ID ALM'del dataset específico. \\nCantidad de errores de correspondencia: {cantidad_errores_integridad}\",\"\\n\")\n",
        "\n",
        "    if cantidad_errores_integridad > 0:\n",
        "        print(\"Valores de C.O. en el dataset general que presentan problemas de correspondencia:\")\n",
        "        for valor in valores_no_presentes:\n",
        "            print(valor)\n"
      ],
      "metadata": {
        "colab": {
          "base_uri": "https://localhost:8080/"
        },
        "id": "K0CbwW-kGZop",
        "outputId": "3992fde9-662b-4542-c6a7-18e196aad30c"
      },
      "execution_count": null,
      "outputs": [
        {
          "output_type": "stream",
          "name": "stdout",
          "text": [
            "Algunos valores de C.O. en el dataset general no están presentes en 'ID ALM'del dataset específico. \n",
            "Cantidad de errores de correspondencia: 14 \n",
            "\n",
            "Valores de C.O. en el dataset general que presentan problemas de correspondencia:\n",
            "038\n",
            "021\n",
            "020\n",
            "036\n",
            "012\n",
            "999\n",
            "102\n",
            "040\n",
            "103\n",
            "041\n",
            "042\n",
            "104\n",
            "998\n",
            "043\n"
          ]
        }
      ]
    },
    {
      "cell_type": "markdown",
      "source": [
        "#### Cumplimiento de reglas del negocio para el dataset general"
      ],
      "metadata": {
        "id": "vyFN8W5EKpAU"
      }
    },
    {
      "cell_type": "markdown",
      "source": [
        "La fecha de la transacción debe ser menor o igual a la fecha actual, pues no es posible realizar ventas con fechas futuras."
      ],
      "metadata": {
        "id": "UlA3tQepK6YD"
      }
    },
    {
      "cell_type": "code",
      "source": [
        "# Se realiza una adaptación del código utilizado en la materia 13MBID del presente master.\n",
        "import datetime\n",
        "\n",
        "# Se obtiene la fecha actual\n",
        "fecha_actual = datetime.date.today()\n",
        "\n",
        "# Se convierte la columna 'Fecha' al formato datetime\n",
        "df_general['Fecha'] = pd.to_datetime(df_general['Fecha'], format='%d/%m/%Y').dt.date\n",
        "\n",
        "# Filtrar filas donde 'Fecha' sea mayor que la fecha actual\n",
        "regla_fecha = df_general[df_general['Fecha'] > fecha_actual]\n",
        "\n",
        "cantidad_regla_fecha = regla_fecha.shape[0]\n",
        "\n",
        "print(f\"Cantidad de filas con fechas que no cumplen la regla estipulada: {cantidad_regla_fecha}\")\n"
      ],
      "metadata": {
        "colab": {
          "base_uri": "https://localhost:8080/"
        },
        "id": "kphVxr9pNUR3",
        "outputId": "f048d7d8-27f0-4b4f-aad6-56723ce3da36"
      },
      "execution_count": null,
      "outputs": [
        {
          "output_type": "stream",
          "name": "stdout",
          "text": [
            "Cantidad de filas con fechas que no cumplen la regla estipulada: 0\n"
          ]
        }
      ]
    },
    {
      "cell_type": "markdown",
      "source": [
        "Teniendo en cuenta que el valor subtotal no tiene en cuenta los impuestos, se realiza su adición (valor subtotal local + valor impuestos) con el fin de comparar versus el valor neto local, asi se validará la coherencia del valor declarado vs el valor calculado."
      ],
      "metadata": {
        "id": "_7XgfV3xOM-l"
      }
    },
    {
      "cell_type": "code",
      "source": [
        "# Se realiza una adaptación del código utilizado en la materia 13MBID del presente master.\n",
        "\n",
        "# Función para convertir valores de dinero a formato numérico para la correcta comparación de valores.\n",
        "def convertir_a_numero_para_comparacion(valor):\n",
        "    valor_formateado = valor.replace('$', '').replace(',', '')\n",
        "    valor_numerico = float(valor_formateado)\n",
        "    return valor_numerico\n",
        "\n",
        "# Se realiza la comparación con los valores en el formato adecuado\n",
        "regla_valor = df_general.copy()\n",
        "columnas_dinero = ['Valor descuentos local', 'Valor impuestos local', 'Valor subtotal local', 'Valor neto local']\n",
        "\n",
        "for col in columnas_dinero:\n",
        "    regla_valor[col] = regla_valor[col].apply(convertir_a_numero_para_comparacion)\n",
        "\n",
        "# Filtrar filas donde el valor subtotal local + valor impuestos local sea distinto al valor neto local\n",
        "regla_valor = regla_valor[abs(regla_valor['Valor subtotal local'] + regla_valor['Valor impuestos local'] != regla_valor['Valor neto local'])]\n",
        "\n",
        "cantidad_regla_valor = regla_valor.shape[0]\n",
        "print(f\"Cantidad de filas con fechas que no cumplen la regla estipulada: {cantidad_regla_valor}\")"
      ],
      "metadata": {
        "colab": {
          "base_uri": "https://localhost:8080/"
        },
        "id": "shu608XWPa3z",
        "outputId": "ebf0bd07-3332-4075-9f4f-dd2289b992a2"
      },
      "execution_count": null,
      "outputs": [
        {
          "output_type": "stream",
          "name": "stdout",
          "text": [
            "Cantidad de filas con fechas que no cumplen la regla estipulada: 0\n"
          ]
        }
      ]
    },
    {
      "cell_type": "code",
      "source": [
        "print(\"Estas son las dimensiones del dataset general después de la verificación de la calidad de los datos : \\n\", df_general.shape ,'\\n')\n",
        "print(\"Estas son las dimensiones del dataset especifico después de la verificación de la calidad de los datos: \\n\", df_especifico.shape )"
      ],
      "metadata": {
        "colab": {
          "base_uri": "https://localhost:8080/"
        },
        "id": "yDVhkCqP98iI",
        "outputId": "e056c002-1b40-4cac-8ab2-169c37cd337f"
      },
      "execution_count": null,
      "outputs": [
        {
          "output_type": "stream",
          "name": "stdout",
          "text": [
            "Estas son las dimensiones del dataset general después de la verificación de la calidad de los datos : \n",
            " (704688, 20) \n",
            "\n",
            "Estas son las dimensiones del dataset especifico después de la verificación de la calidad de los datos: \n",
            " (23, 4)\n"
          ]
        }
      ]
    },
    {
      "cell_type": "markdown",
      "source": [
        "#Apéndice III:"
      ],
      "metadata": {
        "id": "kfTHzh3qLVwT"
      }
    },
    {
      "cell_type": "markdown",
      "source": [
        "## Preparación de los datos"
      ],
      "metadata": {
        "id": "f8xSwlJWVzBo"
      }
    },
    {
      "cell_type": "markdown",
      "source": [
        "#### Formateo de los datos"
      ],
      "metadata": {
        "id": "fQk3XMjrXgz5"
      }
    },
    {
      "cell_type": "markdown",
      "source": [
        "Se eliminan los espacios en blanco al inicio y al final de los datos del dataset general, dado que el ERP llena los campos con espacios para completar la longitud del campo.\n"
      ],
      "metadata": {
        "id": "fBtkybPwZUHx"
      }
    },
    {
      "cell_type": "code",
      "source": [
        "df_general.columns = df_general.columns.str.strip()"
      ],
      "metadata": {
        "id": "ljLgA3JVZTtZ"
      },
      "execution_count": null,
      "outputs": []
    },
    {
      "cell_type": "markdown",
      "source": [
        "Se modifica el formato de los siguientes campos:\n",
        "\n",
        "-Cantidad inv.\n",
        "\n",
        "-Valor descuentos local\n",
        "\n",
        "-Valor impuestos local\n",
        "\n",
        "-Valor subtotal local\n",
        "\n",
        "-Valor neto local\n",
        "\n",
        "\n",
        "\n",
        "Esto se realiza con el fin de obtener valores numéricos"
      ],
      "metadata": {
        "id": "9r2Rwkhra3IA"
      }
    },
    {
      "cell_type": "code",
      "source": [
        "# Código por elaboración propia\n",
        "\n",
        "df_general[\"Cantidad inv.\"]= df_general[\"Cantidad inv.\"].str.replace(\"\\\\.00\",\"\")\n",
        "df_general[\"Cantidad inv.\"]= df_general[\"Cantidad inv.\"].str.replace(\"\\\\,000\",\"\")\n",
        "\n",
        "columnas_a_ajustar = [\"Valor descuentos local\", \"Valor impuestos local\", \"Valor subtotal local\", \"Valor neto local\"]\n",
        "\n",
        "for col in columnas_a_ajustar:\n",
        "    df_general[col] = df_general[col].str.replace(\"\\\\.00\", \"\")\n",
        "    df_general[col] = df_general[col].str.replace(\",\", \"\")\n",
        "    df_general[col] = df_general[col].str.replace(\"$\", \"\")\n",
        "    df_general[col] = df_general[col].str.replace(\" \", \"\")\n"
      ],
      "metadata": {
        "colab": {
          "base_uri": "https://localhost:8080/"
        },
        "id": "epoyg5fKbg8s",
        "outputId": "39f78d4f-7752-41ac-a242-66b493ca239d"
      },
      "execution_count": null,
      "outputs": [
        {
          "output_type": "stream",
          "name": "stderr",
          "text": [
            "<ipython-input-26-4f76285d06ed>:3: FutureWarning: The default value of regex will change from True to False in a future version.\n",
            "  df_general[\"Cantidad inv.\"]= df_general[\"Cantidad inv.\"].str.replace(\"\\\\.00\",\"\")\n",
            "<ipython-input-26-4f76285d06ed>:4: FutureWarning: The default value of regex will change from True to False in a future version.\n",
            "  df_general[\"Cantidad inv.\"]= df_general[\"Cantidad inv.\"].str.replace(\"\\\\,000\",\"\")\n",
            "<ipython-input-26-4f76285d06ed>:9: FutureWarning: The default value of regex will change from True to False in a future version.\n",
            "  df_general[col] = df_general[col].str.replace(\"\\\\.00\", \"\")\n",
            "<ipython-input-26-4f76285d06ed>:11: FutureWarning: The default value of regex will change from True to False in a future version. In addition, single character regular expressions will *not* be treated as literal strings when regex=True.\n",
            "  df_general[col] = df_general[col].str.replace(\"$\", \"\")\n"
          ]
        }
      ]
    },
    {
      "cell_type": "markdown",
      "source": [
        "Se comprueba el correcto formateo de los datos visualmente:"
      ],
      "metadata": {
        "id": "ui9Q--Unc3Dd"
      }
    },
    {
      "cell_type": "code",
      "source": [
        "df_general.head(2)"
      ],
      "metadata": {
        "colab": {
          "base_uri": "https://localhost:8080/",
          "height": 202
        },
        "id": "G_2UGH7ycmS-",
        "outputId": "f9e51c64-db00-4ebc-f042-e77d4c3c47c5"
      },
      "execution_count": null,
      "outputs": [
        {
          "output_type": "execute_result",
          "data": {
            "text/plain": [
              "  C.O.       Fecha     Item Desc. detalle ext. 1 Cantidad inv. Tipo docto.  \\\n",
              "0  017  2022-01-02  0000737            5.5Y                  1         FVP   \n",
              "1  006  2022-01-02  0002513            L                     1         FVP   \n",
              "\n",
              "     Estado    LINEA MARCA        DEPORTE    GENERO      SUB CATEGORIA  \\\n",
              "0  Aprobada  CALZADO  NIKE         FUTBOL  INFANTIL  CESPED ARTIFICIAL   \n",
              "1  Aprobada     ROPA  NIKE  ENTRENAMIENTO    HOMBRE        MANGA CORTA   \n",
              "\n",
              "  WEB COLOR Valor descuentos local Valor impuestos local Valor subtotal local  \\\n",
              "0     NEGRO                 167983                 31917               167983   \n",
              "1     NEGRO                  12181                 20829               109626   \n",
              "\n",
              "  Valor neto local  formato_correcto_co  formato_correcto_fecha  \\\n",
              "0           199900                 True                    True   \n",
              "1           130455                 True                    True   \n",
              "\n",
              "   formato_correcto_item  \n",
              "0                   True  \n",
              "1                   True  "
            ],
            "text/html": [
              "\n",
              "  <div id=\"df-9426048e-a473-4f2b-8219-ef542e9265dc\" class=\"colab-df-container\">\n",
              "    <div>\n",
              "<style scoped>\n",
              "    .dataframe tbody tr th:only-of-type {\n",
              "        vertical-align: middle;\n",
              "    }\n",
              "\n",
              "    .dataframe tbody tr th {\n",
              "        vertical-align: top;\n",
              "    }\n",
              "\n",
              "    .dataframe thead th {\n",
              "        text-align: right;\n",
              "    }\n",
              "</style>\n",
              "<table border=\"1\" class=\"dataframe\">\n",
              "  <thead>\n",
              "    <tr style=\"text-align: right;\">\n",
              "      <th></th>\n",
              "      <th>C.O.</th>\n",
              "      <th>Fecha</th>\n",
              "      <th>Item</th>\n",
              "      <th>Desc. detalle ext. 1</th>\n",
              "      <th>Cantidad inv.</th>\n",
              "      <th>Tipo docto.</th>\n",
              "      <th>Estado</th>\n",
              "      <th>LINEA</th>\n",
              "      <th>MARCA</th>\n",
              "      <th>DEPORTE</th>\n",
              "      <th>GENERO</th>\n",
              "      <th>SUB CATEGORIA</th>\n",
              "      <th>WEB COLOR</th>\n",
              "      <th>Valor descuentos local</th>\n",
              "      <th>Valor impuestos local</th>\n",
              "      <th>Valor subtotal local</th>\n",
              "      <th>Valor neto local</th>\n",
              "      <th>formato_correcto_co</th>\n",
              "      <th>formato_correcto_fecha</th>\n",
              "      <th>formato_correcto_item</th>\n",
              "    </tr>\n",
              "  </thead>\n",
              "  <tbody>\n",
              "    <tr>\n",
              "      <th>0</th>\n",
              "      <td>017</td>\n",
              "      <td>2022-01-02</td>\n",
              "      <td>0000737</td>\n",
              "      <td>5.5Y</td>\n",
              "      <td>1</td>\n",
              "      <td>FVP</td>\n",
              "      <td>Aprobada</td>\n",
              "      <td>CALZADO</td>\n",
              "      <td>NIKE</td>\n",
              "      <td>FUTBOL</td>\n",
              "      <td>INFANTIL</td>\n",
              "      <td>CESPED ARTIFICIAL</td>\n",
              "      <td>NEGRO</td>\n",
              "      <td>167983</td>\n",
              "      <td>31917</td>\n",
              "      <td>167983</td>\n",
              "      <td>199900</td>\n",
              "      <td>True</td>\n",
              "      <td>True</td>\n",
              "      <td>True</td>\n",
              "    </tr>\n",
              "    <tr>\n",
              "      <th>1</th>\n",
              "      <td>006</td>\n",
              "      <td>2022-01-02</td>\n",
              "      <td>0002513</td>\n",
              "      <td>L</td>\n",
              "      <td>1</td>\n",
              "      <td>FVP</td>\n",
              "      <td>Aprobada</td>\n",
              "      <td>ROPA</td>\n",
              "      <td>NIKE</td>\n",
              "      <td>ENTRENAMIENTO</td>\n",
              "      <td>HOMBRE</td>\n",
              "      <td>MANGA CORTA</td>\n",
              "      <td>NEGRO</td>\n",
              "      <td>12181</td>\n",
              "      <td>20829</td>\n",
              "      <td>109626</td>\n",
              "      <td>130455</td>\n",
              "      <td>True</td>\n",
              "      <td>True</td>\n",
              "      <td>True</td>\n",
              "    </tr>\n",
              "  </tbody>\n",
              "</table>\n",
              "</div>\n",
              "    <div class=\"colab-df-buttons\">\n",
              "\n",
              "  <div class=\"colab-df-container\">\n",
              "    <button class=\"colab-df-convert\" onclick=\"convertToInteractive('df-9426048e-a473-4f2b-8219-ef542e9265dc')\"\n",
              "            title=\"Convert this dataframe to an interactive table.\"\n",
              "            style=\"display:none;\">\n",
              "\n",
              "  <svg xmlns=\"http://www.w3.org/2000/svg\" height=\"24px\" viewBox=\"0 -960 960 960\">\n",
              "    <path d=\"M120-120v-720h720v720H120Zm60-500h600v-160H180v160Zm220 220h160v-160H400v160Zm0 220h160v-160H400v160ZM180-400h160v-160H180v160Zm440 0h160v-160H620v160ZM180-180h160v-160H180v160Zm440 0h160v-160H620v160Z\"/>\n",
              "  </svg>\n",
              "    </button>\n",
              "\n",
              "  <style>\n",
              "    .colab-df-container {\n",
              "      display:flex;\n",
              "      gap: 12px;\n",
              "    }\n",
              "\n",
              "    .colab-df-convert {\n",
              "      background-color: #E8F0FE;\n",
              "      border: none;\n",
              "      border-radius: 50%;\n",
              "      cursor: pointer;\n",
              "      display: none;\n",
              "      fill: #1967D2;\n",
              "      height: 32px;\n",
              "      padding: 0 0 0 0;\n",
              "      width: 32px;\n",
              "    }\n",
              "\n",
              "    .colab-df-convert:hover {\n",
              "      background-color: #E2EBFA;\n",
              "      box-shadow: 0px 1px 2px rgba(60, 64, 67, 0.3), 0px 1px 3px 1px rgba(60, 64, 67, 0.15);\n",
              "      fill: #174EA6;\n",
              "    }\n",
              "\n",
              "    .colab-df-buttons div {\n",
              "      margin-bottom: 4px;\n",
              "    }\n",
              "\n",
              "    [theme=dark] .colab-df-convert {\n",
              "      background-color: #3B4455;\n",
              "      fill: #D2E3FC;\n",
              "    }\n",
              "\n",
              "    [theme=dark] .colab-df-convert:hover {\n",
              "      background-color: #434B5C;\n",
              "      box-shadow: 0px 1px 3px 1px rgba(0, 0, 0, 0.15);\n",
              "      filter: drop-shadow(0px 1px 2px rgba(0, 0, 0, 0.3));\n",
              "      fill: #FFFFFF;\n",
              "    }\n",
              "  </style>\n",
              "\n",
              "    <script>\n",
              "      const buttonEl =\n",
              "        document.querySelector('#df-9426048e-a473-4f2b-8219-ef542e9265dc button.colab-df-convert');\n",
              "      buttonEl.style.display =\n",
              "        google.colab.kernel.accessAllowed ? 'block' : 'none';\n",
              "\n",
              "      async function convertToInteractive(key) {\n",
              "        const element = document.querySelector('#df-9426048e-a473-4f2b-8219-ef542e9265dc');\n",
              "        const dataTable =\n",
              "          await google.colab.kernel.invokeFunction('convertToInteractive',\n",
              "                                                    [key], {});\n",
              "        if (!dataTable) return;\n",
              "\n",
              "        const docLinkHtml = 'Like what you see? Visit the ' +\n",
              "          '<a target=\"_blank\" href=https://colab.research.google.com/notebooks/data_table.ipynb>data table notebook</a>'\n",
              "          + ' to learn more about interactive tables.';\n",
              "        element.innerHTML = '';\n",
              "        dataTable['output_type'] = 'display_data';\n",
              "        await google.colab.output.renderOutput(dataTable, element);\n",
              "        const docLink = document.createElement('div');\n",
              "        docLink.innerHTML = docLinkHtml;\n",
              "        element.appendChild(docLink);\n",
              "      }\n",
              "    </script>\n",
              "  </div>\n",
              "\n",
              "    </div>\n",
              "  </div>\n"
            ]
          },
          "metadata": {},
          "execution_count": 27
        }
      ]
    },
    {
      "cell_type": "markdown",
      "source": [
        "Se ajusta el formato de cantidad entera para las columnas modificadas\n"
      ],
      "metadata": {
        "id": "iUzQO3CtdTad"
      }
    },
    {
      "cell_type": "code",
      "source": [
        "df_general= df_general.astype({ \"Cantidad inv.\":int,\"Valor descuentos local\":int, \"Valor impuestos local\":int, \"Valor subtotal local\":int, \"Valor neto local\":int})"
      ],
      "metadata": {
        "id": "9qnKEK6MdSoE"
      },
      "execution_count": null,
      "outputs": []
    },
    {
      "cell_type": "markdown",
      "source": [
        "Se comprueba el correcto formato en los datos:"
      ],
      "metadata": {
        "id": "5q3L7jCPusfc"
      }
    },
    {
      "cell_type": "code",
      "source": [
        "df_general.info()"
      ],
      "metadata": {
        "colab": {
          "base_uri": "https://localhost:8080/"
        },
        "id": "sAIxebmzdvPt",
        "outputId": "60adb3d5-862e-4d3e-887d-71d852423d3c"
      },
      "execution_count": null,
      "outputs": [
        {
          "output_type": "stream",
          "name": "stdout",
          "text": [
            "<class 'pandas.core.frame.DataFrame'>\n",
            "RangeIndex: 704688 entries, 0 to 704687\n",
            "Data columns (total 20 columns):\n",
            " #   Column                  Non-Null Count   Dtype \n",
            "---  ------                  --------------   ----- \n",
            " 0   C.O.                    704688 non-null  object\n",
            " 1   Fecha                   704688 non-null  object\n",
            " 2   Item                    704688 non-null  object\n",
            " 3   Desc. detalle ext. 1    627977 non-null  object\n",
            " 4   Cantidad inv.           704688 non-null  int64 \n",
            " 5   Tipo docto.             704688 non-null  object\n",
            " 6   Estado                  704688 non-null  object\n",
            " 7   LINEA                   704688 non-null  object\n",
            " 8   MARCA                   704688 non-null  object\n",
            " 9   DEPORTE                 704688 non-null  object\n",
            " 10  GENERO                  704688 non-null  object\n",
            " 11  SUB CATEGORIA           704688 non-null  object\n",
            " 12  WEB COLOR               704688 non-null  object\n",
            " 13  Valor descuentos local  704688 non-null  int64 \n",
            " 14  Valor impuestos local   704688 non-null  int64 \n",
            " 15  Valor subtotal local    704688 non-null  int64 \n",
            " 16  Valor neto local        704688 non-null  int64 \n",
            " 17  formato_correcto_co     704688 non-null  bool  \n",
            " 18  formato_correcto_fecha  704688 non-null  bool  \n",
            " 19  formato_correcto_item   704688 non-null  bool  \n",
            "dtypes: bool(3), int64(5), object(12)\n",
            "memory usage: 93.4+ MB\n"
          ]
        }
      ]
    },
    {
      "cell_type": "markdown",
      "source": [
        "Se modifica el nombre a la columna 'Desc. detalle ext. 1' por 'Talla' para que pueda ser rápidamente identificada\n"
      ],
      "metadata": {
        "id": "HL1b1k0NeMkx"
      }
    },
    {
      "cell_type": "code",
      "source": [
        "df_general.rename(columns = {\"Desc. detalle ext. 1\":\"Talla\"}, inplace=True)"
      ],
      "metadata": {
        "id": "4Tebs-0ceNEm"
      },
      "execution_count": null,
      "outputs": []
    },
    {
      "cell_type": "markdown",
      "source": [
        "#### Limpieza de los datos"
      ],
      "metadata": {
        "id": "PiTljCdoXWV9"
      }
    },
    {
      "cell_type": "markdown",
      "source": [
        "Se eliminan las filas que contienen los 'Tipo de item:Servicio' especificados por el experto del negocio.\n",
        "\n",
        "Tener en cuenta, que este paso va a afectar el tamaño inicial del dataset."
      ],
      "metadata": {
        "id": "3mL-k0T9yrvR"
      }
    },
    {
      "cell_type": "code",
      "source": [
        "# Código por elaboración propia\n",
        "\n",
        "items_servicio = ['0005827', '0005594', '0005932', '0005515', '0040344','0040343', '0062619', '0062621', '0062618', '0062620',\n",
        "                    '0062617', '0062616','0039860' ,'0039861', '0039856', '0039857', '0069182']\n",
        "\n",
        "\n",
        "for item in items_servicio:\n",
        "    df_general.drop(df_general.index[df_general['Item'] == item], inplace=True)\n"
      ],
      "metadata": {
        "id": "r41QxfvNyht2"
      },
      "execution_count": null,
      "outputs": []
    },
    {
      "cell_type": "markdown",
      "source": [
        "Se confirman los valores existentes en el estado de cada transacción"
      ],
      "metadata": {
        "id": "1jiRL7qz4Ven"
      }
    },
    {
      "cell_type": "code",
      "source": [
        "valores_estado = df_general['Estado'].unique()\n",
        "\n",
        "print(valores_estado)"
      ],
      "metadata": {
        "colab": {
          "base_uri": "https://localhost:8080/"
        },
        "id": "9suMTJB74MkR",
        "outputId": "9d2c6fd4-cae2-470a-f891-e1c79b57bbb3"
      },
      "execution_count": null,
      "outputs": [
        {
          "output_type": "stream",
          "name": "stdout",
          "text": [
            "['Aprobada' 'Anulado']\n"
          ]
        }
      ]
    },
    {
      "cell_type": "markdown",
      "source": [
        "Se eliminan las filas que contienen transacciones que se encuentran en ‘Estado:Anulado’\n",
        "\n",
        "Tener en cuenta, que este paso va a afectar el tamaño del dataset."
      ],
      "metadata": {
        "id": "IAgsGV-6448x"
      }
    },
    {
      "cell_type": "code",
      "source": [
        "df_general.drop(df_general.index[df_general['Estado'] == 'Anulado'], inplace=True)"
      ],
      "metadata": {
        "id": "4bbQ1Fb65PVw"
      },
      "execution_count": null,
      "outputs": []
    },
    {
      "cell_type": "markdown",
      "source": [
        "Se eliminan las filas que contienen los tipos de documentos que simbolizan una devolución y no una venta, es decir que el tipo de documento inicia por la letra 'N'.\n",
        "\n",
        "Tener en cuenta, que este paso va a afectar el tamaño del dataset."
      ],
      "metadata": {
        "id": "K1uc_ZLD5kMW"
      }
    },
    {
      "cell_type": "code",
      "source": [
        "df_general.drop(df_general.index[df_general['Tipo docto.'].str.startswith('N')], inplace=True)\n",
        "\n",
        "df_general.drop(df_general.index[df_general['Cantidad inv.'] < 0], inplace=True)\n"
      ],
      "metadata": {
        "id": "2lSsuJC65jwp"
      },
      "execution_count": null,
      "outputs": []
    },
    {
      "cell_type": "code",
      "source": [
        "print(\"Estas son las dimensiones del dataset general después de la limpieza de los datos : \\n\", df_general.shape)"
      ],
      "metadata": {
        "colab": {
          "base_uri": "https://localhost:8080/"
        },
        "id": "uPtUCot15VOU",
        "outputId": "7ae5793f-3bf2-4a0d-ee3a-1628d6d01cb2"
      },
      "execution_count": null,
      "outputs": [
        {
          "output_type": "stream",
          "name": "stdout",
          "text": [
            "Estas son las dimensiones del dataset general después de la limpieza de los datos : \n",
            " (598258, 20)\n"
          ]
        }
      ]
    },
    {
      "cell_type": "markdown",
      "source": [
        "Se repite la validación de mising values"
      ],
      "metadata": {
        "id": "lL4mkEsQ7Uvk"
      }
    },
    {
      "cell_type": "code",
      "source": [
        "# Se realiza una adaptación del código utilizado en la materia 05MBID del presente master.\n",
        "\n",
        "# Se crea un diccionario para almacenar la cantidad de valores faltantes por columna\n",
        "nulos_por_columna = {}\n",
        "\n",
        "# Se genera la iteracion sobre las columnas del dataset\n",
        "for col in df_general.columns:\n",
        "    nulos = df_general[col].isna().sum()  # Cuenta los valores nulos\n",
        "    if df_general[col].dtype == 'object':\n",
        "        vacios = df_general[col].astype(str).str.strip().eq('').sum()  # Cuenta los valores vacíos\n",
        "    else:\n",
        "        vacios = 0\n",
        "    nulos_por_columna[col] = nulos + vacios  # Suma los valores nulos y los vacíos\n",
        "\n",
        "#  Se crea un DataFrame a partir del diccionario\n",
        "nulos_x_columna = pd.DataFrame(nulos_por_columna.items(), columns=['Columna', 'Cantidad de Nulos y Vacíos'])\n",
        "\n",
        "print(f\"Cantidad de filas que tienen valores nulos y vacíos por atributo para el dataset general:\\n \\n{nulos_x_columna}\")"
      ],
      "metadata": {
        "colab": {
          "base_uri": "https://localhost:8080/"
        },
        "id": "QZ8KhXgR7dZs",
        "outputId": "ec58a714-767c-4bde-adf5-9e10a9af83f7"
      },
      "execution_count": null,
      "outputs": [
        {
          "output_type": "stream",
          "name": "stdout",
          "text": [
            "Cantidad de filas que tienen valores nulos y vacíos por atributo para el dataset general:\n",
            " \n",
            "                   Columna  Cantidad de Nulos y Vacíos\n",
            "0                     C.O.                           0\n",
            "1                    Fecha                           0\n",
            "2                     Item                           0\n",
            "3                    Talla                           0\n",
            "4            Cantidad inv.                           0\n",
            "5              Tipo docto.                           0\n",
            "6                   Estado                           0\n",
            "7                    LINEA                           0\n",
            "8                    MARCA                           0\n",
            "9                  DEPORTE                           0\n",
            "10                  GENERO                           0\n",
            "11           SUB CATEGORIA                           0\n",
            "12               WEB COLOR                           0\n",
            "13  Valor descuentos local                           0\n",
            "14   Valor impuestos local                           0\n",
            "15    Valor subtotal local                           0\n",
            "16        Valor neto local                           0\n",
            "17     formato_correcto_co                           0\n",
            "18  formato_correcto_fecha                           0\n",
            "19   formato_correcto_item                           0\n"
          ]
        }
      ]
    },
    {
      "cell_type": "markdown",
      "source": [
        "Se realiza la evaluación de outliers, donde se considera critico que los valores atipicos representen mas del 20% de los datos."
      ],
      "metadata": {
        "id": "psP0SgLugkx6"
      }
    },
    {
      "cell_type": "code",
      "source": [
        "# Se realiza una adaptación del código utilizado en la materia 13MBID del presente master.\n",
        "\n",
        "def contar_At(df):\n",
        "    at_count = {}\n",
        "    numeric_cols = df.select_dtypes(include=[np.number]).columns\n",
        "    df_numeric = df[numeric_cols]\n",
        "\n",
        "    for col in df_numeric.columns:\n",
        "        col_values = pd.to_numeric(df_numeric[col], errors='coerce')\n",
        "        Q1 = col_values.quantile(q=.25)\n",
        "        Q3 = col_values.quantile(q=.75)\n",
        "        IQR = Q3 - Q1\n",
        "        low = Q1 - 1.5 * IQR\n",
        "        high = Q3 + 1.5 * IQR\n",
        "        at_count[col] = sum((col_values < low) | (col_values > high))\n",
        "\n",
        "    df_at = pd.DataFrame(at_count.items(), columns=['Variable', 'Atipicos'])\n",
        "    df_at['%_Atipicos'] = (df_at['Atipicos'] / len(df)) * 100\n",
        "    df_at['%_Atipicos'] = df_at['%_Atipicos'].apply(lambda x: round(x, 2))\n",
        "\n",
        "    return df_at\n",
        "\n",
        "\n",
        "df_outliers = contar_At(df_general)\n",
        "display(df_outliers)\n"
      ],
      "metadata": {
        "colab": {
          "base_uri": "https://localhost:8080/",
          "height": 206
        },
        "id": "LCnPrLMIgkNi",
        "outputId": "30092a51-51e2-4ecb-e4b4-20bc63375fc0"
      },
      "execution_count": null,
      "outputs": [
        {
          "output_type": "display_data",
          "data": {
            "text/plain": [
              "                 Variable  Atipicos  %_Atipicos\n",
              "0           Cantidad inv.       780        0.13\n",
              "1  Valor descuentos local     74187       12.40\n",
              "2   Valor impuestos local     23873        3.99\n",
              "3    Valor subtotal local     23169        3.87\n",
              "4        Valor neto local     23071        3.86"
            ],
            "text/html": [
              "\n",
              "  <div id=\"df-eee9bdca-30fc-4ed2-9a60-ee841ecba9da\" class=\"colab-df-container\">\n",
              "    <div>\n",
              "<style scoped>\n",
              "    .dataframe tbody tr th:only-of-type {\n",
              "        vertical-align: middle;\n",
              "    }\n",
              "\n",
              "    .dataframe tbody tr th {\n",
              "        vertical-align: top;\n",
              "    }\n",
              "\n",
              "    .dataframe thead th {\n",
              "        text-align: right;\n",
              "    }\n",
              "</style>\n",
              "<table border=\"1\" class=\"dataframe\">\n",
              "  <thead>\n",
              "    <tr style=\"text-align: right;\">\n",
              "      <th></th>\n",
              "      <th>Variable</th>\n",
              "      <th>Atipicos</th>\n",
              "      <th>%_Atipicos</th>\n",
              "    </tr>\n",
              "  </thead>\n",
              "  <tbody>\n",
              "    <tr>\n",
              "      <th>0</th>\n",
              "      <td>Cantidad inv.</td>\n",
              "      <td>780</td>\n",
              "      <td>0.13</td>\n",
              "    </tr>\n",
              "    <tr>\n",
              "      <th>1</th>\n",
              "      <td>Valor descuentos local</td>\n",
              "      <td>74187</td>\n",
              "      <td>12.40</td>\n",
              "    </tr>\n",
              "    <tr>\n",
              "      <th>2</th>\n",
              "      <td>Valor impuestos local</td>\n",
              "      <td>23873</td>\n",
              "      <td>3.99</td>\n",
              "    </tr>\n",
              "    <tr>\n",
              "      <th>3</th>\n",
              "      <td>Valor subtotal local</td>\n",
              "      <td>23169</td>\n",
              "      <td>3.87</td>\n",
              "    </tr>\n",
              "    <tr>\n",
              "      <th>4</th>\n",
              "      <td>Valor neto local</td>\n",
              "      <td>23071</td>\n",
              "      <td>3.86</td>\n",
              "    </tr>\n",
              "  </tbody>\n",
              "</table>\n",
              "</div>\n",
              "    <div class=\"colab-df-buttons\">\n",
              "\n",
              "  <div class=\"colab-df-container\">\n",
              "    <button class=\"colab-df-convert\" onclick=\"convertToInteractive('df-eee9bdca-30fc-4ed2-9a60-ee841ecba9da')\"\n",
              "            title=\"Convert this dataframe to an interactive table.\"\n",
              "            style=\"display:none;\">\n",
              "\n",
              "  <svg xmlns=\"http://www.w3.org/2000/svg\" height=\"24px\" viewBox=\"0 -960 960 960\">\n",
              "    <path d=\"M120-120v-720h720v720H120Zm60-500h600v-160H180v160Zm220 220h160v-160H400v160Zm0 220h160v-160H400v160ZM180-400h160v-160H180v160Zm440 0h160v-160H620v160ZM180-180h160v-160H180v160Zm440 0h160v-160H620v160Z\"/>\n",
              "  </svg>\n",
              "    </button>\n",
              "\n",
              "  <style>\n",
              "    .colab-df-container {\n",
              "      display:flex;\n",
              "      gap: 12px;\n",
              "    }\n",
              "\n",
              "    .colab-df-convert {\n",
              "      background-color: #E8F0FE;\n",
              "      border: none;\n",
              "      border-radius: 50%;\n",
              "      cursor: pointer;\n",
              "      display: none;\n",
              "      fill: #1967D2;\n",
              "      height: 32px;\n",
              "      padding: 0 0 0 0;\n",
              "      width: 32px;\n",
              "    }\n",
              "\n",
              "    .colab-df-convert:hover {\n",
              "      background-color: #E2EBFA;\n",
              "      box-shadow: 0px 1px 2px rgba(60, 64, 67, 0.3), 0px 1px 3px 1px rgba(60, 64, 67, 0.15);\n",
              "      fill: #174EA6;\n",
              "    }\n",
              "\n",
              "    .colab-df-buttons div {\n",
              "      margin-bottom: 4px;\n",
              "    }\n",
              "\n",
              "    [theme=dark] .colab-df-convert {\n",
              "      background-color: #3B4455;\n",
              "      fill: #D2E3FC;\n",
              "    }\n",
              "\n",
              "    [theme=dark] .colab-df-convert:hover {\n",
              "      background-color: #434B5C;\n",
              "      box-shadow: 0px 1px 3px 1px rgba(0, 0, 0, 0.15);\n",
              "      filter: drop-shadow(0px 1px 2px rgba(0, 0, 0, 0.3));\n",
              "      fill: #FFFFFF;\n",
              "    }\n",
              "  </style>\n",
              "\n",
              "    <script>\n",
              "      const buttonEl =\n",
              "        document.querySelector('#df-eee9bdca-30fc-4ed2-9a60-ee841ecba9da button.colab-df-convert');\n",
              "      buttonEl.style.display =\n",
              "        google.colab.kernel.accessAllowed ? 'block' : 'none';\n",
              "\n",
              "      async function convertToInteractive(key) {\n",
              "        const element = document.querySelector('#df-eee9bdca-30fc-4ed2-9a60-ee841ecba9da');\n",
              "        const dataTable =\n",
              "          await google.colab.kernel.invokeFunction('convertToInteractive',\n",
              "                                                    [key], {});\n",
              "        if (!dataTable) return;\n",
              "\n",
              "        const docLinkHtml = 'Like what you see? Visit the ' +\n",
              "          '<a target=\"_blank\" href=https://colab.research.google.com/notebooks/data_table.ipynb>data table notebook</a>'\n",
              "          + ' to learn more about interactive tables.';\n",
              "        element.innerHTML = '';\n",
              "        dataTable['output_type'] = 'display_data';\n",
              "        await google.colab.output.renderOutput(dataTable, element);\n",
              "        const docLink = document.createElement('div');\n",
              "        docLink.innerHTML = docLinkHtml;\n",
              "        element.appendChild(docLink);\n",
              "      }\n",
              "    </script>\n",
              "  </div>\n",
              "\n",
              "\n",
              "<div id=\"df-aac73d68-9d47-49d0-aa45-99b30a47dd75\">\n",
              "  <button class=\"colab-df-quickchart\" onclick=\"quickchart('df-aac73d68-9d47-49d0-aa45-99b30a47dd75')\"\n",
              "            title=\"Suggest charts.\"\n",
              "            style=\"display:none;\">\n",
              "\n",
              "<svg xmlns=\"http://www.w3.org/2000/svg\" height=\"24px\"viewBox=\"0 0 24 24\"\n",
              "     width=\"24px\">\n",
              "    <g>\n",
              "        <path d=\"M19 3H5c-1.1 0-2 .9-2 2v14c0 1.1.9 2 2 2h14c1.1 0 2-.9 2-2V5c0-1.1-.9-2-2-2zM9 17H7v-7h2v7zm4 0h-2V7h2v10zm4 0h-2v-4h2v4z\"/>\n",
              "    </g>\n",
              "</svg>\n",
              "  </button>\n",
              "\n",
              "<style>\n",
              "  .colab-df-quickchart {\n",
              "    background-color: #E8F0FE;\n",
              "    border: none;\n",
              "    border-radius: 50%;\n",
              "    cursor: pointer;\n",
              "    display: none;\n",
              "    fill: #1967D2;\n",
              "    height: 32px;\n",
              "    padding: 0 0 0 0;\n",
              "    width: 32px;\n",
              "  }\n",
              "\n",
              "  .colab-df-quickchart:hover {\n",
              "    background-color: #E2EBFA;\n",
              "    box-shadow: 0px 1px 2px rgba(60, 64, 67, 0.3), 0px 1px 3px 1px rgba(60, 64, 67, 0.15);\n",
              "    fill: #174EA6;\n",
              "  }\n",
              "\n",
              "  [theme=dark] .colab-df-quickchart {\n",
              "    background-color: #3B4455;\n",
              "    fill: #D2E3FC;\n",
              "  }\n",
              "\n",
              "  [theme=dark] .colab-df-quickchart:hover {\n",
              "    background-color: #434B5C;\n",
              "    box-shadow: 0px 1px 3px 1px rgba(0, 0, 0, 0.15);\n",
              "    filter: drop-shadow(0px 1px 2px rgba(0, 0, 0, 0.3));\n",
              "    fill: #FFFFFF;\n",
              "  }\n",
              "</style>\n",
              "\n",
              "  <script>\n",
              "    async function quickchart(key) {\n",
              "      const charts = await google.colab.kernel.invokeFunction(\n",
              "          'suggestCharts', [key], {});\n",
              "    }\n",
              "    (() => {\n",
              "      let quickchartButtonEl =\n",
              "        document.querySelector('#df-aac73d68-9d47-49d0-aa45-99b30a47dd75 button');\n",
              "      quickchartButtonEl.style.display =\n",
              "        google.colab.kernel.accessAllowed ? 'block' : 'none';\n",
              "    })();\n",
              "  </script>\n",
              "</div>\n",
              "    </div>\n",
              "  </div>\n"
            ]
          },
          "metadata": {}
        }
      ]
    },
    {
      "cell_type": "markdown",
      "source": [
        "#### Integración de los datos"
      ],
      "metadata": {
        "id": "fYkUMyINXdBb"
      }
    },
    {
      "cell_type": "markdown",
      "source": [
        "Se realiza la integración del dataset general con el dataset especifico, por medio de la columna que representa la tienda en cada uno de los datasets dando origen al dataset final."
      ],
      "metadata": {
        "id": "IpQV0Opj_QkH"
      }
    },
    {
      "cell_type": "code",
      "source": [
        "df_final = pd.merge(df_general, df_especifico, left_on='C.O.', right_on='ID ALM', how='left')\n",
        "df_final.head()"
      ],
      "metadata": {
        "colab": {
          "base_uri": "https://localhost:8080/",
          "height": 377
        },
        "id": "xQNVYMYJ_chP",
        "outputId": "6dd24226-4ada-4d6e-a8d3-861eb340c7d1"
      },
      "execution_count": null,
      "outputs": [
        {
          "output_type": "execute_result",
          "data": {
            "text/plain": [
              "  C.O.       Fecha     Item      Talla  Cantidad inv. Tipo docto.    Estado  \\\n",
              "0  017  2022-01-02  0000737  5.5Y                   1         FVP  Aprobada   \n",
              "1  006  2022-01-02  0002513  L                      1         FVP  Aprobada   \n",
              "2  017  2022-01-02  0002513  M                      1         FVP  Aprobada   \n",
              "3  032  2022-01-02  0002513  M                      1         FP1  Aprobada   \n",
              "4  039  2022-01-02  0003989  XL                     1         FVP  Aprobada   \n",
              "\n",
              "     LINEA         MARCA        DEPORTE  ... Valor impuestos local  \\\n",
              "0  CALZADO          NIKE         FUTBOL  ...                 31917   \n",
              "1     ROPA          NIKE  ENTRENAMIENTO  ...                 20829   \n",
              "2     ROPA          NIKE  ENTRENAMIENTO  ...                 20829   \n",
              "3     ROPA          NIKE  ENTRENAMIENTO  ...                 23143   \n",
              "4     ROPA  UNDER ARMOUR  ENTRENAMIENTO  ...                 15792   \n",
              "\n",
              "  Valor subtotal local Valor neto local  formato_correcto_co  \\\n",
              "0               167983           199900                 True   \n",
              "1               109626           130455                 True   \n",
              "2               109626           130455                 True   \n",
              "3               121807           144950                 True   \n",
              "4                83118            98910                 True   \n",
              "\n",
              "   formato_correcto_fecha  formato_correcto_item  ID ALM  Tipo de Marca  \\\n",
              "0                    True                   True     017     Multimarca   \n",
              "1                    True                   True     006     Multimarca   \n",
              "2                    True                   True     017     Multimarca   \n",
              "3                    True                   True     032     Multimarca   \n",
              "4                    True                   True     039     Multimarca   \n",
              "\n",
              "     Nivel  formato_correcto_alm  \n",
              "0  Nivel 3                  True  \n",
              "1  Nivel 3                  True  \n",
              "2  Nivel 3                  True  \n",
              "3  Nivel 2                  True  \n",
              "4  Nivel 2                  True  \n",
              "\n",
              "[5 rows x 24 columns]"
            ],
            "text/html": [
              "\n",
              "  <div id=\"df-3f38808a-2b84-4711-90f2-fb0abb57419d\" class=\"colab-df-container\">\n",
              "    <div>\n",
              "<style scoped>\n",
              "    .dataframe tbody tr th:only-of-type {\n",
              "        vertical-align: middle;\n",
              "    }\n",
              "\n",
              "    .dataframe tbody tr th {\n",
              "        vertical-align: top;\n",
              "    }\n",
              "\n",
              "    .dataframe thead th {\n",
              "        text-align: right;\n",
              "    }\n",
              "</style>\n",
              "<table border=\"1\" class=\"dataframe\">\n",
              "  <thead>\n",
              "    <tr style=\"text-align: right;\">\n",
              "      <th></th>\n",
              "      <th>C.O.</th>\n",
              "      <th>Fecha</th>\n",
              "      <th>Item</th>\n",
              "      <th>Talla</th>\n",
              "      <th>Cantidad inv.</th>\n",
              "      <th>Tipo docto.</th>\n",
              "      <th>Estado</th>\n",
              "      <th>LINEA</th>\n",
              "      <th>MARCA</th>\n",
              "      <th>DEPORTE</th>\n",
              "      <th>...</th>\n",
              "      <th>Valor impuestos local</th>\n",
              "      <th>Valor subtotal local</th>\n",
              "      <th>Valor neto local</th>\n",
              "      <th>formato_correcto_co</th>\n",
              "      <th>formato_correcto_fecha</th>\n",
              "      <th>formato_correcto_item</th>\n",
              "      <th>ID ALM</th>\n",
              "      <th>Tipo de Marca</th>\n",
              "      <th>Nivel</th>\n",
              "      <th>formato_correcto_alm</th>\n",
              "    </tr>\n",
              "  </thead>\n",
              "  <tbody>\n",
              "    <tr>\n",
              "      <th>0</th>\n",
              "      <td>017</td>\n",
              "      <td>2022-01-02</td>\n",
              "      <td>0000737</td>\n",
              "      <td>5.5Y</td>\n",
              "      <td>1</td>\n",
              "      <td>FVP</td>\n",
              "      <td>Aprobada</td>\n",
              "      <td>CALZADO</td>\n",
              "      <td>NIKE</td>\n",
              "      <td>FUTBOL</td>\n",
              "      <td>...</td>\n",
              "      <td>31917</td>\n",
              "      <td>167983</td>\n",
              "      <td>199900</td>\n",
              "      <td>True</td>\n",
              "      <td>True</td>\n",
              "      <td>True</td>\n",
              "      <td>017</td>\n",
              "      <td>Multimarca</td>\n",
              "      <td>Nivel 3</td>\n",
              "      <td>True</td>\n",
              "    </tr>\n",
              "    <tr>\n",
              "      <th>1</th>\n",
              "      <td>006</td>\n",
              "      <td>2022-01-02</td>\n",
              "      <td>0002513</td>\n",
              "      <td>L</td>\n",
              "      <td>1</td>\n",
              "      <td>FVP</td>\n",
              "      <td>Aprobada</td>\n",
              "      <td>ROPA</td>\n",
              "      <td>NIKE</td>\n",
              "      <td>ENTRENAMIENTO</td>\n",
              "      <td>...</td>\n",
              "      <td>20829</td>\n",
              "      <td>109626</td>\n",
              "      <td>130455</td>\n",
              "      <td>True</td>\n",
              "      <td>True</td>\n",
              "      <td>True</td>\n",
              "      <td>006</td>\n",
              "      <td>Multimarca</td>\n",
              "      <td>Nivel 3</td>\n",
              "      <td>True</td>\n",
              "    </tr>\n",
              "    <tr>\n",
              "      <th>2</th>\n",
              "      <td>017</td>\n",
              "      <td>2022-01-02</td>\n",
              "      <td>0002513</td>\n",
              "      <td>M</td>\n",
              "      <td>1</td>\n",
              "      <td>FVP</td>\n",
              "      <td>Aprobada</td>\n",
              "      <td>ROPA</td>\n",
              "      <td>NIKE</td>\n",
              "      <td>ENTRENAMIENTO</td>\n",
              "      <td>...</td>\n",
              "      <td>20829</td>\n",
              "      <td>109626</td>\n",
              "      <td>130455</td>\n",
              "      <td>True</td>\n",
              "      <td>True</td>\n",
              "      <td>True</td>\n",
              "      <td>017</td>\n",
              "      <td>Multimarca</td>\n",
              "      <td>Nivel 3</td>\n",
              "      <td>True</td>\n",
              "    </tr>\n",
              "    <tr>\n",
              "      <th>3</th>\n",
              "      <td>032</td>\n",
              "      <td>2022-01-02</td>\n",
              "      <td>0002513</td>\n",
              "      <td>M</td>\n",
              "      <td>1</td>\n",
              "      <td>FP1</td>\n",
              "      <td>Aprobada</td>\n",
              "      <td>ROPA</td>\n",
              "      <td>NIKE</td>\n",
              "      <td>ENTRENAMIENTO</td>\n",
              "      <td>...</td>\n",
              "      <td>23143</td>\n",
              "      <td>121807</td>\n",
              "      <td>144950</td>\n",
              "      <td>True</td>\n",
              "      <td>True</td>\n",
              "      <td>True</td>\n",
              "      <td>032</td>\n",
              "      <td>Multimarca</td>\n",
              "      <td>Nivel 2</td>\n",
              "      <td>True</td>\n",
              "    </tr>\n",
              "    <tr>\n",
              "      <th>4</th>\n",
              "      <td>039</td>\n",
              "      <td>2022-01-02</td>\n",
              "      <td>0003989</td>\n",
              "      <td>XL</td>\n",
              "      <td>1</td>\n",
              "      <td>FVP</td>\n",
              "      <td>Aprobada</td>\n",
              "      <td>ROPA</td>\n",
              "      <td>UNDER ARMOUR</td>\n",
              "      <td>ENTRENAMIENTO</td>\n",
              "      <td>...</td>\n",
              "      <td>15792</td>\n",
              "      <td>83118</td>\n",
              "      <td>98910</td>\n",
              "      <td>True</td>\n",
              "      <td>True</td>\n",
              "      <td>True</td>\n",
              "      <td>039</td>\n",
              "      <td>Multimarca</td>\n",
              "      <td>Nivel 2</td>\n",
              "      <td>True</td>\n",
              "    </tr>\n",
              "  </tbody>\n",
              "</table>\n",
              "<p>5 rows × 24 columns</p>\n",
              "</div>\n",
              "    <div class=\"colab-df-buttons\">\n",
              "\n",
              "  <div class=\"colab-df-container\">\n",
              "    <button class=\"colab-df-convert\" onclick=\"convertToInteractive('df-3f38808a-2b84-4711-90f2-fb0abb57419d')\"\n",
              "            title=\"Convert this dataframe to an interactive table.\"\n",
              "            style=\"display:none;\">\n",
              "\n",
              "  <svg xmlns=\"http://www.w3.org/2000/svg\" height=\"24px\" viewBox=\"0 -960 960 960\">\n",
              "    <path d=\"M120-120v-720h720v720H120Zm60-500h600v-160H180v160Zm220 220h160v-160H400v160Zm0 220h160v-160H400v160ZM180-400h160v-160H180v160Zm440 0h160v-160H620v160ZM180-180h160v-160H180v160Zm440 0h160v-160H620v160Z\"/>\n",
              "  </svg>\n",
              "    </button>\n",
              "\n",
              "  <style>\n",
              "    .colab-df-container {\n",
              "      display:flex;\n",
              "      gap: 12px;\n",
              "    }\n",
              "\n",
              "    .colab-df-convert {\n",
              "      background-color: #E8F0FE;\n",
              "      border: none;\n",
              "      border-radius: 50%;\n",
              "      cursor: pointer;\n",
              "      display: none;\n",
              "      fill: #1967D2;\n",
              "      height: 32px;\n",
              "      padding: 0 0 0 0;\n",
              "      width: 32px;\n",
              "    }\n",
              "\n",
              "    .colab-df-convert:hover {\n",
              "      background-color: #E2EBFA;\n",
              "      box-shadow: 0px 1px 2px rgba(60, 64, 67, 0.3), 0px 1px 3px 1px rgba(60, 64, 67, 0.15);\n",
              "      fill: #174EA6;\n",
              "    }\n",
              "\n",
              "    .colab-df-buttons div {\n",
              "      margin-bottom: 4px;\n",
              "    }\n",
              "\n",
              "    [theme=dark] .colab-df-convert {\n",
              "      background-color: #3B4455;\n",
              "      fill: #D2E3FC;\n",
              "    }\n",
              "\n",
              "    [theme=dark] .colab-df-convert:hover {\n",
              "      background-color: #434B5C;\n",
              "      box-shadow: 0px 1px 3px 1px rgba(0, 0, 0, 0.15);\n",
              "      filter: drop-shadow(0px 1px 2px rgba(0, 0, 0, 0.3));\n",
              "      fill: #FFFFFF;\n",
              "    }\n",
              "  </style>\n",
              "\n",
              "    <script>\n",
              "      const buttonEl =\n",
              "        document.querySelector('#df-3f38808a-2b84-4711-90f2-fb0abb57419d button.colab-df-convert');\n",
              "      buttonEl.style.display =\n",
              "        google.colab.kernel.accessAllowed ? 'block' : 'none';\n",
              "\n",
              "      async function convertToInteractive(key) {\n",
              "        const element = document.querySelector('#df-3f38808a-2b84-4711-90f2-fb0abb57419d');\n",
              "        const dataTable =\n",
              "          await google.colab.kernel.invokeFunction('convertToInteractive',\n",
              "                                                    [key], {});\n",
              "        if (!dataTable) return;\n",
              "\n",
              "        const docLinkHtml = 'Like what you see? Visit the ' +\n",
              "          '<a target=\"_blank\" href=https://colab.research.google.com/notebooks/data_table.ipynb>data table notebook</a>'\n",
              "          + ' to learn more about interactive tables.';\n",
              "        element.innerHTML = '';\n",
              "        dataTable['output_type'] = 'display_data';\n",
              "        await google.colab.output.renderOutput(dataTable, element);\n",
              "        const docLink = document.createElement('div');\n",
              "        docLink.innerHTML = docLinkHtml;\n",
              "        element.appendChild(docLink);\n",
              "      }\n",
              "    </script>\n",
              "  </div>\n",
              "\n",
              "\n",
              "<div id=\"df-b339aef4-0825-4081-b9f6-ba41c9f5a466\">\n",
              "  <button class=\"colab-df-quickchart\" onclick=\"quickchart('df-b339aef4-0825-4081-b9f6-ba41c9f5a466')\"\n",
              "            title=\"Suggest charts.\"\n",
              "            style=\"display:none;\">\n",
              "\n",
              "<svg xmlns=\"http://www.w3.org/2000/svg\" height=\"24px\"viewBox=\"0 0 24 24\"\n",
              "     width=\"24px\">\n",
              "    <g>\n",
              "        <path d=\"M19 3H5c-1.1 0-2 .9-2 2v14c0 1.1.9 2 2 2h14c1.1 0 2-.9 2-2V5c0-1.1-.9-2-2-2zM9 17H7v-7h2v7zm4 0h-2V7h2v10zm4 0h-2v-4h2v4z\"/>\n",
              "    </g>\n",
              "</svg>\n",
              "  </button>\n",
              "\n",
              "<style>\n",
              "  .colab-df-quickchart {\n",
              "    background-color: #E8F0FE;\n",
              "    border: none;\n",
              "    border-radius: 50%;\n",
              "    cursor: pointer;\n",
              "    display: none;\n",
              "    fill: #1967D2;\n",
              "    height: 32px;\n",
              "    padding: 0 0 0 0;\n",
              "    width: 32px;\n",
              "  }\n",
              "\n",
              "  .colab-df-quickchart:hover {\n",
              "    background-color: #E2EBFA;\n",
              "    box-shadow: 0px 1px 2px rgba(60, 64, 67, 0.3), 0px 1px 3px 1px rgba(60, 64, 67, 0.15);\n",
              "    fill: #174EA6;\n",
              "  }\n",
              "\n",
              "  [theme=dark] .colab-df-quickchart {\n",
              "    background-color: #3B4455;\n",
              "    fill: #D2E3FC;\n",
              "  }\n",
              "\n",
              "  [theme=dark] .colab-df-quickchart:hover {\n",
              "    background-color: #434B5C;\n",
              "    box-shadow: 0px 1px 3px 1px rgba(0, 0, 0, 0.15);\n",
              "    filter: drop-shadow(0px 1px 2px rgba(0, 0, 0, 0.3));\n",
              "    fill: #FFFFFF;\n",
              "  }\n",
              "</style>\n",
              "\n",
              "  <script>\n",
              "    async function quickchart(key) {\n",
              "      const charts = await google.colab.kernel.invokeFunction(\n",
              "          'suggestCharts', [key], {});\n",
              "    }\n",
              "    (() => {\n",
              "      let quickchartButtonEl =\n",
              "        document.querySelector('#df-b339aef4-0825-4081-b9f6-ba41c9f5a466 button');\n",
              "      quickchartButtonEl.style.display =\n",
              "        google.colab.kernel.accessAllowed ? 'block' : 'none';\n",
              "    })();\n",
              "  </script>\n",
              "</div>\n",
              "    </div>\n",
              "  </div>\n"
            ]
          },
          "metadata": {},
          "execution_count": 38
        }
      ]
    },
    {
      "cell_type": "code",
      "source": [
        "print(\"Estas son las dimensiones del dataset general después de la integración de los datos : \\n\", df_final.shape)"
      ],
      "metadata": {
        "colab": {
          "base_uri": "https://localhost:8080/"
        },
        "id": "OVdA8nRiB1Fj",
        "outputId": "00d00de1-9743-4d60-d457-525130848397"
      },
      "execution_count": null,
      "outputs": [
        {
          "output_type": "stream",
          "name": "stdout",
          "text": [
            "Estas son las dimensiones del dataset general después de la integración de los datos : \n",
            " (598258, 24)\n"
          ]
        }
      ]
    },
    {
      "cell_type": "markdown",
      "source": [
        "#### Construcción de los datos"
      ],
      "metadata": {
        "id": "4O1bVrooXTPN"
      }
    },
    {
      "cell_type": "markdown",
      "source": [
        "Se realiza extracción de información desde la columna que contiene la fecha de la transacción, por tanto se crean las siguientes nuevas columnas:"
      ],
      "metadata": {
        "id": "doXG9mR0G9Cv"
      }
    },
    {
      "cell_type": "code",
      "source": [
        "# Código por elaboración propia\n",
        "\n",
        "df_final['Fecha'] = pd.to_datetime(df_final['Fecha'], infer_datetime_format=True)\n",
        "\n",
        "# Se extrae el día de la venta\n",
        "df_final['Dia'] = df_final['Fecha'].dt.day\n",
        "\n",
        "# Se extrae el mes de la venta\n",
        "df_final['Mes'] = df_final['Fecha'].dt.month\n",
        "\n",
        "# Se extrae el año de la venta\n",
        "df_final['Ano'] = df_final['Fecha'].dt.year\n",
        "\n",
        "# Se extrae  el trimestre de la venta\n",
        "trimestre = {1: 'Q1', 2: 'Q2', 3: 'Q3', 4: 'Q4'}\n",
        "df_final['Trimestre'] = df_final['Fecha'].dt.quarter.apply(lambda x: trimestre[x])\n",
        "\n",
        "# Se extrae el día de la semana de la venta\n",
        "dias_semana_es = ['Lunes', 'Martes', 'Miecoles', 'Jueves', 'Viernes', 'Sabado', 'Domingo']\n",
        "df_final['Dia Semana'] = df_final['Fecha'].dt.weekday.map(dict(enumerate(dias_semana_es)))\n",
        "\n",
        "\n",
        "df_final.tail(2)"
      ],
      "metadata": {
        "id": "A3L841MwG9Uc",
        "colab": {
          "base_uri": "https://localhost:8080/",
          "height": 214
        },
        "outputId": "c32fd1db-7c6c-4b73-fdc3-1bca4628b914"
      },
      "execution_count": null,
      "outputs": [
        {
          "output_type": "execute_result",
          "data": {
            "text/plain": [
              "       C.O.      Fecha     Item      Talla  Cantidad inv. Tipo docto.  \\\n",
              "598256  414 2023-06-30  0069168  M                      1         FES   \n",
              "598257  414 2023-06-30  0069172  S                      1         FES   \n",
              "\n",
              "          Estado LINEA   MARCA DEPORTE  ... formato_correcto_item ID ALM  \\\n",
              "598256  Aprobada  ROPA  ADIDAS    MODA  ...                  True    414   \n",
              "598257  Aprobada  ROPA  ADIDAS    MODA  ...                  True    414   \n",
              "\n",
              "       Tipo de Marca    Nivel  formato_correcto_alm  Dia  Mes   Ano  \\\n",
              "598256    Franquicia  Nivel 1                  True   30    6  2023   \n",
              "598257    Franquicia  Nivel 1                  True   30    6  2023   \n",
              "\n",
              "        Trimestre  Dia Semana  \n",
              "598256         Q2     Viernes  \n",
              "598257         Q2     Viernes  \n",
              "\n",
              "[2 rows x 29 columns]"
            ],
            "text/html": [
              "\n",
              "  <div id=\"df-1c86e060-7564-4589-b7be-ec5f3c9ea5e7\" class=\"colab-df-container\">\n",
              "    <div>\n",
              "<style scoped>\n",
              "    .dataframe tbody tr th:only-of-type {\n",
              "        vertical-align: middle;\n",
              "    }\n",
              "\n",
              "    .dataframe tbody tr th {\n",
              "        vertical-align: top;\n",
              "    }\n",
              "\n",
              "    .dataframe thead th {\n",
              "        text-align: right;\n",
              "    }\n",
              "</style>\n",
              "<table border=\"1\" class=\"dataframe\">\n",
              "  <thead>\n",
              "    <tr style=\"text-align: right;\">\n",
              "      <th></th>\n",
              "      <th>C.O.</th>\n",
              "      <th>Fecha</th>\n",
              "      <th>Item</th>\n",
              "      <th>Talla</th>\n",
              "      <th>Cantidad inv.</th>\n",
              "      <th>Tipo docto.</th>\n",
              "      <th>Estado</th>\n",
              "      <th>LINEA</th>\n",
              "      <th>MARCA</th>\n",
              "      <th>DEPORTE</th>\n",
              "      <th>...</th>\n",
              "      <th>formato_correcto_item</th>\n",
              "      <th>ID ALM</th>\n",
              "      <th>Tipo de Marca</th>\n",
              "      <th>Nivel</th>\n",
              "      <th>formato_correcto_alm</th>\n",
              "      <th>Dia</th>\n",
              "      <th>Mes</th>\n",
              "      <th>Ano</th>\n",
              "      <th>Trimestre</th>\n",
              "      <th>Dia Semana</th>\n",
              "    </tr>\n",
              "  </thead>\n",
              "  <tbody>\n",
              "    <tr>\n",
              "      <th>598256</th>\n",
              "      <td>414</td>\n",
              "      <td>2023-06-30</td>\n",
              "      <td>0069168</td>\n",
              "      <td>M</td>\n",
              "      <td>1</td>\n",
              "      <td>FES</td>\n",
              "      <td>Aprobada</td>\n",
              "      <td>ROPA</td>\n",
              "      <td>ADIDAS</td>\n",
              "      <td>MODA</td>\n",
              "      <td>...</td>\n",
              "      <td>True</td>\n",
              "      <td>414</td>\n",
              "      <td>Franquicia</td>\n",
              "      <td>Nivel 1</td>\n",
              "      <td>True</td>\n",
              "      <td>30</td>\n",
              "      <td>6</td>\n",
              "      <td>2023</td>\n",
              "      <td>Q2</td>\n",
              "      <td>Viernes</td>\n",
              "    </tr>\n",
              "    <tr>\n",
              "      <th>598257</th>\n",
              "      <td>414</td>\n",
              "      <td>2023-06-30</td>\n",
              "      <td>0069172</td>\n",
              "      <td>S</td>\n",
              "      <td>1</td>\n",
              "      <td>FES</td>\n",
              "      <td>Aprobada</td>\n",
              "      <td>ROPA</td>\n",
              "      <td>ADIDAS</td>\n",
              "      <td>MODA</td>\n",
              "      <td>...</td>\n",
              "      <td>True</td>\n",
              "      <td>414</td>\n",
              "      <td>Franquicia</td>\n",
              "      <td>Nivel 1</td>\n",
              "      <td>True</td>\n",
              "      <td>30</td>\n",
              "      <td>6</td>\n",
              "      <td>2023</td>\n",
              "      <td>Q2</td>\n",
              "      <td>Viernes</td>\n",
              "    </tr>\n",
              "  </tbody>\n",
              "</table>\n",
              "<p>2 rows × 29 columns</p>\n",
              "</div>\n",
              "    <div class=\"colab-df-buttons\">\n",
              "\n",
              "  <div class=\"colab-df-container\">\n",
              "    <button class=\"colab-df-convert\" onclick=\"convertToInteractive('df-1c86e060-7564-4589-b7be-ec5f3c9ea5e7')\"\n",
              "            title=\"Convert this dataframe to an interactive table.\"\n",
              "            style=\"display:none;\">\n",
              "\n",
              "  <svg xmlns=\"http://www.w3.org/2000/svg\" height=\"24px\" viewBox=\"0 -960 960 960\">\n",
              "    <path d=\"M120-120v-720h720v720H120Zm60-500h600v-160H180v160Zm220 220h160v-160H400v160Zm0 220h160v-160H400v160ZM180-400h160v-160H180v160Zm440 0h160v-160H620v160ZM180-180h160v-160H180v160Zm440 0h160v-160H620v160Z\"/>\n",
              "  </svg>\n",
              "    </button>\n",
              "\n",
              "  <style>\n",
              "    .colab-df-container {\n",
              "      display:flex;\n",
              "      gap: 12px;\n",
              "    }\n",
              "\n",
              "    .colab-df-convert {\n",
              "      background-color: #E8F0FE;\n",
              "      border: none;\n",
              "      border-radius: 50%;\n",
              "      cursor: pointer;\n",
              "      display: none;\n",
              "      fill: #1967D2;\n",
              "      height: 32px;\n",
              "      padding: 0 0 0 0;\n",
              "      width: 32px;\n",
              "    }\n",
              "\n",
              "    .colab-df-convert:hover {\n",
              "      background-color: #E2EBFA;\n",
              "      box-shadow: 0px 1px 2px rgba(60, 64, 67, 0.3), 0px 1px 3px 1px rgba(60, 64, 67, 0.15);\n",
              "      fill: #174EA6;\n",
              "    }\n",
              "\n",
              "    .colab-df-buttons div {\n",
              "      margin-bottom: 4px;\n",
              "    }\n",
              "\n",
              "    [theme=dark] .colab-df-convert {\n",
              "      background-color: #3B4455;\n",
              "      fill: #D2E3FC;\n",
              "    }\n",
              "\n",
              "    [theme=dark] .colab-df-convert:hover {\n",
              "      background-color: #434B5C;\n",
              "      box-shadow: 0px 1px 3px 1px rgba(0, 0, 0, 0.15);\n",
              "      filter: drop-shadow(0px 1px 2px rgba(0, 0, 0, 0.3));\n",
              "      fill: #FFFFFF;\n",
              "    }\n",
              "  </style>\n",
              "\n",
              "    <script>\n",
              "      const buttonEl =\n",
              "        document.querySelector('#df-1c86e060-7564-4589-b7be-ec5f3c9ea5e7 button.colab-df-convert');\n",
              "      buttonEl.style.display =\n",
              "        google.colab.kernel.accessAllowed ? 'block' : 'none';\n",
              "\n",
              "      async function convertToInteractive(key) {\n",
              "        const element = document.querySelector('#df-1c86e060-7564-4589-b7be-ec5f3c9ea5e7');\n",
              "        const dataTable =\n",
              "          await google.colab.kernel.invokeFunction('convertToInteractive',\n",
              "                                                    [key], {});\n",
              "        if (!dataTable) return;\n",
              "\n",
              "        const docLinkHtml = 'Like what you see? Visit the ' +\n",
              "          '<a target=\"_blank\" href=https://colab.research.google.com/notebooks/data_table.ipynb>data table notebook</a>'\n",
              "          + ' to learn more about interactive tables.';\n",
              "        element.innerHTML = '';\n",
              "        dataTable['output_type'] = 'display_data';\n",
              "        await google.colab.output.renderOutput(dataTable, element);\n",
              "        const docLink = document.createElement('div');\n",
              "        docLink.innerHTML = docLinkHtml;\n",
              "        element.appendChild(docLink);\n",
              "      }\n",
              "    </script>\n",
              "  </div>\n",
              "\n",
              "    </div>\n",
              "  </div>\n"
            ]
          },
          "metadata": {},
          "execution_count": 40
        }
      ]
    },
    {
      "cell_type": "markdown",
      "source": [
        "Se crea una columna binaria para indicar si la transacción aplico algun descuento (1) o no (0)."
      ],
      "metadata": {
        "id": "TV6EufZ6IlbJ"
      }
    },
    {
      "cell_type": "code",
      "source": [
        "# Código por elaboración propia\n",
        "\n",
        "df_final['Aplico_descuento'] = df_final['Valor descuentos local'].apply(lambda x: 0 if x == 0 else 1)"
      ],
      "metadata": {
        "id": "h9V_OFWVIkoe"
      },
      "execution_count": null,
      "outputs": []
    },
    {
      "cell_type": "code",
      "source": [
        "print(\"Estas son las dimensiones del dataset final luego de la creación de nuevos atributos: \\n\", df_final.shape )"
      ],
      "metadata": {
        "colab": {
          "base_uri": "https://localhost:8080/"
        },
        "id": "T9a1y8iNJ9nz",
        "outputId": "2fd6c71a-a17a-4175-8ec8-a8ce181b35d1"
      },
      "execution_count": null,
      "outputs": [
        {
          "output_type": "stream",
          "name": "stdout",
          "text": [
            "Estas son las dimensiones del dataset final luego de la creación de nuevos atributos: \n",
            " (598258, 30)\n"
          ]
        }
      ]
    },
    {
      "cell_type": "markdown",
      "source": [
        "#### Selección de los datos"
      ],
      "metadata": {
        "id": "BJxkwtyFXX6r"
      }
    },
    {
      "cell_type": "markdown",
      "source": [
        "Se eliminan las columnas previamente definidas con el acompañamiento de los expertos del negocio"
      ],
      "metadata": {
        "id": "sPrVFh0W_e_K"
      }
    },
    {
      "cell_type": "code",
      "source": [
        "# Código por elaboración propia\n",
        "\n",
        "columnas_no_seleccionadas = ['formato_correcto_co' ,'formato_correcto_fecha','formato_correcto_item', 'formato_correcto_alm',\n",
        "                             'ID ALM','Valor descuentos local','Estado','Tipo docto.','Talla','Fecha','Valor impuestos local','Valor subtotal local']\n",
        "df_final.drop(columnas_no_seleccionadas, axis=1, inplace=True)"
      ],
      "metadata": {
        "id": "pYjwj5PKKL6M"
      },
      "execution_count": null,
      "outputs": []
    },
    {
      "cell_type": "code",
      "source": [
        "df_final.columns"
      ],
      "metadata": {
        "colab": {
          "base_uri": "https://localhost:8080/"
        },
        "id": "qBOSFu7YL38v",
        "outputId": "48013bfc-7969-48af-d08c-af81ba9917d0"
      },
      "execution_count": null,
      "outputs": [
        {
          "output_type": "execute_result",
          "data": {
            "text/plain": [
              "Index(['C.O.', 'Item', 'Cantidad inv.', 'LINEA', 'MARCA', 'DEPORTE', 'GENERO',\n",
              "       'SUB CATEGORIA', 'WEB COLOR', 'Valor neto local', 'Tipo de Marca',\n",
              "       'Nivel', 'Dia', 'Mes', 'Ano', 'Trimestre', 'Dia Semana',\n",
              "       'Aplico_descuento'],\n",
              "      dtype='object')"
            ]
          },
          "metadata": {},
          "execution_count": 44
        }
      ]
    },
    {
      "cell_type": "markdown",
      "source": [
        "Se realiza la agrupación por transacciones donde se realiza la agregación de la cantidad vendida"
      ],
      "metadata": {
        "id": "2I6WaIVZ_mbF"
      }
    },
    {
      "cell_type": "code",
      "source": [
        "# Código por elaboración propia\n",
        "\n",
        "columnas = ['C.O.', 'Item', 'LINEA', 'MARCA', 'DEPORTE', 'GENERO',\n",
        "       'SUB CATEGORIA', 'WEB COLOR', 'Valor neto local',\n",
        "       'Tipo de Marca', 'Nivel', 'Dia',\n",
        "       'Mes', 'Ano', 'Trimestre', 'Dia Semana','Aplico_descuento']\n",
        "\n",
        "df_agrupado = df_final.groupby(columnas)['Cantidad inv.'].sum().reset_index()\n",
        "df_agrupado['C.O.'] = df_agrupado['C.O.'].astype(str)\n",
        "\n",
        "\n",
        "df_agrupado.tail(5)"
      ],
      "metadata": {
        "colab": {
          "base_uri": "https://localhost:8080/",
          "height": 348
        },
        "id": "4cCYwSsbLBPB",
        "outputId": "fdd9e3a6-4227-4eba-a9a1-e152a3e8c3a2"
      },
      "execution_count": null,
      "outputs": [
        {
          "output_type": "execute_result",
          "data": {
            "text/plain": [
              "       C.O.     Item LINEA   MARCA        DEPORTE  GENERO SUB CATEGORIA  \\\n",
              "413296  415  0068539  ROPA  ADIDAS           MODA  HOMBRE  PANTALONETAS   \n",
              "413297  415  0068539  ROPA  ADIDAS           MODA  HOMBRE  PANTALONETAS   \n",
              "413298  415  0068646  ROPA  ADIDAS  ENTRENAMIENTO   MUJER        CAPRIS   \n",
              "413299  415  0068654  ROPA  ADIDAS         CORRER   MUJER  PANTALONETAS   \n",
              "413300  415  0069173  ROPA  ADIDAS         CORRER  HOMBRE   MANGA CORTA   \n",
              "\n",
              "       WEB COLOR  Valor neto local Tipo de Marca    Nivel  Dia  Mes   Ano  \\\n",
              "413296      AZUL            169950    Franquicia  Nivel 1   16    6  2023   \n",
              "413297      AZUL            169950    Franquicia  Nivel 1   17    6  2023   \n",
              "413298     NEGRO            219950    Franquicia  Nivel 1   30    6  2023   \n",
              "413299     NEGRO            179950    Franquicia  Nivel 1   24    6  2023   \n",
              "413300     VERDE            169950    Franquicia  Nivel 1   28    6  2023   \n",
              "\n",
              "       Trimestre Dia Semana  Aplico_descuento  Cantidad inv.  \n",
              "413296        Q2    Viernes                 0              1  \n",
              "413297        Q2     Sabado                 0              1  \n",
              "413298        Q2    Viernes                 0              1  \n",
              "413299        Q2     Sabado                 0              1  \n",
              "413300        Q2   Miecoles                 0              1  "
            ],
            "text/html": [
              "\n",
              "  <div id=\"df-3c7703c7-f61a-482d-84a5-96cd95b417ac\" class=\"colab-df-container\">\n",
              "    <div>\n",
              "<style scoped>\n",
              "    .dataframe tbody tr th:only-of-type {\n",
              "        vertical-align: middle;\n",
              "    }\n",
              "\n",
              "    .dataframe tbody tr th {\n",
              "        vertical-align: top;\n",
              "    }\n",
              "\n",
              "    .dataframe thead th {\n",
              "        text-align: right;\n",
              "    }\n",
              "</style>\n",
              "<table border=\"1\" class=\"dataframe\">\n",
              "  <thead>\n",
              "    <tr style=\"text-align: right;\">\n",
              "      <th></th>\n",
              "      <th>C.O.</th>\n",
              "      <th>Item</th>\n",
              "      <th>LINEA</th>\n",
              "      <th>MARCA</th>\n",
              "      <th>DEPORTE</th>\n",
              "      <th>GENERO</th>\n",
              "      <th>SUB CATEGORIA</th>\n",
              "      <th>WEB COLOR</th>\n",
              "      <th>Valor neto local</th>\n",
              "      <th>Tipo de Marca</th>\n",
              "      <th>Nivel</th>\n",
              "      <th>Dia</th>\n",
              "      <th>Mes</th>\n",
              "      <th>Ano</th>\n",
              "      <th>Trimestre</th>\n",
              "      <th>Dia Semana</th>\n",
              "      <th>Aplico_descuento</th>\n",
              "      <th>Cantidad inv.</th>\n",
              "    </tr>\n",
              "  </thead>\n",
              "  <tbody>\n",
              "    <tr>\n",
              "      <th>413296</th>\n",
              "      <td>415</td>\n",
              "      <td>0068539</td>\n",
              "      <td>ROPA</td>\n",
              "      <td>ADIDAS</td>\n",
              "      <td>MODA</td>\n",
              "      <td>HOMBRE</td>\n",
              "      <td>PANTALONETAS</td>\n",
              "      <td>AZUL</td>\n",
              "      <td>169950</td>\n",
              "      <td>Franquicia</td>\n",
              "      <td>Nivel 1</td>\n",
              "      <td>16</td>\n",
              "      <td>6</td>\n",
              "      <td>2023</td>\n",
              "      <td>Q2</td>\n",
              "      <td>Viernes</td>\n",
              "      <td>0</td>\n",
              "      <td>1</td>\n",
              "    </tr>\n",
              "    <tr>\n",
              "      <th>413297</th>\n",
              "      <td>415</td>\n",
              "      <td>0068539</td>\n",
              "      <td>ROPA</td>\n",
              "      <td>ADIDAS</td>\n",
              "      <td>MODA</td>\n",
              "      <td>HOMBRE</td>\n",
              "      <td>PANTALONETAS</td>\n",
              "      <td>AZUL</td>\n",
              "      <td>169950</td>\n",
              "      <td>Franquicia</td>\n",
              "      <td>Nivel 1</td>\n",
              "      <td>17</td>\n",
              "      <td>6</td>\n",
              "      <td>2023</td>\n",
              "      <td>Q2</td>\n",
              "      <td>Sabado</td>\n",
              "      <td>0</td>\n",
              "      <td>1</td>\n",
              "    </tr>\n",
              "    <tr>\n",
              "      <th>413298</th>\n",
              "      <td>415</td>\n",
              "      <td>0068646</td>\n",
              "      <td>ROPA</td>\n",
              "      <td>ADIDAS</td>\n",
              "      <td>ENTRENAMIENTO</td>\n",
              "      <td>MUJER</td>\n",
              "      <td>CAPRIS</td>\n",
              "      <td>NEGRO</td>\n",
              "      <td>219950</td>\n",
              "      <td>Franquicia</td>\n",
              "      <td>Nivel 1</td>\n",
              "      <td>30</td>\n",
              "      <td>6</td>\n",
              "      <td>2023</td>\n",
              "      <td>Q2</td>\n",
              "      <td>Viernes</td>\n",
              "      <td>0</td>\n",
              "      <td>1</td>\n",
              "    </tr>\n",
              "    <tr>\n",
              "      <th>413299</th>\n",
              "      <td>415</td>\n",
              "      <td>0068654</td>\n",
              "      <td>ROPA</td>\n",
              "      <td>ADIDAS</td>\n",
              "      <td>CORRER</td>\n",
              "      <td>MUJER</td>\n",
              "      <td>PANTALONETAS</td>\n",
              "      <td>NEGRO</td>\n",
              "      <td>179950</td>\n",
              "      <td>Franquicia</td>\n",
              "      <td>Nivel 1</td>\n",
              "      <td>24</td>\n",
              "      <td>6</td>\n",
              "      <td>2023</td>\n",
              "      <td>Q2</td>\n",
              "      <td>Sabado</td>\n",
              "      <td>0</td>\n",
              "      <td>1</td>\n",
              "    </tr>\n",
              "    <tr>\n",
              "      <th>413300</th>\n",
              "      <td>415</td>\n",
              "      <td>0069173</td>\n",
              "      <td>ROPA</td>\n",
              "      <td>ADIDAS</td>\n",
              "      <td>CORRER</td>\n",
              "      <td>HOMBRE</td>\n",
              "      <td>MANGA CORTA</td>\n",
              "      <td>VERDE</td>\n",
              "      <td>169950</td>\n",
              "      <td>Franquicia</td>\n",
              "      <td>Nivel 1</td>\n",
              "      <td>28</td>\n",
              "      <td>6</td>\n",
              "      <td>2023</td>\n",
              "      <td>Q2</td>\n",
              "      <td>Miecoles</td>\n",
              "      <td>0</td>\n",
              "      <td>1</td>\n",
              "    </tr>\n",
              "  </tbody>\n",
              "</table>\n",
              "</div>\n",
              "    <div class=\"colab-df-buttons\">\n",
              "\n",
              "  <div class=\"colab-df-container\">\n",
              "    <button class=\"colab-df-convert\" onclick=\"convertToInteractive('df-3c7703c7-f61a-482d-84a5-96cd95b417ac')\"\n",
              "            title=\"Convert this dataframe to an interactive table.\"\n",
              "            style=\"display:none;\">\n",
              "\n",
              "  <svg xmlns=\"http://www.w3.org/2000/svg\" height=\"24px\" viewBox=\"0 -960 960 960\">\n",
              "    <path d=\"M120-120v-720h720v720H120Zm60-500h600v-160H180v160Zm220 220h160v-160H400v160Zm0 220h160v-160H400v160ZM180-400h160v-160H180v160Zm440 0h160v-160H620v160ZM180-180h160v-160H180v160Zm440 0h160v-160H620v160Z\"/>\n",
              "  </svg>\n",
              "    </button>\n",
              "\n",
              "  <style>\n",
              "    .colab-df-container {\n",
              "      display:flex;\n",
              "      gap: 12px;\n",
              "    }\n",
              "\n",
              "    .colab-df-convert {\n",
              "      background-color: #E8F0FE;\n",
              "      border: none;\n",
              "      border-radius: 50%;\n",
              "      cursor: pointer;\n",
              "      display: none;\n",
              "      fill: #1967D2;\n",
              "      height: 32px;\n",
              "      padding: 0 0 0 0;\n",
              "      width: 32px;\n",
              "    }\n",
              "\n",
              "    .colab-df-convert:hover {\n",
              "      background-color: #E2EBFA;\n",
              "      box-shadow: 0px 1px 2px rgba(60, 64, 67, 0.3), 0px 1px 3px 1px rgba(60, 64, 67, 0.15);\n",
              "      fill: #174EA6;\n",
              "    }\n",
              "\n",
              "    .colab-df-buttons div {\n",
              "      margin-bottom: 4px;\n",
              "    }\n",
              "\n",
              "    [theme=dark] .colab-df-convert {\n",
              "      background-color: #3B4455;\n",
              "      fill: #D2E3FC;\n",
              "    }\n",
              "\n",
              "    [theme=dark] .colab-df-convert:hover {\n",
              "      background-color: #434B5C;\n",
              "      box-shadow: 0px 1px 3px 1px rgba(0, 0, 0, 0.15);\n",
              "      filter: drop-shadow(0px 1px 2px rgba(0, 0, 0, 0.3));\n",
              "      fill: #FFFFFF;\n",
              "    }\n",
              "  </style>\n",
              "\n",
              "    <script>\n",
              "      const buttonEl =\n",
              "        document.querySelector('#df-3c7703c7-f61a-482d-84a5-96cd95b417ac button.colab-df-convert');\n",
              "      buttonEl.style.display =\n",
              "        google.colab.kernel.accessAllowed ? 'block' : 'none';\n",
              "\n",
              "      async function convertToInteractive(key) {\n",
              "        const element = document.querySelector('#df-3c7703c7-f61a-482d-84a5-96cd95b417ac');\n",
              "        const dataTable =\n",
              "          await google.colab.kernel.invokeFunction('convertToInteractive',\n",
              "                                                    [key], {});\n",
              "        if (!dataTable) return;\n",
              "\n",
              "        const docLinkHtml = 'Like what you see? Visit the ' +\n",
              "          '<a target=\"_blank\" href=https://colab.research.google.com/notebooks/data_table.ipynb>data table notebook</a>'\n",
              "          + ' to learn more about interactive tables.';\n",
              "        element.innerHTML = '';\n",
              "        dataTable['output_type'] = 'display_data';\n",
              "        await google.colab.output.renderOutput(dataTable, element);\n",
              "        const docLink = document.createElement('div');\n",
              "        docLink.innerHTML = docLinkHtml;\n",
              "        element.appendChild(docLink);\n",
              "      }\n",
              "    </script>\n",
              "  </div>\n",
              "\n",
              "\n",
              "<div id=\"df-fd5e4fd1-61aa-4329-ab0e-b8c141df5b98\">\n",
              "  <button class=\"colab-df-quickchart\" onclick=\"quickchart('df-fd5e4fd1-61aa-4329-ab0e-b8c141df5b98')\"\n",
              "            title=\"Suggest charts.\"\n",
              "            style=\"display:none;\">\n",
              "\n",
              "<svg xmlns=\"http://www.w3.org/2000/svg\" height=\"24px\"viewBox=\"0 0 24 24\"\n",
              "     width=\"24px\">\n",
              "    <g>\n",
              "        <path d=\"M19 3H5c-1.1 0-2 .9-2 2v14c0 1.1.9 2 2 2h14c1.1 0 2-.9 2-2V5c0-1.1-.9-2-2-2zM9 17H7v-7h2v7zm4 0h-2V7h2v10zm4 0h-2v-4h2v4z\"/>\n",
              "    </g>\n",
              "</svg>\n",
              "  </button>\n",
              "\n",
              "<style>\n",
              "  .colab-df-quickchart {\n",
              "    background-color: #E8F0FE;\n",
              "    border: none;\n",
              "    border-radius: 50%;\n",
              "    cursor: pointer;\n",
              "    display: none;\n",
              "    fill: #1967D2;\n",
              "    height: 32px;\n",
              "    padding: 0 0 0 0;\n",
              "    width: 32px;\n",
              "  }\n",
              "\n",
              "  .colab-df-quickchart:hover {\n",
              "    background-color: #E2EBFA;\n",
              "    box-shadow: 0px 1px 2px rgba(60, 64, 67, 0.3), 0px 1px 3px 1px rgba(60, 64, 67, 0.15);\n",
              "    fill: #174EA6;\n",
              "  }\n",
              "\n",
              "  [theme=dark] .colab-df-quickchart {\n",
              "    background-color: #3B4455;\n",
              "    fill: #D2E3FC;\n",
              "  }\n",
              "\n",
              "  [theme=dark] .colab-df-quickchart:hover {\n",
              "    background-color: #434B5C;\n",
              "    box-shadow: 0px 1px 3px 1px rgba(0, 0, 0, 0.15);\n",
              "    filter: drop-shadow(0px 1px 2px rgba(0, 0, 0, 0.3));\n",
              "    fill: #FFFFFF;\n",
              "  }\n",
              "</style>\n",
              "\n",
              "  <script>\n",
              "    async function quickchart(key) {\n",
              "      const charts = await google.colab.kernel.invokeFunction(\n",
              "          'suggestCharts', [key], {});\n",
              "    }\n",
              "    (() => {\n",
              "      let quickchartButtonEl =\n",
              "        document.querySelector('#df-fd5e4fd1-61aa-4329-ab0e-b8c141df5b98 button');\n",
              "      quickchartButtonEl.style.display =\n",
              "        google.colab.kernel.accessAllowed ? 'block' : 'none';\n",
              "    })();\n",
              "  </script>\n",
              "</div>\n",
              "    </div>\n",
              "  </div>\n"
            ]
          },
          "metadata": {},
          "execution_count": 45
        }
      ]
    },
    {
      "cell_type": "code",
      "source": [
        "print(\"Estas son las dimensiones del dataset agrupado por la suma de la cantidad: \\n\", df_agrupado.shape )"
      ],
      "metadata": {
        "colab": {
          "base_uri": "https://localhost:8080/"
        },
        "id": "xINUbaItQaKz",
        "outputId": "74473f40-6e65-48ed-998b-16d88d004072"
      },
      "execution_count": null,
      "outputs": [
        {
          "output_type": "stream",
          "name": "stdout",
          "text": [
            "Estas son las dimensiones del dataset agrupado por la suma de la cantidad: \n",
            " (413301, 18)\n"
          ]
        }
      ]
    },
    {
      "cell_type": "markdown",
      "source": [
        "Se elimina la columna Item"
      ],
      "metadata": {
        "id": "u5IQdQPiVelM"
      }
    },
    {
      "cell_type": "code",
      "source": [
        "# Código por elaboración propia\n",
        "\n",
        "df_total=df_agrupado.drop('Item', axis=1)\n",
        "df_total['C.O.'] = df_total['C.O.'].astype(str)"
      ],
      "metadata": {
        "id": "f72ZbxVKWBIf"
      },
      "execution_count": null,
      "outputs": []
    },
    {
      "cell_type": "code",
      "source": [
        "print(\"Estas son las dimensiones del dataset: \\n\", df_total.shape )"
      ],
      "metadata": {
        "colab": {
          "base_uri": "https://localhost:8080/"
        },
        "id": "7k-dDtn5VqNs",
        "outputId": "985c1a49-0cde-41ab-cfc7-9c9efdffc976"
      },
      "execution_count": null,
      "outputs": [
        {
          "output_type": "stream",
          "name": "stdout",
          "text": [
            "Estas son las dimensiones del dataset: \n",
            " (413301, 17)\n"
          ]
        }
      ]
    },
    {
      "cell_type": "markdown",
      "source": [
        "Se exporta un resumen de los datos para dar fin con los respectivos metadatos del dataset total."
      ],
      "metadata": {
        "id": "7MeP9nWG3EET"
      }
    },
    {
      "cell_type": "code",
      "source": [
        "!pip install pandas-profiling"
      ],
      "metadata": {
        "id": "ICJLcaxUcNVJ"
      },
      "execution_count": null,
      "outputs": []
    },
    {
      "cell_type": "code",
      "source": [
        "from pandas_profiling import ProfileReport\n",
        "\n",
        "profile = ProfileReport(df_total, title=\"Pandas Profiling Report\")\n",
        "profile.to_file(\"pandas_profiling_report.html\")"
      ],
      "metadata": {
        "id": "zy5PRUGXcC9u",
        "colab": {
          "base_uri": "https://localhost:8080/",
          "height": 35
        },
        "outputId": "b1025d4e-bc1f-4fc3-c50b-c7daf1b3f635"
      },
      "execution_count": null,
      "outputs": [
        {
          "output_type": "execute_result",
          "data": {
            "text/plain": [
              "'from pandas_profiling import ProfileReport\\n\\nprofile = ProfileReport(df_total, title=\"Pandas Profiling Report\")\\nprofile.to_file(\"pandas_profiling_report.html\")'"
            ],
            "application/vnd.google.colaboratory.intrinsic+json": {
              "type": "string"
            }
          },
          "metadata": {},
          "execution_count": 50
        }
      ]
    },
    {
      "cell_type": "code",
      "source": [
        "from google.colab import files\n",
        "files.download(\"pandas_profiling_report.html\")"
      ],
      "metadata": {
        "id": "h2rp84VKeIwH",
        "colab": {
          "base_uri": "https://localhost:8080/",
          "height": 35
        },
        "outputId": "7859d720-f3ba-4a46-825c-c0599373ff4e"
      },
      "execution_count": null,
      "outputs": [
        {
          "output_type": "execute_result",
          "data": {
            "text/plain": [
              "'from google.colab import files\\nfiles.download(\"pandas_profiling_report.html\")'"
            ],
            "application/vnd.google.colaboratory.intrinsic+json": {
              "type": "string"
            }
          },
          "metadata": {},
          "execution_count": 51
        }
      ]
    },
    {
      "cell_type": "markdown",
      "source": [
        "Se descarga un .csv con la información hasta este punto, con el fin de tener la un dataset limpio, listo para continuar con el modelado."
      ],
      "metadata": {
        "id": "cBaxvcv43Xp5"
      }
    },
    {
      "cell_type": "code",
      "source": [
        "df_total.to_csv('datos_limpios.csv', sep=';', index=False)"
      ],
      "metadata": {
        "id": "SJm8_SNU4LEZ"
      },
      "execution_count": null,
      "outputs": []
    },
    {
      "cell_type": "markdown",
      "source": [
        "#Apéndice IV:"
      ],
      "metadata": {
        "id": "NTZJzkNcIH_D"
      }
    },
    {
      "cell_type": "markdown",
      "source": [
        "## Adaptación de los datos"
      ],
      "metadata": {
        "id": "ggTPqfsuTK4O"
      }
    },
    {
      "cell_type": "markdown",
      "source": [
        "Se toman los datos limpios desde un nuevo dataset, donde se especifica el tipo de dato para dos columnas especificas de forma que sean tratadas correctamente."
      ],
      "metadata": {
        "id": "67r8VkHiShHC"
      }
    },
    {
      "cell_type": "code",
      "source": [
        "df_original = pd.read_csv('datos_limpios.csv', sep=';', dtype={'C.O.': str})"
      ],
      "metadata": {
        "id": "rvooHvDuUu7A"
      },
      "execution_count": null,
      "outputs": []
    },
    {
      "cell_type": "code",
      "source": [
        "df_original['Aplico_descuento'] = df_original['Aplico_descuento'].astype(bool)"
      ],
      "metadata": {
        "id": "N_B1pcp9Szaw"
      },
      "execution_count": null,
      "outputs": []
    },
    {
      "cell_type": "code",
      "source": [
        "df_original.columns"
      ],
      "metadata": {
        "colab": {
          "base_uri": "https://localhost:8080/"
        },
        "id": "hfdclMohRnOT",
        "outputId": "6a55bc7a-1876-4665-a8f8-ecace2dfd673"
      },
      "execution_count": null,
      "outputs": [
        {
          "output_type": "execute_result",
          "data": {
            "text/plain": [
              "Index(['C.O.', 'LINEA', 'MARCA', 'DEPORTE', 'GENERO', 'SUB CATEGORIA',\n",
              "       'WEB COLOR', 'Valor neto local', 'Tipo de Marca', 'Nivel', 'Dia', 'Mes',\n",
              "       'Ano', 'Trimestre', 'Dia Semana', 'Aplico_descuento', 'Cantidad inv.'],\n",
              "      dtype='object')"
            ]
          },
          "metadata": {},
          "execution_count": 55
        }
      ]
    },
    {
      "cell_type": "markdown",
      "source": [
        "Las columnas numericas como el dia, el mes, el año, la semana del año no se normalizarán dado que estas variables contienen un rango de valores fijos y su rango no es extenso, asi pues estas variables no tienen gran variabilidad que justifique su normalización.\n",
        "\n",
        "\n",
        "Se valida la distribuición de la columna Valor neto local para establecer la necesidad de normalizar o no."
      ],
      "metadata": {
        "id": "HhRs9YbJTboJ"
      }
    },
    {
      "cell_type": "code",
      "source": [
        "# Código por elaboración propia\n",
        "\n",
        "col = ['Valor neto local']\n",
        "plt.figure()\n",
        "plt.hist(df_original[col], edgecolor='k')\n",
        "plt.title('Distribución de Valor neto local')\n",
        "plt.xlabel(col)\n",
        "plt.ylabel('Frecuencia')\n",
        "\n",
        "plt.show()\n"
      ],
      "metadata": {
        "colab": {
          "base_uri": "https://localhost:8080/",
          "height": 472
        },
        "id": "kyCXzi0aTlDz",
        "outputId": "c6f4d427-0b1e-438c-998b-527f257989b0"
      },
      "execution_count": null,
      "outputs": [
        {
          "output_type": "display_data",
          "data": {
            "text/plain": [
              "<Figure size 640x480 with 1 Axes>"
            ],
            "image/png": "[encoded data removed]"
          },
          "metadata": {}
        }
      ]
    },
    {
      "cell_type": "markdown",
      "source": [
        "Se valida por ultima vez que no se tengan valores faltantes en el dataset, para asegurar un buen funcionamiento de los algoritmos seleccionados."
      ],
      "metadata": {
        "id": "w1SRPOSOYCk5"
      }
    },
    {
      "cell_type": "code",
      "source": [
        "# Se realiza una adaptación del código utilizado en la materia 05MBID del presente master.\n",
        "\n",
        "# Se crea un diccionario para almacenar la cantidad de valores faltantes por columna\n",
        "nulos_por_columna = {}\n",
        "\n",
        "# Se genera la iteracion sobre las columnas del dataset\n",
        "for col in df_original.columns:\n",
        "    nulos = df_original[col].isna().sum()  # Cuenta los valores nulos\n",
        "    if df_original[col].dtype == 'object':\n",
        "        vacios = df_original[col].astype(str).str.strip().eq('').sum()  # Cuenta los valores vacíos\n",
        "    else:\n",
        "        vacios = 0\n",
        "    nulos_por_columna[col] = nulos + vacios  # Suma los valores nulos y los vacíos\n",
        "\n",
        "#  Se crea un DataFrame a partir del diccionario\n",
        "nulos_x_columna = pd.DataFrame(nulos_por_columna.items(), columns=['Columna', 'Cantidad de Nulos y Vacíos'])\n",
        "\n",
        "print(f\"Cantidad de filas que tienen valores nulos y vacíos por atributo para el dataset general:\\n \\n{nulos_x_columna}\")"
      ],
      "metadata": {
        "colab": {
          "base_uri": "https://localhost:8080/"
        },
        "id": "Ph30wVcEYCIR",
        "outputId": "9e0bd3f6-8d9d-4ab4-9957-2fe635c67a21"
      },
      "execution_count": null,
      "outputs": [
        {
          "output_type": "stream",
          "name": "stdout",
          "text": [
            "Cantidad de filas que tienen valores nulos y vacíos por atributo para el dataset general:\n",
            " \n",
            "             Columna  Cantidad de Nulos y Vacíos\n",
            "0               C.O.                           0\n",
            "1              LINEA                           0\n",
            "2              MARCA                           0\n",
            "3            DEPORTE                           0\n",
            "4             GENERO                           0\n",
            "5      SUB CATEGORIA                           0\n",
            "6          WEB COLOR                           0\n",
            "7   Valor neto local                           0\n",
            "8      Tipo de Marca                           0\n",
            "9              Nivel                           0\n",
            "10               Dia                           0\n",
            "11               Mes                           0\n",
            "12               Ano                           0\n",
            "13         Trimestre                           0\n",
            "14        Dia Semana                           0\n",
            "15  Aplico_descuento                           0\n",
            "16     Cantidad inv.                           0\n"
          ]
        }
      ]
    },
    {
      "cell_type": "markdown",
      "source": [
        "A continuación, se va a mantener el dataset original y se van a crear dos dataset independientes para los datos normalizados y los datos categorizados.\n"
      ],
      "metadata": {
        "id": "jYRbkOQziMP3"
      }
    },
    {
      "cell_type": "code",
      "source": [
        "# Código por elaboración propia\n",
        "\n",
        "from sklearn.preprocessing import StandardScaler\n",
        "\n",
        "# Se definen las variables a normalizar\n",
        "numeric_df = df_original[['Valor neto local']]\n",
        "\n",
        "# Se ajusta el StandardScaler a los datos definidos\n",
        "scaler = StandardScaler()\n",
        "scaled_data = scaler.fit_transform(numeric_df)\n",
        "\n",
        "# Se convierten los datos normalizados en un DataFrame\n",
        "df_normalizado = pd.DataFrame(scaled_data, columns=['Valor neto local'])\n",
        "\n",
        "df_normalizado.head()"
      ],
      "metadata": {
        "colab": {
          "base_uri": "https://localhost:8080/",
          "height": 206
        },
        "id": "ksiNCNBSLjfW",
        "outputId": "4162db22-5f0b-4309-af90-c3f36b0500fd"
      },
      "execution_count": null,
      "outputs": [
        {
          "output_type": "execute_result",
          "data": {
            "text/plain": [
              "   Valor neto local\n",
              "0         -0.708202\n",
              "1         -0.608214\n",
              "2         -0.608214\n",
              "3         -0.508226\n",
              "4         -0.508226"
            ],
            "text/html": [
              "\n",
              "  <div id=\"df-0878e4ae-6884-4ba4-9e72-e6416bec9448\" class=\"colab-df-container\">\n",
              "    <div>\n",
              "<style scoped>\n",
              "    .dataframe tbody tr th:only-of-type {\n",
              "        vertical-align: middle;\n",
              "    }\n",
              "\n",
              "    .dataframe tbody tr th {\n",
              "        vertical-align: top;\n",
              "    }\n",
              "\n",
              "    .dataframe thead th {\n",
              "        text-align: right;\n",
              "    }\n",
              "</style>\n",
              "<table border=\"1\" class=\"dataframe\">\n",
              "  <thead>\n",
              "    <tr style=\"text-align: right;\">\n",
              "      <th></th>\n",
              "      <th>Valor neto local</th>\n",
              "    </tr>\n",
              "  </thead>\n",
              "  <tbody>\n",
              "    <tr>\n",
              "      <th>0</th>\n",
              "      <td>-0.708202</td>\n",
              "    </tr>\n",
              "    <tr>\n",
              "      <th>1</th>\n",
              "      <td>-0.608214</td>\n",
              "    </tr>\n",
              "    <tr>\n",
              "      <th>2</th>\n",
              "      <td>-0.608214</td>\n",
              "    </tr>\n",
              "    <tr>\n",
              "      <th>3</th>\n",
              "      <td>-0.508226</td>\n",
              "    </tr>\n",
              "    <tr>\n",
              "      <th>4</th>\n",
              "      <td>-0.508226</td>\n",
              "    </tr>\n",
              "  </tbody>\n",
              "</table>\n",
              "</div>\n",
              "    <div class=\"colab-df-buttons\">\n",
              "\n",
              "  <div class=\"colab-df-container\">\n",
              "    <button class=\"colab-df-convert\" onclick=\"convertToInteractive('df-0878e4ae-6884-4ba4-9e72-e6416bec9448')\"\n",
              "            title=\"Convert this dataframe to an interactive table.\"\n",
              "            style=\"display:none;\">\n",
              "\n",
              "  <svg xmlns=\"http://www.w3.org/2000/svg\" height=\"24px\" viewBox=\"0 -960 960 960\">\n",
              "    <path d=\"M120-120v-720h720v720H120Zm60-500h600v-160H180v160Zm220 220h160v-160H400v160Zm0 220h160v-160H400v160ZM180-400h160v-160H180v160Zm440 0h160v-160H620v160ZM180-180h160v-160H180v160Zm440 0h160v-160H620v160Z\"/>\n",
              "  </svg>\n",
              "    </button>\n",
              "\n",
              "  <style>\n",
              "    .colab-df-container {\n",
              "      display:flex;\n",
              "      gap: 12px;\n",
              "    }\n",
              "\n",
              "    .colab-df-convert {\n",
              "      background-color: #E8F0FE;\n",
              "      border: none;\n",
              "      border-radius: 50%;\n",
              "      cursor: pointer;\n",
              "      display: none;\n",
              "      fill: #1967D2;\n",
              "      height: 32px;\n",
              "      padding: 0 0 0 0;\n",
              "      width: 32px;\n",
              "    }\n",
              "\n",
              "    .colab-df-convert:hover {\n",
              "      background-color: #E2EBFA;\n",
              "      box-shadow: 0px 1px 2px rgba(60, 64, 67, 0.3), 0px 1px 3px 1px rgba(60, 64, 67, 0.15);\n",
              "      fill: #174EA6;\n",
              "    }\n",
              "\n",
              "    .colab-df-buttons div {\n",
              "      margin-bottom: 4px;\n",
              "    }\n",
              "\n",
              "    [theme=dark] .colab-df-convert {\n",
              "      background-color: #3B4455;\n",
              "      fill: #D2E3FC;\n",
              "    }\n",
              "\n",
              "    [theme=dark] .colab-df-convert:hover {\n",
              "      background-color: #434B5C;\n",
              "      box-shadow: 0px 1px 3px 1px rgba(0, 0, 0, 0.15);\n",
              "      filter: drop-shadow(0px 1px 2px rgba(0, 0, 0, 0.3));\n",
              "      fill: #FFFFFF;\n",
              "    }\n",
              "  </style>\n",
              "\n",
              "    <script>\n",
              "      const buttonEl =\n",
              "        document.querySelector('#df-0878e4ae-6884-4ba4-9e72-e6416bec9448 button.colab-df-convert');\n",
              "      buttonEl.style.display =\n",
              "        google.colab.kernel.accessAllowed ? 'block' : 'none';\n",
              "\n",
              "      async function convertToInteractive(key) {\n",
              "        const element = document.querySelector('#df-0878e4ae-6884-4ba4-9e72-e6416bec9448');\n",
              "        const dataTable =\n",
              "          await google.colab.kernel.invokeFunction('convertToInteractive',\n",
              "                                                    [key], {});\n",
              "        if (!dataTable) return;\n",
              "\n",
              "        const docLinkHtml = 'Like what you see? Visit the ' +\n",
              "          '<a target=\"_blank\" href=https://colab.research.google.com/notebooks/data_table.ipynb>data table notebook</a>'\n",
              "          + ' to learn more about interactive tables.';\n",
              "        element.innerHTML = '';\n",
              "        dataTable['output_type'] = 'display_data';\n",
              "        await google.colab.output.renderOutput(dataTable, element);\n",
              "        const docLink = document.createElement('div');\n",
              "        docLink.innerHTML = docLinkHtml;\n",
              "        element.appendChild(docLink);\n",
              "      }\n",
              "    </script>\n",
              "  </div>\n",
              "\n",
              "\n",
              "<div id=\"df-8b12ecf1-c031-45f8-b8e1-c6c353052d5b\">\n",
              "  <button class=\"colab-df-quickchart\" onclick=\"quickchart('df-8b12ecf1-c031-45f8-b8e1-c6c353052d5b')\"\n",
              "            title=\"Suggest charts.\"\n",
              "            style=\"display:none;\">\n",
              "\n",
              "<svg xmlns=\"http://www.w3.org/2000/svg\" height=\"24px\"viewBox=\"0 0 24 24\"\n",
              "     width=\"24px\">\n",
              "    <g>\n",
              "        <path d=\"M19 3H5c-1.1 0-2 .9-2 2v14c0 1.1.9 2 2 2h14c1.1 0 2-.9 2-2V5c0-1.1-.9-2-2-2zM9 17H7v-7h2v7zm4 0h-2V7h2v10zm4 0h-2v-4h2v4z\"/>\n",
              "    </g>\n",
              "</svg>\n",
              "  </button>\n",
              "\n",
              "<style>\n",
              "  .colab-df-quickchart {\n",
              "    background-color: #E8F0FE;\n",
              "    border: none;\n",
              "    border-radius: 50%;\n",
              "    cursor: pointer;\n",
              "    display: none;\n",
              "    fill: #1967D2;\n",
              "    height: 32px;\n",
              "    padding: 0 0 0 0;\n",
              "    width: 32px;\n",
              "  }\n",
              "\n",
              "  .colab-df-quickchart:hover {\n",
              "    background-color: #E2EBFA;\n",
              "    box-shadow: 0px 1px 2px rgba(60, 64, 67, 0.3), 0px 1px 3px 1px rgba(60, 64, 67, 0.15);\n",
              "    fill: #174EA6;\n",
              "  }\n",
              "\n",
              "  [theme=dark] .colab-df-quickchart {\n",
              "    background-color: #3B4455;\n",
              "    fill: #D2E3FC;\n",
              "  }\n",
              "\n",
              "  [theme=dark] .colab-df-quickchart:hover {\n",
              "    background-color: #434B5C;\n",
              "    box-shadow: 0px 1px 3px 1px rgba(0, 0, 0, 0.15);\n",
              "    filter: drop-shadow(0px 1px 2px rgba(0, 0, 0, 0.3));\n",
              "    fill: #FFFFFF;\n",
              "  }\n",
              "</style>\n",
              "\n",
              "  <script>\n",
              "    async function quickchart(key) {\n",
              "      const charts = await google.colab.kernel.invokeFunction(\n",
              "          'suggestCharts', [key], {});\n",
              "    }\n",
              "    (() => {\n",
              "      let quickchartButtonEl =\n",
              "        document.querySelector('#df-8b12ecf1-c031-45f8-b8e1-c6c353052d5b button');\n",
              "      quickchartButtonEl.style.display =\n",
              "        google.colab.kernel.accessAllowed ? 'block' : 'none';\n",
              "    })();\n",
              "  </script>\n",
              "</div>\n",
              "    </div>\n",
              "  </div>\n"
            ]
          },
          "metadata": {},
          "execution_count": 58
        }
      ]
    },
    {
      "cell_type": "code",
      "source": [
        "# Código por elaboración propia\n",
        "\n",
        "from sklearn.preprocessing import OneHotEncoder\n",
        "\n",
        "# Se definen las variables a categorizar\n",
        "categorical_columns = ['LINEA', 'MARCA', 'DEPORTE', 'GENERO','SUB CATEGORIA', 'WEB COLOR', 'Tipo de Marca','Nivel', 'Dia', 'Mes', 'Ano', 'Trimestre', 'Dia Semana']\n",
        "\n",
        "encoder = OneHotEncoder(sparse=False)\n",
        "\n",
        "# Se ajusta el StandardScaler a los datos definidos\n",
        "encoded_data = encoder.fit_transform(df_original[categorical_columns])\n",
        "\n",
        "df_categorizado = pd.DataFrame(encoded_data, columns=encoder.get_feature_names_out(categorical_columns))\n",
        "\n",
        "df_categorizado.head()"
      ],
      "metadata": {
        "colab": {
          "base_uri": "https://localhost:8080/",
          "height": 308
        },
        "id": "IVufhBN8qI9z",
        "outputId": "ee9f9021-0ab8-4265-d0a6-ebc5df0413cb"
      },
      "execution_count": null,
      "outputs": [
        {
          "output_type": "stream",
          "name": "stderr",
          "text": [
            "/usr/local/lib/python3.10/dist-packages/sklearn/preprocessing/_encoders.py:868: FutureWarning: `sparse` was renamed to `sparse_output` in version 1.2 and will be removed in 1.4. `sparse_output` is ignored unless you leave `sparse` to its default value.\n",
            "  warnings.warn(\n"
          ]
        },
        {
          "output_type": "execute_result",
          "data": {
            "text/plain": [
              "   LINEA_ACCESORIOS  LINEA_CALZADO  LINEA_ROPA  MARCA_ADIDAS  MARCA_ASICS  \\\n",
              "0               0.0            0.0         1.0           0.0          0.0   \n",
              "1               0.0            0.0         1.0           0.0          0.0   \n",
              "2               0.0            0.0         1.0           0.0          0.0   \n",
              "3               0.0            0.0         1.0           0.0          0.0   \n",
              "4               0.0            0.0         1.0           0.0          0.0   \n",
              "\n",
              "   MARCA_CREP PROTECT  MARCA_KEDS  MARCA_MERRELL  MARCA_NIKE  MARCA_ON  ...  \\\n",
              "0                 0.0         0.0            0.0         1.0       0.0  ...   \n",
              "1                 0.0         0.0            0.0         1.0       0.0  ...   \n",
              "2                 0.0         0.0            0.0         1.0       0.0  ...   \n",
              "3                 0.0         0.0            0.0         1.0       0.0  ...   \n",
              "4                 0.0         0.0            0.0         1.0       0.0  ...   \n",
              "\n",
              "   Trimestre_Q2  Trimestre_Q3  Trimestre_Q4  Dia Semana_Domingo  \\\n",
              "0           0.0           0.0           1.0                 0.0   \n",
              "1           0.0           0.0           0.0                 0.0   \n",
              "2           0.0           0.0           1.0                 0.0   \n",
              "3           0.0           0.0           1.0                 0.0   \n",
              "4           0.0           0.0           1.0                 0.0   \n",
              "\n",
              "   Dia Semana_Jueves  Dia Semana_Lunes  Dia Semana_Martes  \\\n",
              "0                0.0               0.0                0.0   \n",
              "1                1.0               0.0                0.0   \n",
              "2                0.0               0.0                1.0   \n",
              "3                0.0               0.0                0.0   \n",
              "4                0.0               0.0                0.0   \n",
              "\n",
              "   Dia Semana_Miecoles  Dia Semana_Sabado  Dia Semana_Viernes  \n",
              "0                  0.0                0.0                 1.0  \n",
              "1                  0.0                0.0                 0.0  \n",
              "2                  0.0                0.0                 0.0  \n",
              "3                  0.0                1.0                 0.0  \n",
              "4                  1.0                0.0                 0.0  \n",
              "\n",
              "[5 rows x 162 columns]"
            ],
            "text/html": [
              "\n",
              "  <div id=\"df-dac36815-4d96-4f49-8826-a723794cfa90\" class=\"colab-df-container\">\n",
              "    <div>\n",
              "<style scoped>\n",
              "    .dataframe tbody tr th:only-of-type {\n",
              "        vertical-align: middle;\n",
              "    }\n",
              "\n",
              "    .dataframe tbody tr th {\n",
              "        vertical-align: top;\n",
              "    }\n",
              "\n",
              "    .dataframe thead th {\n",
              "        text-align: right;\n",
              "    }\n",
              "</style>\n",
              "<table border=\"1\" class=\"dataframe\">\n",
              "  <thead>\n",
              "    <tr style=\"text-align: right;\">\n",
              "      <th></th>\n",
              "      <th>LINEA_ACCESORIOS</th>\n",
              "      <th>LINEA_CALZADO</th>\n",
              "      <th>LINEA_ROPA</th>\n",
              "      <th>MARCA_ADIDAS</th>\n",
              "      <th>MARCA_ASICS</th>\n",
              "      <th>MARCA_CREP PROTECT</th>\n",
              "      <th>MARCA_KEDS</th>\n",
              "      <th>MARCA_MERRELL</th>\n",
              "      <th>MARCA_NIKE</th>\n",
              "      <th>MARCA_ON</th>\n",
              "      <th>...</th>\n",
              "      <th>Trimestre_Q2</th>\n",
              "      <th>Trimestre_Q3</th>\n",
              "      <th>Trimestre_Q4</th>\n",
              "      <th>Dia Semana_Domingo</th>\n",
              "      <th>Dia Semana_Jueves</th>\n",
              "      <th>Dia Semana_Lunes</th>\n",
              "      <th>Dia Semana_Martes</th>\n",
              "      <th>Dia Semana_Miecoles</th>\n",
              "      <th>Dia Semana_Sabado</th>\n",
              "      <th>Dia Semana_Viernes</th>\n",
              "    </tr>\n",
              "  </thead>\n",
              "  <tbody>\n",
              "    <tr>\n",
              "      <th>0</th>\n",
              "      <td>0.0</td>\n",
              "      <td>0.0</td>\n",
              "      <td>1.0</td>\n",
              "      <td>0.0</td>\n",
              "      <td>0.0</td>\n",
              "      <td>0.0</td>\n",
              "      <td>0.0</td>\n",
              "      <td>0.0</td>\n",
              "      <td>1.0</td>\n",
              "      <td>0.0</td>\n",
              "      <td>...</td>\n",
              "      <td>0.0</td>\n",
              "      <td>0.0</td>\n",
              "      <td>1.0</td>\n",
              "      <td>0.0</td>\n",
              "      <td>0.0</td>\n",
              "      <td>0.0</td>\n",
              "      <td>0.0</td>\n",
              "      <td>0.0</td>\n",
              "      <td>0.0</td>\n",
              "      <td>1.0</td>\n",
              "    </tr>\n",
              "    <tr>\n",
              "      <th>1</th>\n",
              "      <td>0.0</td>\n",
              "      <td>0.0</td>\n",
              "      <td>1.0</td>\n",
              "      <td>0.0</td>\n",
              "      <td>0.0</td>\n",
              "      <td>0.0</td>\n",
              "      <td>0.0</td>\n",
              "      <td>0.0</td>\n",
              "      <td>1.0</td>\n",
              "      <td>0.0</td>\n",
              "      <td>...</td>\n",
              "      <td>0.0</td>\n",
              "      <td>0.0</td>\n",
              "      <td>0.0</td>\n",
              "      <td>0.0</td>\n",
              "      <td>1.0</td>\n",
              "      <td>0.0</td>\n",
              "      <td>0.0</td>\n",
              "      <td>0.0</td>\n",
              "      <td>0.0</td>\n",
              "      <td>0.0</td>\n",
              "    </tr>\n",
              "    <tr>\n",
              "      <th>2</th>\n",
              "      <td>0.0</td>\n",
              "      <td>0.0</td>\n",
              "      <td>1.0</td>\n",
              "      <td>0.0</td>\n",
              "      <td>0.0</td>\n",
              "      <td>0.0</td>\n",
              "      <td>0.0</td>\n",
              "      <td>0.0</td>\n",
              "      <td>1.0</td>\n",
              "      <td>0.0</td>\n",
              "      <td>...</td>\n",
              "      <td>0.0</td>\n",
              "      <td>0.0</td>\n",
              "      <td>1.0</td>\n",
              "      <td>0.0</td>\n",
              "      <td>0.0</td>\n",
              "      <td>0.0</td>\n",
              "      <td>1.0</td>\n",
              "      <td>0.0</td>\n",
              "      <td>0.0</td>\n",
              "      <td>0.0</td>\n",
              "    </tr>\n",
              "    <tr>\n",
              "      <th>3</th>\n",
              "      <td>0.0</td>\n",
              "      <td>0.0</td>\n",
              "      <td>1.0</td>\n",
              "      <td>0.0</td>\n",
              "      <td>0.0</td>\n",
              "      <td>0.0</td>\n",
              "      <td>0.0</td>\n",
              "      <td>0.0</td>\n",
              "      <td>1.0</td>\n",
              "      <td>0.0</td>\n",
              "      <td>...</td>\n",
              "      <td>0.0</td>\n",
              "      <td>0.0</td>\n",
              "      <td>1.0</td>\n",
              "      <td>0.0</td>\n",
              "      <td>0.0</td>\n",
              "      <td>0.0</td>\n",
              "      <td>0.0</td>\n",
              "      <td>0.0</td>\n",
              "      <td>1.0</td>\n",
              "      <td>0.0</td>\n",
              "    </tr>\n",
              "    <tr>\n",
              "      <th>4</th>\n",
              "      <td>0.0</td>\n",
              "      <td>0.0</td>\n",
              "      <td>1.0</td>\n",
              "      <td>0.0</td>\n",
              "      <td>0.0</td>\n",
              "      <td>0.0</td>\n",
              "      <td>0.0</td>\n",
              "      <td>0.0</td>\n",
              "      <td>1.0</td>\n",
              "      <td>0.0</td>\n",
              "      <td>...</td>\n",
              "      <td>0.0</td>\n",
              "      <td>0.0</td>\n",
              "      <td>1.0</td>\n",
              "      <td>0.0</td>\n",
              "      <td>0.0</td>\n",
              "      <td>0.0</td>\n",
              "      <td>0.0</td>\n",
              "      <td>1.0</td>\n",
              "      <td>0.0</td>\n",
              "      <td>0.0</td>\n",
              "    </tr>\n",
              "  </tbody>\n",
              "</table>\n",
              "<p>5 rows × 162 columns</p>\n",
              "</div>\n",
              "    <div class=\"colab-df-buttons\">\n",
              "\n",
              "  <div class=\"colab-df-container\">\n",
              "    <button class=\"colab-df-convert\" onclick=\"convertToInteractive('df-dac36815-4d96-4f49-8826-a723794cfa90')\"\n",
              "            title=\"Convert this dataframe to an interactive table.\"\n",
              "            style=\"display:none;\">\n",
              "\n",
              "  <svg xmlns=\"http://www.w3.org/2000/svg\" height=\"24px\" viewBox=\"0 -960 960 960\">\n",
              "    <path d=\"M120-120v-720h720v720H120Zm60-500h600v-160H180v160Zm220 220h160v-160H400v160Zm0 220h160v-160H400v160ZM180-400h160v-160H180v160Zm440 0h160v-160H620v160ZM180-180h160v-160H180v160Zm440 0h160v-160H620v160Z\"/>\n",
              "  </svg>\n",
              "    </button>\n",
              "\n",
              "  <style>\n",
              "    .colab-df-container {\n",
              "      display:flex;\n",
              "      gap: 12px;\n",
              "    }\n",
              "\n",
              "    .colab-df-convert {\n",
              "      background-color: #E8F0FE;\n",
              "      border: none;\n",
              "      border-radius: 50%;\n",
              "      cursor: pointer;\n",
              "      display: none;\n",
              "      fill: #1967D2;\n",
              "      height: 32px;\n",
              "      padding: 0 0 0 0;\n",
              "      width: 32px;\n",
              "    }\n",
              "\n",
              "    .colab-df-convert:hover {\n",
              "      background-color: #E2EBFA;\n",
              "      box-shadow: 0px 1px 2px rgba(60, 64, 67, 0.3), 0px 1px 3px 1px rgba(60, 64, 67, 0.15);\n",
              "      fill: #174EA6;\n",
              "    }\n",
              "\n",
              "    .colab-df-buttons div {\n",
              "      margin-bottom: 4px;\n",
              "    }\n",
              "\n",
              "    [theme=dark] .colab-df-convert {\n",
              "      background-color: #3B4455;\n",
              "      fill: #D2E3FC;\n",
              "    }\n",
              "\n",
              "    [theme=dark] .colab-df-convert:hover {\n",
              "      background-color: #434B5C;\n",
              "      box-shadow: 0px 1px 3px 1px rgba(0, 0, 0, 0.15);\n",
              "      filter: drop-shadow(0px 1px 2px rgba(0, 0, 0, 0.3));\n",
              "      fill: #FFFFFF;\n",
              "    }\n",
              "  </style>\n",
              "\n",
              "    <script>\n",
              "      const buttonEl =\n",
              "        document.querySelector('#df-dac36815-4d96-4f49-8826-a723794cfa90 button.colab-df-convert');\n",
              "      buttonEl.style.display =\n",
              "        google.colab.kernel.accessAllowed ? 'block' : 'none';\n",
              "\n",
              "      async function convertToInteractive(key) {\n",
              "        const element = document.querySelector('#df-dac36815-4d96-4f49-8826-a723794cfa90');\n",
              "        const dataTable =\n",
              "          await google.colab.kernel.invokeFunction('convertToInteractive',\n",
              "                                                    [key], {});\n",
              "        if (!dataTable) return;\n",
              "\n",
              "        const docLinkHtml = 'Like what you see? Visit the ' +\n",
              "          '<a target=\"_blank\" href=https://colab.research.google.com/notebooks/data_table.ipynb>data table notebook</a>'\n",
              "          + ' to learn more about interactive tables.';\n",
              "        element.innerHTML = '';\n",
              "        dataTable['output_type'] = 'display_data';\n",
              "        await google.colab.output.renderOutput(dataTable, element);\n",
              "        const docLink = document.createElement('div');\n",
              "        docLink.innerHTML = docLinkHtml;\n",
              "        element.appendChild(docLink);\n",
              "      }\n",
              "    </script>\n",
              "  </div>\n",
              "\n",
              "\n",
              "<div id=\"df-57581a7d-b710-4f0e-be0f-a5c2132d321b\">\n",
              "  <button class=\"colab-df-quickchart\" onclick=\"quickchart('df-57581a7d-b710-4f0e-be0f-a5c2132d321b')\"\n",
              "            title=\"Suggest charts.\"\n",
              "            style=\"display:none;\">\n",
              "\n",
              "<svg xmlns=\"http://www.w3.org/2000/svg\" height=\"24px\"viewBox=\"0 0 24 24\"\n",
              "     width=\"24px\">\n",
              "    <g>\n",
              "        <path d=\"M19 3H5c-1.1 0-2 .9-2 2v14c0 1.1.9 2 2 2h14c1.1 0 2-.9 2-2V5c0-1.1-.9-2-2-2zM9 17H7v-7h2v7zm4 0h-2V7h2v10zm4 0h-2v-4h2v4z\"/>\n",
              "    </g>\n",
              "</svg>\n",
              "  </button>\n",
              "\n",
              "<style>\n",
              "  .colab-df-quickchart {\n",
              "    background-color: #E8F0FE;\n",
              "    border: none;\n",
              "    border-radius: 50%;\n",
              "    cursor: pointer;\n",
              "    display: none;\n",
              "    fill: #1967D2;\n",
              "    height: 32px;\n",
              "    padding: 0 0 0 0;\n",
              "    width: 32px;\n",
              "  }\n",
              "\n",
              "  .colab-df-quickchart:hover {\n",
              "    background-color: #E2EBFA;\n",
              "    box-shadow: 0px 1px 2px rgba(60, 64, 67, 0.3), 0px 1px 3px 1px rgba(60, 64, 67, 0.15);\n",
              "    fill: #174EA6;\n",
              "  }\n",
              "\n",
              "  [theme=dark] .colab-df-quickchart {\n",
              "    background-color: #3B4455;\n",
              "    fill: #D2E3FC;\n",
              "  }\n",
              "\n",
              "  [theme=dark] .colab-df-quickchart:hover {\n",
              "    background-color: #434B5C;\n",
              "    box-shadow: 0px 1px 3px 1px rgba(0, 0, 0, 0.15);\n",
              "    filter: drop-shadow(0px 1px 2px rgba(0, 0, 0, 0.3));\n",
              "    fill: #FFFFFF;\n",
              "  }\n",
              "</style>\n",
              "\n",
              "  <script>\n",
              "    async function quickchart(key) {\n",
              "      const charts = await google.colab.kernel.invokeFunction(\n",
              "          'suggestCharts', [key], {});\n",
              "    }\n",
              "    (() => {\n",
              "      let quickchartButtonEl =\n",
              "        document.querySelector('#df-57581a7d-b710-4f0e-be0f-a5c2132d321b button');\n",
              "      quickchartButtonEl.style.display =\n",
              "        google.colab.kernel.accessAllowed ? 'block' : 'none';\n",
              "    })();\n",
              "  </script>\n",
              "</div>\n",
              "    </div>\n",
              "  </div>\n"
            ]
          },
          "metadata": {},
          "execution_count": 59
        }
      ]
    },
    {
      "cell_type": "code",
      "source": [
        "df_categorizado.shape"
      ],
      "metadata": {
        "colab": {
          "base_uri": "https://localhost:8080/"
        },
        "id": "iipSlccDyin2",
        "outputId": "de47e0e2-2843-497f-c19f-250649fde816"
      },
      "execution_count": null,
      "outputs": [
        {
          "output_type": "execute_result",
          "data": {
            "text/plain": [
              "(413301, 162)"
            ]
          },
          "metadata": {},
          "execution_count": 60
        }
      ]
    },
    {
      "cell_type": "markdown",
      "source": [
        "Se unifican los datos normalizados, los datos categorizados y los datos faltantes del dataset original"
      ],
      "metadata": {
        "id": "02RNn0VLsk14"
      }
    },
    {
      "cell_type": "code",
      "source": [
        "# Se realiza una adaptación del código utilizado en la materia 13MBID del presente master.\n",
        "\n",
        "# Columnas del df_original que deseas incluir en el df_modelado\n",
        "col_org = ['C.O.', 'Aplico_descuento', 'Cantidad inv.']\n",
        "\n",
        "# Extraer las columnas deseadas de df_original\n",
        "df_org = df_original[col_org]\n",
        "\n",
        "# Concatenar df_normalizado, df_categorizado_tot y df_parte_original en df_modelado\n",
        "df_modelado = pd.concat([df_normalizado, df_categorizado, df_org], axis=1)\n",
        "\n",
        "# Mostrar las primeras filas del DataFrame resultante\n",
        "df_modelado.head(2)\n"
      ],
      "metadata": {
        "colab": {
          "base_uri": "https://localhost:8080/",
          "height": 196
        },
        "id": "PMs_TL-TsqUq",
        "outputId": "91b865e0-e7d4-4ef6-c321-a47f46983f27"
      },
      "execution_count": null,
      "outputs": [
        {
          "output_type": "execute_result",
          "data": {
            "text/plain": [
              "   Valor neto local  LINEA_ACCESORIOS  LINEA_CALZADO  LINEA_ROPA  \\\n",
              "0         -0.708202               0.0            0.0         1.0   \n",
              "1         -0.608214               0.0            0.0         1.0   \n",
              "\n",
              "   MARCA_ADIDAS  MARCA_ASICS  MARCA_CREP PROTECT  MARCA_KEDS  MARCA_MERRELL  \\\n",
              "0           0.0          0.0                 0.0         0.0            0.0   \n",
              "1           0.0          0.0                 0.0         0.0            0.0   \n",
              "\n",
              "   MARCA_NIKE  ...  Dia Semana_Domingo  Dia Semana_Jueves  Dia Semana_Lunes  \\\n",
              "0         1.0  ...                 0.0                0.0               0.0   \n",
              "1         1.0  ...                 0.0                1.0               0.0   \n",
              "\n",
              "   Dia Semana_Martes  Dia Semana_Miecoles  Dia Semana_Sabado  \\\n",
              "0                0.0                  0.0                0.0   \n",
              "1                0.0                  0.0                0.0   \n",
              "\n",
              "   Dia Semana_Viernes  C.O.  Aplico_descuento  Cantidad inv.  \n",
              "0                 1.0   004              True              1  \n",
              "1                 0.0   004              True              1  \n",
              "\n",
              "[2 rows x 166 columns]"
            ],
            "text/html": [
              "\n",
              "  <div id=\"df-69c268af-da9c-412c-ada2-9497ce206b09\" class=\"colab-df-container\">\n",
              "    <div>\n",
              "<style scoped>\n",
              "    .dataframe tbody tr th:only-of-type {\n",
              "        vertical-align: middle;\n",
              "    }\n",
              "\n",
              "    .dataframe tbody tr th {\n",
              "        vertical-align: top;\n",
              "    }\n",
              "\n",
              "    .dataframe thead th {\n",
              "        text-align: right;\n",
              "    }\n",
              "</style>\n",
              "<table border=\"1\" class=\"dataframe\">\n",
              "  <thead>\n",
              "    <tr style=\"text-align: right;\">\n",
              "      <th></th>\n",
              "      <th>Valor neto local</th>\n",
              "      <th>LINEA_ACCESORIOS</th>\n",
              "      <th>LINEA_CALZADO</th>\n",
              "      <th>LINEA_ROPA</th>\n",
              "      <th>MARCA_ADIDAS</th>\n",
              "      <th>MARCA_ASICS</th>\n",
              "      <th>MARCA_CREP PROTECT</th>\n",
              "      <th>MARCA_KEDS</th>\n",
              "      <th>MARCA_MERRELL</th>\n",
              "      <th>MARCA_NIKE</th>\n",
              "      <th>...</th>\n",
              "      <th>Dia Semana_Domingo</th>\n",
              "      <th>Dia Semana_Jueves</th>\n",
              "      <th>Dia Semana_Lunes</th>\n",
              "      <th>Dia Semana_Martes</th>\n",
              "      <th>Dia Semana_Miecoles</th>\n",
              "      <th>Dia Semana_Sabado</th>\n",
              "      <th>Dia Semana_Viernes</th>\n",
              "      <th>C.O.</th>\n",
              "      <th>Aplico_descuento</th>\n",
              "      <th>Cantidad inv.</th>\n",
              "    </tr>\n",
              "  </thead>\n",
              "  <tbody>\n",
              "    <tr>\n",
              "      <th>0</th>\n",
              "      <td>-0.708202</td>\n",
              "      <td>0.0</td>\n",
              "      <td>0.0</td>\n",
              "      <td>1.0</td>\n",
              "      <td>0.0</td>\n",
              "      <td>0.0</td>\n",
              "      <td>0.0</td>\n",
              "      <td>0.0</td>\n",
              "      <td>0.0</td>\n",
              "      <td>1.0</td>\n",
              "      <td>...</td>\n",
              "      <td>0.0</td>\n",
              "      <td>0.0</td>\n",
              "      <td>0.0</td>\n",
              "      <td>0.0</td>\n",
              "      <td>0.0</td>\n",
              "      <td>0.0</td>\n",
              "      <td>1.0</td>\n",
              "      <td>004</td>\n",
              "      <td>True</td>\n",
              "      <td>1</td>\n",
              "    </tr>\n",
              "    <tr>\n",
              "      <th>1</th>\n",
              "      <td>-0.608214</td>\n",
              "      <td>0.0</td>\n",
              "      <td>0.0</td>\n",
              "      <td>1.0</td>\n",
              "      <td>0.0</td>\n",
              "      <td>0.0</td>\n",
              "      <td>0.0</td>\n",
              "      <td>0.0</td>\n",
              "      <td>0.0</td>\n",
              "      <td>1.0</td>\n",
              "      <td>...</td>\n",
              "      <td>0.0</td>\n",
              "      <td>1.0</td>\n",
              "      <td>0.0</td>\n",
              "      <td>0.0</td>\n",
              "      <td>0.0</td>\n",
              "      <td>0.0</td>\n",
              "      <td>0.0</td>\n",
              "      <td>004</td>\n",
              "      <td>True</td>\n",
              "      <td>1</td>\n",
              "    </tr>\n",
              "  </tbody>\n",
              "</table>\n",
              "<p>2 rows × 166 columns</p>\n",
              "</div>\n",
              "    <div class=\"colab-df-buttons\">\n",
              "\n",
              "  <div class=\"colab-df-container\">\n",
              "    <button class=\"colab-df-convert\" onclick=\"convertToInteractive('df-69c268af-da9c-412c-ada2-9497ce206b09')\"\n",
              "            title=\"Convert this dataframe to an interactive table.\"\n",
              "            style=\"display:none;\">\n",
              "\n",
              "  <svg xmlns=\"http://www.w3.org/2000/svg\" height=\"24px\" viewBox=\"0 -960 960 960\">\n",
              "    <path d=\"M120-120v-720h720v720H120Zm60-500h600v-160H180v160Zm220 220h160v-160H400v160Zm0 220h160v-160H400v160ZM180-400h160v-160H180v160Zm440 0h160v-160H620v160ZM180-180h160v-160H180v160Zm440 0h160v-160H620v160Z\"/>\n",
              "  </svg>\n",
              "    </button>\n",
              "\n",
              "  <style>\n",
              "    .colab-df-container {\n",
              "      display:flex;\n",
              "      gap: 12px;\n",
              "    }\n",
              "\n",
              "    .colab-df-convert {\n",
              "      background-color: #E8F0FE;\n",
              "      border: none;\n",
              "      border-radius: 50%;\n",
              "      cursor: pointer;\n",
              "      display: none;\n",
              "      fill: #1967D2;\n",
              "      height: 32px;\n",
              "      padding: 0 0 0 0;\n",
              "      width: 32px;\n",
              "    }\n",
              "\n",
              "    .colab-df-convert:hover {\n",
              "      background-color: #E2EBFA;\n",
              "      box-shadow: 0px 1px 2px rgba(60, 64, 67, 0.3), 0px 1px 3px 1px rgba(60, 64, 67, 0.15);\n",
              "      fill: #174EA6;\n",
              "    }\n",
              "\n",
              "    .colab-df-buttons div {\n",
              "      margin-bottom: 4px;\n",
              "    }\n",
              "\n",
              "    [theme=dark] .colab-df-convert {\n",
              "      background-color: #3B4455;\n",
              "      fill: #D2E3FC;\n",
              "    }\n",
              "\n",
              "    [theme=dark] .colab-df-convert:hover {\n",
              "      background-color: #434B5C;\n",
              "      box-shadow: 0px 1px 3px 1px rgba(0, 0, 0, 0.15);\n",
              "      filter: drop-shadow(0px 1px 2px rgba(0, 0, 0, 0.3));\n",
              "      fill: #FFFFFF;\n",
              "    }\n",
              "  </style>\n",
              "\n",
              "    <script>\n",
              "      const buttonEl =\n",
              "        document.querySelector('#df-69c268af-da9c-412c-ada2-9497ce206b09 button.colab-df-convert');\n",
              "      buttonEl.style.display =\n",
              "        google.colab.kernel.accessAllowed ? 'block' : 'none';\n",
              "\n",
              "      async function convertToInteractive(key) {\n",
              "        const element = document.querySelector('#df-69c268af-da9c-412c-ada2-9497ce206b09');\n",
              "        const dataTable =\n",
              "          await google.colab.kernel.invokeFunction('convertToInteractive',\n",
              "                                                    [key], {});\n",
              "        if (!dataTable) return;\n",
              "\n",
              "        const docLinkHtml = 'Like what you see? Visit the ' +\n",
              "          '<a target=\"_blank\" href=https://colab.research.google.com/notebooks/data_table.ipynb>data table notebook</a>'\n",
              "          + ' to learn more about interactive tables.';\n",
              "        element.innerHTML = '';\n",
              "        dataTable['output_type'] = 'display_data';\n",
              "        await google.colab.output.renderOutput(dataTable, element);\n",
              "        const docLink = document.createElement('div');\n",
              "        docLink.innerHTML = docLinkHtml;\n",
              "        element.appendChild(docLink);\n",
              "      }\n",
              "    </script>\n",
              "  </div>\n",
              "\n",
              "    </div>\n",
              "  </div>\n"
            ]
          },
          "metadata": {},
          "execution_count": 62
        }
      ]
    },
    {
      "cell_type": "markdown",
      "source": [
        "Teniendo en cuenta los algoritmos a utilizar, se realiza la busqueda de valores NaN y si la cantidad de filas con valores NaN no supera el 5% del total de filas, se eliminan."
      ],
      "metadata": {
        "id": "RpC_NLWGvbzM"
      }
    },
    {
      "cell_type": "code",
      "source": [
        "# Se realiza una adaptación del código utilizado en la materia 13MBID del presente master.\n",
        "\n",
        "# Calcular el 5% del total de filas\n",
        "umbral = df_modelado.shape[0] * 0.05\n",
        "\n",
        "# Identificar las filas con al menos un valor NaN\n",
        "nan = df_modelado[df_modelado.isna().any(axis=1)]\n",
        "\n",
        "# Imprimir el número de filas con valores NaN\n",
        "rows_nan = len(nan)\n",
        "print(\"Número de filas con al menos un valor NaN:\", rows_nan)\n",
        "\n",
        "# Verificar si el número de filas con valores NaN supera el umbral\n",
        "if rows_nan < umbral:\n",
        "    print(\"El número de filas con valores NaN no supera el umbral del 5%. Eliminando filas...\")\n",
        "    # Eliminar las filas con valores NaN\n",
        "    df_modelado_fin = df_modelado.dropna()\n",
        "    print(\"Número de filas después de eliminar NaN:\", len(df_modelado_fin))\n",
        "else:\n",
        "    print(\"El número de filas con valores NaN supera el umbral del 5%. No se eliminan filas.\")\n",
        "\n"
      ],
      "metadata": {
        "colab": {
          "base_uri": "https://localhost:8080/"
        },
        "id": "0CMrPgt9wkq7",
        "outputId": "8d7bcbfc-eddd-4843-bac0-2ee2110d8108"
      },
      "execution_count": null,
      "outputs": [
        {
          "output_type": "stream",
          "name": "stdout",
          "text": [
            "Número de filas con al menos un valor NaN: 0\n",
            "El número de filas con valores NaN no supera el umbral del 5%. Eliminando filas...\n",
            "Número de filas después de eliminar NaN: 413301\n"
          ]
        }
      ]
    },
    {
      "cell_type": "code",
      "source": [
        "df_modelado_fin.columns"
      ],
      "metadata": {
        "colab": {
          "base_uri": "https://localhost:8080/"
        },
        "id": "YoaH_K7-M6wb",
        "outputId": "070c1307-8434-4851-cd02-0499e3f2dae1"
      },
      "execution_count": null,
      "outputs": [
        {
          "output_type": "execute_result",
          "data": {
            "text/plain": [
              "Index(['Valor neto local', 'LINEA_ACCESORIOS', 'LINEA_CALZADO', 'LINEA_ROPA',\n",
              "       'MARCA_ADIDAS', 'MARCA_ASICS', 'MARCA_CREP PROTECT', 'MARCA_KEDS',\n",
              "       'MARCA_MERRELL', 'MARCA_NIKE',\n",
              "       ...\n",
              "       'Dia Semana_Domingo', 'Dia Semana_Jueves', 'Dia Semana_Lunes',\n",
              "       'Dia Semana_Martes', 'Dia Semana_Miecoles', 'Dia Semana_Sabado',\n",
              "       'Dia Semana_Viernes', 'C.O.', 'Aplico_descuento', 'Cantidad inv.'],\n",
              "      dtype='object', length=166)"
            ]
          },
          "metadata": {},
          "execution_count": 64
        }
      ]
    },
    {
      "cell_type": "code",
      "source": [
        "print(\"Estas son las dimensiones del dataset despues de la categorizacion y normalizacion de las variables: \\n\", df_modelado_fin.shape )"
      ],
      "metadata": {
        "colab": {
          "base_uri": "https://localhost:8080/"
        },
        "id": "keeIxnLovDZp",
        "outputId": "bdb0faac-5eb4-4482-84a0-3c8f19816e5d"
      },
      "execution_count": null,
      "outputs": [
        {
          "output_type": "stream",
          "name": "stdout",
          "text": [
            "Estas son las dimensiones del dataset despues de la categorizacion y normalizacion de las variables: \n",
            " (413301, 166)\n"
          ]
        }
      ]
    },
    {
      "cell_type": "code",
      "source": [
        "df_modelado_fin.to_csv('datos_modelar_prueba1.csv', sep=';', index=False)"
      ],
      "metadata": {
        "id": "yZroz49rJxKa"
      },
      "execution_count": null,
      "outputs": []
    },
    {
      "cell_type": "markdown",
      "source": [
        "#Apéndice V:"
      ],
      "metadata": {
        "id": "yHXwUb9Y1ilY"
      }
    },
    {
      "cell_type": "markdown",
      "source": [
        "El código presentado a continuación, es adaptado en base a la documentación de la libreria PyCaret.\n",
        "URL: https://pycaret.gitbook.io/docs/get-started/quickstart#classification"
      ],
      "metadata": {
        "id": "OVdgA7Ez7TT6"
      }
    },
    {
      "cell_type": "code",
      "execution_count": null,
      "metadata": {
        "colab": {
          "base_uri": "https://localhost:8080/"
        },
        "id": "l14_kdsWzaXb",
        "outputId": "01570c9e-177c-4988-df98-b95652c8fb00"
      },
      "outputs": [
        {
          "output_type": "stream",
          "name": "stdout",
          "text": [
            "Requirement already satisfied: pycaret in /usr/local/lib/python3.10/dist-packages (3.0.4)\n",
            "Requirement already satisfied: ipython>=5.5.0 in /usr/local/lib/python3.10/dist-packages (from pycaret) (7.34.0)\n",
            "Requirement already satisfied: ipywidgets>=7.6.5 in /usr/local/lib/python3.10/dist-packages (from pycaret) (7.7.1)\n",
            "Requirement already satisfied: tqdm>=4.62.0 in /usr/local/lib/python3.10/dist-packages (from pycaret) (4.66.1)\n",
            "Requirement already satisfied: numpy<1.24,>=1.21 in /usr/local/lib/python3.10/dist-packages (from pycaret) (1.23.5)\n",
            "Requirement already satisfied: pandas<2.0.0,>=1.3.0 in /usr/local/lib/python3.10/dist-packages (from pycaret) (1.5.3)\n",
            "Requirement already satisfied: jinja2>=1.2 in /usr/local/lib/python3.10/dist-packages (from pycaret) (3.1.2)\n",
            "Requirement already satisfied: scipy<2.0.0 in /usr/local/lib/python3.10/dist-packages (from pycaret) (1.10.1)\n",
            "Requirement already satisfied: joblib>=1.2.0 in /usr/local/lib/python3.10/dist-packages (from pycaret) (1.3.2)\n",
            "Requirement already satisfied: scikit-learn<1.3.0,>=1.0 in /usr/local/lib/python3.10/dist-packages (from pycaret) (1.2.2)\n",
            "Requirement already satisfied: pyod>=1.0.8 in /usr/local/lib/python3.10/dist-packages (from pycaret) (1.1.0)\n",
            "Requirement already satisfied: imbalanced-learn>=0.8.1 in /usr/local/lib/python3.10/dist-packages (from pycaret) (0.10.1)\n",
            "Requirement already satisfied: category-encoders>=2.4.0 in /usr/local/lib/python3.10/dist-packages (from pycaret) (2.6.2)\n",
            "Requirement already satisfied: lightgbm>=3.0.0 in /usr/local/lib/python3.10/dist-packages (from pycaret) (4.0.0)\n",
            "Requirement already satisfied: numba>=0.55.0 in /usr/local/lib/python3.10/dist-packages (from pycaret) (0.56.4)\n",
            "Requirement already satisfied: requests>=2.27.1 in /usr/local/lib/python3.10/dist-packages (from pycaret) (2.31.0)\n",
            "Requirement already satisfied: psutil>=5.9.0 in /usr/local/lib/python3.10/dist-packages (from pycaret) (5.9.5)\n",
            "Requirement already satisfied: markupsafe>=2.0.1 in /usr/local/lib/python3.10/dist-packages (from pycaret) (2.1.3)\n",
            "Requirement already satisfied: importlib-metadata>=4.12.0 in /usr/local/lib/python3.10/dist-packages (from pycaret) (6.8.0)\n",
            "Requirement already satisfied: nbformat>=4.2.0 in /usr/local/lib/python3.10/dist-packages (from pycaret) (5.9.2)\n",
            "Requirement already satisfied: cloudpickle in /usr/local/lib/python3.10/dist-packages (from pycaret) (2.2.1)\n",
            "Requirement already satisfied: deprecation>=2.1.0 in /usr/local/lib/python3.10/dist-packages (from pycaret) (2.1.0)\n",
            "Requirement already satisfied: xxhash in /usr/local/lib/python3.10/dist-packages (from pycaret) (3.3.0)\n",
            "Requirement already satisfied: matplotlib>=3.3.0 in /usr/local/lib/python3.10/dist-packages (from pycaret) (3.7.1)\n",
            "Requirement already satisfied: scikit-plot>=0.3.7 in /usr/local/lib/python3.10/dist-packages (from pycaret) (0.3.7)\n",
            "Requirement already satisfied: yellowbrick>=1.4 in /usr/local/lib/python3.10/dist-packages (from pycaret) (1.5)\n",
            "Requirement already satisfied: plotly>=5.0.0 in /usr/local/lib/python3.10/dist-packages (from pycaret) (5.15.0)\n",
            "Requirement already satisfied: kaleido>=0.2.1 in /usr/local/lib/python3.10/dist-packages (from pycaret) (0.2.1)\n",
            "Requirement already satisfied: schemdraw==0.15 in /usr/local/lib/python3.10/dist-packages (from pycaret) (0.15)\n",
            "Requirement already satisfied: plotly-resampler>=0.8.3.1 in /usr/local/lib/python3.10/dist-packages (from pycaret) (0.9.1)\n",
            "Requirement already satisfied: statsmodels>=0.12.1 in /usr/local/lib/python3.10/dist-packages (from pycaret) (0.14.0)\n",
            "Requirement already satisfied: sktime!=0.17.1,!=0.17.2,!=0.18.0,>=0.16.1 in /usr/local/lib/python3.10/dist-packages (from pycaret) (0.22.0)\n",
            "Requirement already satisfied: tbats>=1.1.3 in /usr/local/lib/python3.10/dist-packages (from pycaret) (1.1.3)\n",
            "Requirement already satisfied: pmdarima!=1.8.1,<3.0.0,>=1.8.0 in /usr/local/lib/python3.10/dist-packages (from pycaret) (2.0.3)\n",
            "Requirement already satisfied: wurlitzer in /usr/local/lib/python3.10/dist-packages (from pycaret) (3.0.3)\n",
            "Requirement already satisfied: patsy>=0.5.1 in /usr/local/lib/python3.10/dist-packages (from category-encoders>=2.4.0->pycaret) (0.5.3)\n",
            "Requirement already satisfied: packaging in /usr/local/lib/python3.10/dist-packages (from deprecation>=2.1.0->pycaret) (23.1)\n",
            "Requirement already satisfied: threadpoolctl>=2.0.0 in /usr/local/lib/python3.10/dist-packages (from imbalanced-learn>=0.8.1->pycaret) (3.2.0)\n",
            "Requirement already satisfied: zipp>=0.5 in /usr/local/lib/python3.10/dist-packages (from importlib-metadata>=4.12.0->pycaret) (3.16.2)\n",
            "Requirement already satisfied: setuptools>=18.5 in /usr/local/lib/python3.10/dist-packages (from ipython>=5.5.0->pycaret) (67.7.2)\n",
            "Requirement already satisfied: jedi>=0.16 in /usr/local/lib/python3.10/dist-packages (from ipython>=5.5.0->pycaret) (0.19.0)\n",
            "Requirement already satisfied: decorator in /usr/local/lib/python3.10/dist-packages (from ipython>=5.5.0->pycaret) (4.4.2)\n",
            "Requirement already satisfied: pickleshare in /usr/local/lib/python3.10/dist-packages (from ipython>=5.5.0->pycaret) (0.7.5)\n",
            "Requirement already satisfied: traitlets>=4.2 in /usr/local/lib/python3.10/dist-packages (from ipython>=5.5.0->pycaret) (5.7.1)\n",
            "Requirement already satisfied: prompt-toolkit!=3.0.0,!=3.0.1,<3.1.0,>=2.0.0 in /usr/local/lib/python3.10/dist-packages (from ipython>=5.5.0->pycaret) (3.0.39)\n",
            "Requirement already satisfied: pygments in /usr/local/lib/python3.10/dist-packages (from ipython>=5.5.0->pycaret) (2.16.1)\n",
            "Requirement already satisfied: backcall in /usr/local/lib/python3.10/dist-packages (from ipython>=5.5.0->pycaret) (0.2.0)\n",
            "Requirement already satisfied: matplotlib-inline in /usr/local/lib/python3.10/dist-packages (from ipython>=5.5.0->pycaret) (0.1.6)\n",
            "Requirement already satisfied: pexpect>4.3 in /usr/local/lib/python3.10/dist-packages (from ipython>=5.5.0->pycaret) (4.8.0)\n",
            "Requirement already satisfied: ipykernel>=4.5.1 in /usr/local/lib/python3.10/dist-packages (from ipywidgets>=7.6.5->pycaret) (5.5.6)\n",
            "Requirement already satisfied: ipython-genutils~=0.2.0 in /usr/local/lib/python3.10/dist-packages (from ipywidgets>=7.6.5->pycaret) (0.2.0)\n",
            "Requirement already satisfied: widgetsnbextension~=3.6.0 in /usr/local/lib/python3.10/dist-packages (from ipywidgets>=7.6.5->pycaret) (3.6.5)\n",
            "Requirement already satisfied: jupyterlab-widgets>=1.0.0 in /usr/local/lib/python3.10/dist-packages (from ipywidgets>=7.6.5->pycaret) (3.0.8)\n",
            "Requirement already satisfied: contourpy>=1.0.1 in /usr/local/lib/python3.10/dist-packages (from matplotlib>=3.3.0->pycaret) (1.1.0)\n",
            "Requirement already satisfied: cycler>=0.10 in /usr/local/lib/python3.10/dist-packages (from matplotlib>=3.3.0->pycaret) (0.11.0)\n",
            "Requirement already satisfied: fonttools>=4.22.0 in /usr/local/lib/python3.10/dist-packages (from matplotlib>=3.3.0->pycaret) (4.42.1)\n",
            "Requirement already satisfied: kiwisolver>=1.0.1 in /usr/local/lib/python3.10/dist-packages (from matplotlib>=3.3.0->pycaret) (1.4.4)\n",
            "Requirement already satisfied: pillow>=6.2.0 in /usr/local/lib/python3.10/dist-packages (from matplotlib>=3.3.0->pycaret) (9.4.0)\n",
            "Requirement already satisfied: pyparsing>=2.3.1 in /usr/local/lib/python3.10/dist-packages (from matplotlib>=3.3.0->pycaret) (3.1.1)\n",
            "Requirement already satisfied: python-dateutil>=2.7 in /usr/local/lib/python3.10/dist-packages (from matplotlib>=3.3.0->pycaret) (2.8.2)\n",
            "Requirement already satisfied: fastjsonschema in /usr/local/lib/python3.10/dist-packages (from nbformat>=4.2.0->pycaret) (2.18.0)\n",
            "Requirement already satisfied: jsonschema>=2.6 in /usr/local/lib/python3.10/dist-packages (from nbformat>=4.2.0->pycaret) (4.19.0)\n",
            "Requirement already satisfied: jupyter-core in /usr/local/lib/python3.10/dist-packages (from nbformat>=4.2.0->pycaret) (5.3.1)\n",
            "Requirement already satisfied: llvmlite<0.40,>=0.39.0dev0 in /usr/local/lib/python3.10/dist-packages (from numba>=0.55.0->pycaret) (0.39.1)\n",
            "Requirement already satisfied: pytz>=2020.1 in /usr/local/lib/python3.10/dist-packages (from pandas<2.0.0,>=1.3.0->pycaret) (2023.3)\n",
            "Requirement already satisfied: tenacity>=6.2.0 in /usr/local/lib/python3.10/dist-packages (from plotly>=5.0.0->pycaret) (8.2.3)\n",
            "Requirement already satisfied: dash<3.0.0,>=2.11.0 in /usr/local/lib/python3.10/dist-packages (from plotly-resampler>=0.8.3.1->pycaret) (2.13.0)\n",
            "Requirement already satisfied: orjson<4.0.0,>=3.8.0 in /usr/local/lib/python3.10/dist-packages (from plotly-resampler>=0.8.3.1->pycaret) (3.9.5)\n",
            "Requirement already satisfied: trace-updater>=0.0.8 in /usr/local/lib/python3.10/dist-packages (from plotly-resampler>=0.8.3.1->pycaret) (0.0.9.1)\n",
            "Requirement already satisfied: tsdownsample==0.1.2 in /usr/local/lib/python3.10/dist-packages (from plotly-resampler>=0.8.3.1->pycaret) (0.1.2)\n",
            "Requirement already satisfied: Cython!=0.29.18,!=0.29.31,>=0.29 in /usr/local/lib/python3.10/dist-packages (from pmdarima!=1.8.1,<3.0.0,>=1.8.0->pycaret) (0.29.36)\n",
            "Requirement already satisfied: urllib3 in /usr/local/lib/python3.10/dist-packages (from pmdarima!=1.8.1,<3.0.0,>=1.8.0->pycaret) (2.0.4)\n",
            "Requirement already satisfied: six in /usr/local/lib/python3.10/dist-packages (from pyod>=1.0.8->pycaret) (1.16.0)\n",
            "Requirement already satisfied: charset-normalizer<4,>=2 in /usr/local/lib/python3.10/dist-packages (from requests>=2.27.1->pycaret) (3.2.0)\n",
            "Requirement already satisfied: idna<4,>=2.5 in /usr/local/lib/python3.10/dist-packages (from requests>=2.27.1->pycaret) (3.4)\n",
            "Requirement already satisfied: certifi>=2017.4.17 in /usr/local/lib/python3.10/dist-packages (from requests>=2.27.1->pycaret) (2023.7.22)\n",
            "Requirement already satisfied: scikit-base<0.6.0 in /usr/local/lib/python3.10/dist-packages (from sktime!=0.17.1,!=0.17.2,!=0.18.0,>=0.16.1->pycaret) (0.5.1)\n",
            "Requirement already satisfied: Flask<2.3.0,>=1.0.4 in /usr/local/lib/python3.10/dist-packages (from dash<3.0.0,>=2.11.0->plotly-resampler>=0.8.3.1->pycaret) (2.2.5)\n",
            "Requirement already satisfied: Werkzeug<2.3.0 in /usr/local/lib/python3.10/dist-packages (from dash<3.0.0,>=2.11.0->plotly-resampler>=0.8.3.1->pycaret) (2.2.3)\n",
            "Requirement already satisfied: dash-html-components==2.0.0 in /usr/local/lib/python3.10/dist-packages (from dash<3.0.0,>=2.11.0->plotly-resampler>=0.8.3.1->pycaret) (2.0.0)\n",
            "Requirement already satisfied: dash-core-components==2.0.0 in /usr/local/lib/python3.10/dist-packages (from dash<3.0.0,>=2.11.0->plotly-resampler>=0.8.3.1->pycaret) (2.0.0)\n",
            "Requirement already satisfied: dash-table==5.0.0 in /usr/local/lib/python3.10/dist-packages (from dash<3.0.0,>=2.11.0->plotly-resampler>=0.8.3.1->pycaret) (5.0.0)\n",
            "Requirement already satisfied: typing-extensions>=4.1.1 in /usr/local/lib/python3.10/dist-packages (from dash<3.0.0,>=2.11.0->plotly-resampler>=0.8.3.1->pycaret) (4.7.1)\n",
            "Requirement already satisfied: retrying in /usr/local/lib/python3.10/dist-packages (from dash<3.0.0,>=2.11.0->plotly-resampler>=0.8.3.1->pycaret) (1.3.4)\n",
            "Requirement already satisfied: ansi2html in /usr/local/lib/python3.10/dist-packages (from dash<3.0.0,>=2.11.0->plotly-resampler>=0.8.3.1->pycaret) (1.8.0)\n",
            "Requirement already satisfied: nest-asyncio in /usr/local/lib/python3.10/dist-packages (from dash<3.0.0,>=2.11.0->plotly-resampler>=0.8.3.1->pycaret) (1.5.7)\n",
            "Requirement already satisfied: jupyter-client in /usr/local/lib/python3.10/dist-packages (from ipykernel>=4.5.1->ipywidgets>=7.6.5->pycaret) (6.1.12)\n",
            "Requirement already satisfied: tornado>=4.2 in /usr/local/lib/python3.10/dist-packages (from ipykernel>=4.5.1->ipywidgets>=7.6.5->pycaret) (6.3.2)\n",
            "Requirement already satisfied: parso<0.9.0,>=0.8.3 in /usr/local/lib/python3.10/dist-packages (from jedi>=0.16->ipython>=5.5.0->pycaret) (0.8.3)\n",
            "Requirement already satisfied: attrs>=22.2.0 in /usr/local/lib/python3.10/dist-packages (from jsonschema>=2.6->nbformat>=4.2.0->pycaret) (23.1.0)\n",
            "Requirement already satisfied: jsonschema-specifications>=2023.03.6 in /usr/local/lib/python3.10/dist-packages (from jsonschema>=2.6->nbformat>=4.2.0->pycaret) (2023.7.1)\n",
            "Requirement already satisfied: referencing>=0.28.4 in /usr/local/lib/python3.10/dist-packages (from jsonschema>=2.6->nbformat>=4.2.0->pycaret) (0.30.2)\n",
            "Requirement already satisfied: rpds-py>=0.7.1 in /usr/local/lib/python3.10/dist-packages (from jsonschema>=2.6->nbformat>=4.2.0->pycaret) (0.9.2)\n",
            "Requirement already satisfied: ptyprocess>=0.5 in /usr/local/lib/python3.10/dist-packages (from pexpect>4.3->ipython>=5.5.0->pycaret) (0.7.0)\n",
            "Requirement already satisfied: wcwidth in /usr/local/lib/python3.10/dist-packages (from prompt-toolkit!=3.0.0,!=3.0.1,<3.1.0,>=2.0.0->ipython>=5.5.0->pycaret) (0.2.6)\n",
            "Requirement already satisfied: notebook>=4.4.1 in /usr/local/lib/python3.10/dist-packages (from widgetsnbextension~=3.6.0->ipywidgets>=7.6.5->pycaret) (6.5.5)\n",
            "Requirement already satisfied: platformdirs>=2.5 in /usr/local/lib/python3.10/dist-packages (from jupyter-core->nbformat>=4.2.0->pycaret) (3.10.0)\n",
            "Requirement already satisfied: itsdangerous>=2.0 in /usr/local/lib/python3.10/dist-packages (from Flask<2.3.0,>=1.0.4->dash<3.0.0,>=2.11.0->plotly-resampler>=0.8.3.1->pycaret) (2.1.2)\n",
            "Requirement already satisfied: click>=8.0 in /usr/local/lib/python3.10/dist-packages (from Flask<2.3.0,>=1.0.4->dash<3.0.0,>=2.11.0->plotly-resampler>=0.8.3.1->pycaret) (8.1.7)\n",
            "Requirement already satisfied: pyzmq<25,>=17 in /usr/local/lib/python3.10/dist-packages (from notebook>=4.4.1->widgetsnbextension~=3.6.0->ipywidgets>=7.6.5->pycaret) (23.2.1)\n",
            "Requirement already satisfied: argon2-cffi in /usr/local/lib/python3.10/dist-packages (from notebook>=4.4.1->widgetsnbextension~=3.6.0->ipywidgets>=7.6.5->pycaret) (23.1.0)\n",
            "Requirement already satisfied: nbconvert>=5 in /usr/local/lib/python3.10/dist-packages (from notebook>=4.4.1->widgetsnbextension~=3.6.0->ipywidgets>=7.6.5->pycaret) (6.5.4)\n",
            "Requirement already satisfied: Send2Trash>=1.8.0 in /usr/local/lib/python3.10/dist-packages (from notebook>=4.4.1->widgetsnbextension~=3.6.0->ipywidgets>=7.6.5->pycaret) (1.8.2)\n",
            "Requirement already satisfied: terminado>=0.8.3 in /usr/local/lib/python3.10/dist-packages (from notebook>=4.4.1->widgetsnbextension~=3.6.0->ipywidgets>=7.6.5->pycaret) (0.17.1)\n",
            "Requirement already satisfied: prometheus-client in /usr/local/lib/python3.10/dist-packages (from notebook>=4.4.1->widgetsnbextension~=3.6.0->ipywidgets>=7.6.5->pycaret) (0.17.1)\n",
            "Requirement already satisfied: nbclassic>=0.4.7 in /usr/local/lib/python3.10/dist-packages (from notebook>=4.4.1->widgetsnbextension~=3.6.0->ipywidgets>=7.6.5->pycaret) (1.0.0)\n",
            "Requirement already satisfied: jupyter-server>=1.8 in /usr/local/lib/python3.10/dist-packages (from nbclassic>=0.4.7->notebook>=4.4.1->widgetsnbextension~=3.6.0->ipywidgets>=7.6.5->pycaret) (1.24.0)\n",
            "Requirement already satisfied: notebook-shim>=0.2.3 in /usr/local/lib/python3.10/dist-packages (from nbclassic>=0.4.7->notebook>=4.4.1->widgetsnbextension~=3.6.0->ipywidgets>=7.6.5->pycaret) (0.2.3)\n",
            "Requirement already satisfied: lxml in /usr/local/lib/python3.10/dist-packages (from nbconvert>=5->notebook>=4.4.1->widgetsnbextension~=3.6.0->ipywidgets>=7.6.5->pycaret) (4.9.3)\n",
            "Requirement already satisfied: beautifulsoup4 in /usr/local/lib/python3.10/dist-packages (from nbconvert>=5->notebook>=4.4.1->widgetsnbextension~=3.6.0->ipywidgets>=7.6.5->pycaret) (4.11.2)\n",
            "Requirement already satisfied: bleach in /usr/local/lib/python3.10/dist-packages (from nbconvert>=5->notebook>=4.4.1->widgetsnbextension~=3.6.0->ipywidgets>=7.6.5->pycaret) (6.0.0)\n",
            "Requirement already satisfied: defusedxml in /usr/local/lib/python3.10/dist-packages (from nbconvert>=5->notebook>=4.4.1->widgetsnbextension~=3.6.0->ipywidgets>=7.6.5->pycaret) (0.7.1)\n",
            "Requirement already satisfied: entrypoints>=0.2.2 in /usr/local/lib/python3.10/dist-packages (from nbconvert>=5->notebook>=4.4.1->widgetsnbextension~=3.6.0->ipywidgets>=7.6.5->pycaret) (0.4)\n",
            "Requirement already satisfied: jupyterlab-pygments in /usr/local/lib/python3.10/dist-packages (from nbconvert>=5->notebook>=4.4.1->widgetsnbextension~=3.6.0->ipywidgets>=7.6.5->pycaret) (0.2.2)\n",
            "Requirement already satisfied: mistune<2,>=0.8.1 in /usr/local/lib/python3.10/dist-packages (from nbconvert>=5->notebook>=4.4.1->widgetsnbextension~=3.6.0->ipywidgets>=7.6.5->pycaret) (0.8.4)\n",
            "Requirement already satisfied: nbclient>=0.5.0 in /usr/local/lib/python3.10/dist-packages (from nbconvert>=5->notebook>=4.4.1->widgetsnbextension~=3.6.0->ipywidgets>=7.6.5->pycaret) (0.8.0)\n",
            "Requirement already satisfied: pandocfilters>=1.4.1 in /usr/local/lib/python3.10/dist-packages (from nbconvert>=5->notebook>=4.4.1->widgetsnbextension~=3.6.0->ipywidgets>=7.6.5->pycaret) (1.5.0)\n",
            "Requirement already satisfied: tinycss2 in /usr/local/lib/python3.10/dist-packages (from nbconvert>=5->notebook>=4.4.1->widgetsnbextension~=3.6.0->ipywidgets>=7.6.5->pycaret) (1.2.1)\n",
            "Requirement already satisfied: argon2-cffi-bindings in /usr/local/lib/python3.10/dist-packages (from argon2-cffi->notebook>=4.4.1->widgetsnbextension~=3.6.0->ipywidgets>=7.6.5->pycaret) (21.2.0)\n",
            "Requirement already satisfied: anyio<4,>=3.1.0 in /usr/local/lib/python3.10/dist-packages (from jupyter-server>=1.8->nbclassic>=0.4.7->notebook>=4.4.1->widgetsnbextension~=3.6.0->ipywidgets>=7.6.5->pycaret) (3.7.1)\n",
            "Requirement already satisfied: websocket-client in /usr/local/lib/python3.10/dist-packages (from jupyter-server>=1.8->nbclassic>=0.4.7->notebook>=4.4.1->widgetsnbextension~=3.6.0->ipywidgets>=7.6.5->pycaret) (1.6.2)\n",
            "Requirement already satisfied: cffi>=1.0.1 in /usr/local/lib/python3.10/dist-packages (from argon2-cffi-bindings->argon2-cffi->notebook>=4.4.1->widgetsnbextension~=3.6.0->ipywidgets>=7.6.5->pycaret) (1.15.1)\n",
            "Requirement already satisfied: soupsieve>1.2 in /usr/local/lib/python3.10/dist-packages (from beautifulsoup4->nbconvert>=5->notebook>=4.4.1->widgetsnbextension~=3.6.0->ipywidgets>=7.6.5->pycaret) (2.4.1)\n",
            "Requirement already satisfied: webencodings in /usr/local/lib/python3.10/dist-packages (from bleach->nbconvert>=5->notebook>=4.4.1->widgetsnbextension~=3.6.0->ipywidgets>=7.6.5->pycaret) (0.5.1)\n",
            "Requirement already satisfied: sniffio>=1.1 in /usr/local/lib/python3.10/dist-packages (from anyio<4,>=3.1.0->jupyter-server>=1.8->nbclassic>=0.4.7->notebook>=4.4.1->widgetsnbextension~=3.6.0->ipywidgets>=7.6.5->pycaret) (1.3.0)\n",
            "Requirement already satisfied: exceptiongroup in /usr/local/lib/python3.10/dist-packages (from anyio<4,>=3.1.0->jupyter-server>=1.8->nbclassic>=0.4.7->notebook>=4.4.1->widgetsnbextension~=3.6.0->ipywidgets>=7.6.5->pycaret) (1.1.3)\n",
            "Requirement already satisfied: pycparser in /usr/local/lib/python3.10/dist-packages (from cffi>=1.0.1->argon2-cffi-bindings->argon2-cffi->notebook>=4.4.1->widgetsnbextension~=3.6.0->ipywidgets>=7.6.5->pycaret) (2.21)\n"
          ]
        }
      ],
      "source": [
        "!pip install pycaret"
      ]
    },
    {
      "cell_type": "code",
      "execution_count": null,
      "metadata": {
        "id": "EBSN35O3z1PV"
      },
      "outputs": [],
      "source": [
        "from pycaret.classification import *"
      ]
    },
    {
      "cell_type": "code",
      "execution_count": null,
      "metadata": {
        "id": "FJz2QBRA0TcI"
      },
      "outputs": [],
      "source": [
        "df_modelado_fin = pd.read_csv('datos_modelar_prueba1.csv', sep=';', dtype={'C.O.': str})"
      ]
    },
    {
      "cell_type": "code",
      "execution_count": null,
      "metadata": {
        "id": "ntwno6PI041y"
      },
      "outputs": [],
      "source": [
        "muestra = df_modelado_fin.sample(n=10000, random_state=71)"
      ]
    },
    {
      "cell_type": "code",
      "execution_count": null,
      "metadata": {
        "colab": {
          "base_uri": "https://localhost:8080/",
          "height": 677
        },
        "id": "L_gqd13w1ISQ",
        "outputId": "9460b86d-4338-4937-a4ae-e13ac59d119e"
      },
      "outputs": [
        {
          "output_type": "display_data",
          "data": {
            "text/plain": [
              "<pandas.io.formats.style.Styler at 0x7bbe80bb79d0>"
            ],
            "text/html": [
              "<style type=\"text/css\">\n",
              "#T_5a5eb_row9_col1 {\n",
              "  background-color: lightgreen;\n",
              "}\n",
              "</style>\n",
              "<table id=\"T_5a5eb\" class=\"dataframe\">\n",
              "  <thead>\n",
              "    <tr>\n",
              "      <th class=\"blank level0\" >&nbsp;</th>\n",
              "      <th id=\"T_5a5eb_level0_col0\" class=\"col_heading level0 col0\" >Description</th>\n",
              "      <th id=\"T_5a5eb_level0_col1\" class=\"col_heading level0 col1\" >Value</th>\n",
              "    </tr>\n",
              "  </thead>\n",
              "  <tbody>\n",
              "    <tr>\n",
              "      <th id=\"T_5a5eb_level0_row0\" class=\"row_heading level0 row0\" >0</th>\n",
              "      <td id=\"T_5a5eb_row0_col0\" class=\"data row0 col0\" >Session id</td>\n",
              "      <td id=\"T_5a5eb_row0_col1\" class=\"data row0 col1\" >3638</td>\n",
              "    </tr>\n",
              "    <tr>\n",
              "      <th id=\"T_5a5eb_level0_row1\" class=\"row_heading level0 row1\" >1</th>\n",
              "      <td id=\"T_5a5eb_row1_col0\" class=\"data row1 col0\" >Target</td>\n",
              "      <td id=\"T_5a5eb_row1_col1\" class=\"data row1 col1\" >C.O.</td>\n",
              "    </tr>\n",
              "    <tr>\n",
              "      <th id=\"T_5a5eb_level0_row2\" class=\"row_heading level0 row2\" >2</th>\n",
              "      <td id=\"T_5a5eb_row2_col0\" class=\"data row2 col0\" >Target type</td>\n",
              "      <td id=\"T_5a5eb_row2_col1\" class=\"data row2 col1\" >Multiclass</td>\n",
              "    </tr>\n",
              "    <tr>\n",
              "      <th id=\"T_5a5eb_level0_row3\" class=\"row_heading level0 row3\" >3</th>\n",
              "      <td id=\"T_5a5eb_row3_col0\" class=\"data row3 col0\" >Target mapping</td>\n",
              "      <td id=\"T_5a5eb_row3_col1\" class=\"data row3 col1\" >004: 0, 006: 1, 007: 2, 009: 3, 010: 4, 011: 5, 017: 6, 022: 7, 023: 8, 026: 9, 027: 10, 028: 11, 029: 12, 030: 13, 032: 14, 033: 15, 034: 16, 035: 17, 037: 18, 039: 19, 414: 20, 415: 21</td>\n",
              "    </tr>\n",
              "    <tr>\n",
              "      <th id=\"T_5a5eb_level0_row4\" class=\"row_heading level0 row4\" >4</th>\n",
              "      <td id=\"T_5a5eb_row4_col0\" class=\"data row4 col0\" >Original data shape</td>\n",
              "      <td id=\"T_5a5eb_row4_col1\" class=\"data row4 col1\" >(10000, 166)</td>\n",
              "    </tr>\n",
              "    <tr>\n",
              "      <th id=\"T_5a5eb_level0_row5\" class=\"row_heading level0 row5\" >5</th>\n",
              "      <td id=\"T_5a5eb_row5_col0\" class=\"data row5 col0\" >Transformed data shape</td>\n",
              "      <td id=\"T_5a5eb_row5_col1\" class=\"data row5 col1\" >(10000, 166)</td>\n",
              "    </tr>\n",
              "    <tr>\n",
              "      <th id=\"T_5a5eb_level0_row6\" class=\"row_heading level0 row6\" >6</th>\n",
              "      <td id=\"T_5a5eb_row6_col0\" class=\"data row6 col0\" >Transformed train set shape</td>\n",
              "      <td id=\"T_5a5eb_row6_col1\" class=\"data row6 col1\" >(7000, 166)</td>\n",
              "    </tr>\n",
              "    <tr>\n",
              "      <th id=\"T_5a5eb_level0_row7\" class=\"row_heading level0 row7\" >7</th>\n",
              "      <td id=\"T_5a5eb_row7_col0\" class=\"data row7 col0\" >Transformed test set shape</td>\n",
              "      <td id=\"T_5a5eb_row7_col1\" class=\"data row7 col1\" >(3000, 166)</td>\n",
              "    </tr>\n",
              "    <tr>\n",
              "      <th id=\"T_5a5eb_level0_row8\" class=\"row_heading level0 row8\" >8</th>\n",
              "      <td id=\"T_5a5eb_row8_col0\" class=\"data row8 col0\" >Numeric features</td>\n",
              "      <td id=\"T_5a5eb_row8_col1\" class=\"data row8 col1\" >164</td>\n",
              "    </tr>\n",
              "    <tr>\n",
              "      <th id=\"T_5a5eb_level0_row9\" class=\"row_heading level0 row9\" >9</th>\n",
              "      <td id=\"T_5a5eb_row9_col0\" class=\"data row9 col0\" >Preprocess</td>\n",
              "      <td id=\"T_5a5eb_row9_col1\" class=\"data row9 col1\" >True</td>\n",
              "    </tr>\n",
              "    <tr>\n",
              "      <th id=\"T_5a5eb_level0_row10\" class=\"row_heading level0 row10\" >10</th>\n",
              "      <td id=\"T_5a5eb_row10_col0\" class=\"data row10 col0\" >Imputation type</td>\n",
              "      <td id=\"T_5a5eb_row10_col1\" class=\"data row10 col1\" >simple</td>\n",
              "    </tr>\n",
              "    <tr>\n",
              "      <th id=\"T_5a5eb_level0_row11\" class=\"row_heading level0 row11\" >11</th>\n",
              "      <td id=\"T_5a5eb_row11_col0\" class=\"data row11 col0\" >Numeric imputation</td>\n",
              "      <td id=\"T_5a5eb_row11_col1\" class=\"data row11 col1\" >mean</td>\n",
              "    </tr>\n",
              "    <tr>\n",
              "      <th id=\"T_5a5eb_level0_row12\" class=\"row_heading level0 row12\" >12</th>\n",
              "      <td id=\"T_5a5eb_row12_col0\" class=\"data row12 col0\" >Categorical imputation</td>\n",
              "      <td id=\"T_5a5eb_row12_col1\" class=\"data row12 col1\" >mode</td>\n",
              "    </tr>\n",
              "    <tr>\n",
              "      <th id=\"T_5a5eb_level0_row13\" class=\"row_heading level0 row13\" >13</th>\n",
              "      <td id=\"T_5a5eb_row13_col0\" class=\"data row13 col0\" >Fold Generator</td>\n",
              "      <td id=\"T_5a5eb_row13_col1\" class=\"data row13 col1\" >StratifiedKFold</td>\n",
              "    </tr>\n",
              "    <tr>\n",
              "      <th id=\"T_5a5eb_level0_row14\" class=\"row_heading level0 row14\" >14</th>\n",
              "      <td id=\"T_5a5eb_row14_col0\" class=\"data row14 col0\" >Fold Number</td>\n",
              "      <td id=\"T_5a5eb_row14_col1\" class=\"data row14 col1\" >10</td>\n",
              "    </tr>\n",
              "    <tr>\n",
              "      <th id=\"T_5a5eb_level0_row15\" class=\"row_heading level0 row15\" >15</th>\n",
              "      <td id=\"T_5a5eb_row15_col0\" class=\"data row15 col0\" >CPU Jobs</td>\n",
              "      <td id=\"T_5a5eb_row15_col1\" class=\"data row15 col1\" >-1</td>\n",
              "    </tr>\n",
              "    <tr>\n",
              "      <th id=\"T_5a5eb_level0_row16\" class=\"row_heading level0 row16\" >16</th>\n",
              "      <td id=\"T_5a5eb_row16_col0\" class=\"data row16 col0\" >Use GPU</td>\n",
              "      <td id=\"T_5a5eb_row16_col1\" class=\"data row16 col1\" >False</td>\n",
              "    </tr>\n",
              "    <tr>\n",
              "      <th id=\"T_5a5eb_level0_row17\" class=\"row_heading level0 row17\" >17</th>\n",
              "      <td id=\"T_5a5eb_row17_col0\" class=\"data row17 col0\" >Log Experiment</td>\n",
              "      <td id=\"T_5a5eb_row17_col1\" class=\"data row17 col1\" >False</td>\n",
              "    </tr>\n",
              "    <tr>\n",
              "      <th id=\"T_5a5eb_level0_row18\" class=\"row_heading level0 row18\" >18</th>\n",
              "      <td id=\"T_5a5eb_row18_col0\" class=\"data row18 col0\" >Experiment Name</td>\n",
              "      <td id=\"T_5a5eb_row18_col1\" class=\"data row18 col1\" >clf-default-name</td>\n",
              "    </tr>\n",
              "    <tr>\n",
              "      <th id=\"T_5a5eb_level0_row19\" class=\"row_heading level0 row19\" >19</th>\n",
              "      <td id=\"T_5a5eb_row19_col0\" class=\"data row19 col0\" >USI</td>\n",
              "      <td id=\"T_5a5eb_row19_col1\" class=\"data row19 col1\" >e5cc</td>\n",
              "    </tr>\n",
              "  </tbody>\n",
              "</table>\n"
            ]
          },
          "metadata": {}
        }
      ],
      "source": [
        "# Configurar el entorno PyCaret\n",
        "exp_clf=setup(data=muestra, target='C.O.')"
      ]
    },
    {
      "cell_type": "code",
      "execution_count": null,
      "metadata": {
        "colab": {
          "base_uri": "https://localhost:8080/",
          "height": 206,
          "referenced_widgets": [
            "3b916f150b0847858041c925626c7255",
            "db5b000248de4ac7bb2c88018cb81c2d",
            "be9c64acc7b14c25ae7e1a521370b249",
            "07e043ed1a554523ab45bf22ed56a32a",
            "895f675fb7f446deabd371fd28850edb",
            "9e13eaea463e4d9e9897eaf2198cea7b",
            "02c08a5bc5d247cba02c3e3400fd3278",
            "470c636e511646a695702fb1cdda86d0",
            "8a3859ff933f4362abf8632bed9afa09",
            "de2621bc89ff4e52bcd703beedcc5142",
            "99f8627917374ad99280952981ba42ef"
          ]
        },
        "id": "8i0CTnfQ4ldK",
        "outputId": "f71753eb-f420-4159-c8bd-44826132e6dd"
      },
      "outputs": [
        {
          "output_type": "display_data",
          "data": {
            "text/plain": [
              "<IPython.core.display.HTML object>"
            ],
            "text/html": []
          },
          "metadata": {}
        },
        {
          "output_type": "display_data",
          "data": {
            "text/plain": [
              "<pandas.io.formats.style.Styler at 0x7bbe9db6aad0>"
            ],
            "text/html": [
              "<style type=\"text/css\">\n",
              "#T_4f658 th {\n",
              "  text-align: left;\n",
              "}\n",
              "#T_4f658_row0_col0, #T_4f658_row1_col0, #T_4f658_row1_col1, #T_4f658_row1_col2, #T_4f658_row1_col3, #T_4f658_row1_col4, #T_4f658_row1_col5, #T_4f658_row1_col6, #T_4f658_row1_col7, #T_4f658_row2_col0, #T_4f658_row2_col1, #T_4f658_row2_col2, #T_4f658_row2_col3, #T_4f658_row2_col4, #T_4f658_row2_col5, #T_4f658_row2_col6, #T_4f658_row2_col7, #T_4f658_row3_col0, #T_4f658_row3_col1, #T_4f658_row3_col2, #T_4f658_row3_col3, #T_4f658_row3_col4, #T_4f658_row3_col5, #T_4f658_row3_col6, #T_4f658_row3_col7, #T_4f658_row4_col0, #T_4f658_row4_col1, #T_4f658_row4_col2, #T_4f658_row4_col3, #T_4f658_row4_col4, #T_4f658_row4_col5, #T_4f658_row4_col6, #T_4f658_row4_col7 {\n",
              "  text-align: left;\n",
              "}\n",
              "#T_4f658_row0_col1, #T_4f658_row0_col2, #T_4f658_row0_col3, #T_4f658_row0_col4, #T_4f658_row0_col5, #T_4f658_row0_col6, #T_4f658_row0_col7 {\n",
              "  text-align: left;\n",
              "  background-color: yellow;\n",
              "}\n",
              "#T_4f658_row0_col8, #T_4f658_row1_col8, #T_4f658_row2_col8, #T_4f658_row3_col8 {\n",
              "  text-align: left;\n",
              "  background-color: lightgrey;\n",
              "}\n",
              "#T_4f658_row4_col8 {\n",
              "  text-align: left;\n",
              "  background-color: yellow;\n",
              "  background-color: lightgrey;\n",
              "}\n",
              "</style>\n",
              "<table id=\"T_4f658\" class=\"dataframe\">\n",
              "  <thead>\n",
              "    <tr>\n",
              "      <th class=\"blank level0\" >&nbsp;</th>\n",
              "      <th id=\"T_4f658_level0_col0\" class=\"col_heading level0 col0\" >Model</th>\n",
              "      <th id=\"T_4f658_level0_col1\" class=\"col_heading level0 col1\" >Accuracy</th>\n",
              "      <th id=\"T_4f658_level0_col2\" class=\"col_heading level0 col2\" >AUC</th>\n",
              "      <th id=\"T_4f658_level0_col3\" class=\"col_heading level0 col3\" >Recall</th>\n",
              "      <th id=\"T_4f658_level0_col4\" class=\"col_heading level0 col4\" >Prec.</th>\n",
              "      <th id=\"T_4f658_level0_col5\" class=\"col_heading level0 col5\" >F1</th>\n",
              "      <th id=\"T_4f658_level0_col6\" class=\"col_heading level0 col6\" >Kappa</th>\n",
              "      <th id=\"T_4f658_level0_col7\" class=\"col_heading level0 col7\" >MCC</th>\n",
              "      <th id=\"T_4f658_level0_col8\" class=\"col_heading level0 col8\" >TT (Sec)</th>\n",
              "    </tr>\n",
              "  </thead>\n",
              "  <tbody>\n",
              "    <tr>\n",
              "      <th id=\"T_4f658_level0_row0\" class=\"row_heading level0 row0\" >gbc</th>\n",
              "      <td id=\"T_4f658_row0_col0\" class=\"data row0 col0\" >Gradient Boosting Classifier</td>\n",
              "      <td id=\"T_4f658_row0_col1\" class=\"data row0 col1\" >0.3626</td>\n",
              "      <td id=\"T_4f658_row0_col2\" class=\"data row0 col2\" >0.9249</td>\n",
              "      <td id=\"T_4f658_row0_col3\" class=\"data row0 col3\" >0.3626</td>\n",
              "      <td id=\"T_4f658_row0_col4\" class=\"data row0 col4\" >0.3409</td>\n",
              "      <td id=\"T_4f658_row0_col5\" class=\"data row0 col5\" >0.3323</td>\n",
              "      <td id=\"T_4f658_row0_col6\" class=\"data row0 col6\" >0.3234</td>\n",
              "      <td id=\"T_4f658_row0_col7\" class=\"data row0 col7\" >0.3255</td>\n",
              "      <td id=\"T_4f658_row0_col8\" class=\"data row0 col8\" >50.7790</td>\n",
              "    </tr>\n",
              "    <tr>\n",
              "      <th id=\"T_4f658_level0_row1\" class=\"row_heading level0 row1\" >rf</th>\n",
              "      <td id=\"T_4f658_row1_col0\" class=\"data row1 col0\" >Random Forest Classifier</td>\n",
              "      <td id=\"T_4f658_row1_col1\" class=\"data row1 col1\" >0.3450</td>\n",
              "      <td id=\"T_4f658_row1_col2\" class=\"data row1 col2\" >0.9220</td>\n",
              "      <td id=\"T_4f658_row1_col3\" class=\"data row1 col3\" >0.3450</td>\n",
              "      <td id=\"T_4f658_row1_col4\" class=\"data row1 col4\" >0.3275</td>\n",
              "      <td id=\"T_4f658_row1_col5\" class=\"data row1 col5\" >0.3231</td>\n",
              "      <td id=\"T_4f658_row1_col6\" class=\"data row1 col6\" >0.3057</td>\n",
              "      <td id=\"T_4f658_row1_col7\" class=\"data row1 col7\" >0.3069</td>\n",
              "      <td id=\"T_4f658_row1_col8\" class=\"data row1 col8\" >4.0190</td>\n",
              "    </tr>\n",
              "    <tr>\n",
              "      <th id=\"T_4f658_level0_row2\" class=\"row_heading level0 row2\" >lr</th>\n",
              "      <td id=\"T_4f658_row2_col0\" class=\"data row2 col0\" >Logistic Regression</td>\n",
              "      <td id=\"T_4f658_row2_col1\" class=\"data row2 col1\" >0.3403</td>\n",
              "      <td id=\"T_4f658_row2_col2\" class=\"data row2 col2\" >0.9233</td>\n",
              "      <td id=\"T_4f658_row2_col3\" class=\"data row2 col3\" >0.3403</td>\n",
              "      <td id=\"T_4f658_row2_col4\" class=\"data row2 col4\" >0.3217</td>\n",
              "      <td id=\"T_4f658_row2_col5\" class=\"data row2 col5\" >0.3228</td>\n",
              "      <td id=\"T_4f658_row2_col6\" class=\"data row2 col6\" >0.3012</td>\n",
              "      <td id=\"T_4f658_row2_col7\" class=\"data row2 col7\" >0.3022</td>\n",
              "      <td id=\"T_4f658_row2_col8\" class=\"data row2 col8\" >3.2490</td>\n",
              "    </tr>\n",
              "    <tr>\n",
              "      <th id=\"T_4f658_level0_row3\" class=\"row_heading level0 row3\" >xgboost</th>\n",
              "      <td id=\"T_4f658_row3_col0\" class=\"data row3 col0\" >Extreme Gradient Boosting</td>\n",
              "      <td id=\"T_4f658_row3_col1\" class=\"data row3 col1\" >0.3279</td>\n",
              "      <td id=\"T_4f658_row3_col2\" class=\"data row3 col2\" >0.9219</td>\n",
              "      <td id=\"T_4f658_row3_col3\" class=\"data row3 col3\" >0.3279</td>\n",
              "      <td id=\"T_4f658_row3_col4\" class=\"data row3 col4\" >0.3173</td>\n",
              "      <td id=\"T_4f658_row3_col5\" class=\"data row3 col5\" >0.3179</td>\n",
              "      <td id=\"T_4f658_row3_col6\" class=\"data row3 col6\" >0.2891</td>\n",
              "      <td id=\"T_4f658_row3_col7\" class=\"data row3 col7\" >0.2896</td>\n",
              "      <td id=\"T_4f658_row3_col8\" class=\"data row3 col8\" >36.7930</td>\n",
              "    </tr>\n",
              "    <tr>\n",
              "      <th id=\"T_4f658_level0_row4\" class=\"row_heading level0 row4\" >dt</th>\n",
              "      <td id=\"T_4f658_row4_col0\" class=\"data row4 col0\" >Decision Tree Classifier</td>\n",
              "      <td id=\"T_4f658_row4_col1\" class=\"data row4 col1\" >0.3097</td>\n",
              "      <td id=\"T_4f658_row4_col2\" class=\"data row4 col2\" >0.6361</td>\n",
              "      <td id=\"T_4f658_row4_col3\" class=\"data row4 col3\" >0.3097</td>\n",
              "      <td id=\"T_4f658_row4_col4\" class=\"data row4 col4\" >0.3107</td>\n",
              "      <td id=\"T_4f658_row4_col5\" class=\"data row4 col5\" >0.3084</td>\n",
              "      <td id=\"T_4f658_row4_col6\" class=\"data row4 col6\" >0.2723</td>\n",
              "      <td id=\"T_4f658_row4_col7\" class=\"data row4 col7\" >0.2725</td>\n",
              "      <td id=\"T_4f658_row4_col8\" class=\"data row4 col8\" >0.5680</td>\n",
              "    </tr>\n",
              "  </tbody>\n",
              "</table>\n"
            ]
          },
          "metadata": {}
        },
        {
          "output_type": "display_data",
          "data": {
            "text/plain": [
              "Processing:   0%|          | 0/25 [00:00<?, ?it/s]"
            ],
            "application/vnd.jupyter.widget-view+json": {
              "version_major": 2,
              "version_minor": 0,
              "model_id": "3b916f150b0847858041c925626c7255"
            }
          },
          "metadata": {
            "application/vnd.jupyter.widget-view+json": {
              "colab": {
                "custom_widget_manager": {
                  "url": "https://ssl.gstatic.com/colaboratory-static/widgets/colab-cdn-widget-manager/b3e629b1971e1542/manager.min.js"
                }
              }
            }
          }
        },
        {
          "output_type": "display_data",
          "data": {
            "text/plain": [
              "<IPython.core.display.HTML object>"
            ],
            "text/html": []
          },
          "metadata": {}
        }
      ],
      "source": [
        "models_to_compare = ['xgboost', 'gbc', 'lr', 'rf', 'dt']\n",
        "\n",
        "# Comparar los modelos especificados\n",
        "best_model = compare_models(include=models_to_compare)"
      ]
    },
    {
      "cell_type": "code",
      "source": [
        "model_name = str(best_model)\n",
        "\n",
        "print(\"Modelo:\", model_name)"
      ],
      "metadata": {
        "colab": {
          "base_uri": "https://localhost:8080/"
        },
        "id": "_1RTol0Oi_Vr",
        "outputId": "01dfe305-5dfc-4476-da51-57760e8bdd7b"
      },
      "execution_count": null,
      "outputs": [
        {
          "output_type": "stream",
          "name": "stdout",
          "text": [
            "Modelo: GradientBoostingClassifier(ccp_alpha=0.0, criterion='friedman_mse', init=None,\n",
            "                           learning_rate=0.1, loss='log_loss', max_depth=3,\n",
            "                           max_features=None, max_leaf_nodes=None,\n",
            "                           min_impurity_decrease=0.0, min_samples_leaf=1,\n",
            "                           min_samples_split=2, min_weight_fraction_leaf=0.0,\n",
            "                           n_estimators=100, n_iter_no_change=None,\n",
            "                           random_state=3638, subsample=1.0, tol=0.0001,\n",
            "                           validation_fraction=0.1, verbose=0,\n",
            "                           warm_start=False)\n"
          ]
        }
      ]
    },
    {
      "cell_type": "code",
      "source": [
        "lr_model=create_model('lr')"
      ],
      "metadata": {
        "id": "B-nh3bKj_wxT",
        "colab": {
          "base_uri": "https://localhost:8080/",
          "height": 457,
          "referenced_widgets": [
            "9adc2c0d1ec641b79d82b9f1114c0ca4",
            "d11fa6b9ae6240de988fe1cf5458b3aa",
            "a1f616da429f43b8823cadc7e0ba6233",
            "0abcdb36cfe94bd58340601d4163ffbb",
            "46fc5c4c141440dfb0eca311e2db258b",
            "0b8404a3349e46caabb611babe60ac11",
            "06489061dcba4b9b800e9efae4a6878e",
            "a9aa97c38f564f07ac6870bbd4848a7b",
            "36ece0f6c07a49988f1bc2a7c5d7e912",
            "d7d04b91aaea4ab9a823ff8a2e71eda8",
            "c8b92f7782bf4e819f3a152da341cd25"
          ]
        },
        "outputId": "ccc51d82-5b98-4ac4-b73c-a058b2365fc8"
      },
      "execution_count": null,
      "outputs": [
        {
          "output_type": "display_data",
          "data": {
            "text/plain": [
              "<IPython.core.display.HTML object>"
            ],
            "text/html": []
          },
          "metadata": {}
        },
        {
          "output_type": "display_data",
          "data": {
            "text/plain": [
              "<pandas.io.formats.style.Styler at 0x7bbe9346d630>"
            ],
            "text/html": [
              "<style type=\"text/css\">\n",
              "#T_1071d_row10_col0, #T_1071d_row10_col1, #T_1071d_row10_col2, #T_1071d_row10_col3, #T_1071d_row10_col4, #T_1071d_row10_col5, #T_1071d_row10_col6 {\n",
              "  background: yellow;\n",
              "}\n",
              "</style>\n",
              "<table id=\"T_1071d\" class=\"dataframe\">\n",
              "  <thead>\n",
              "    <tr>\n",
              "      <th class=\"blank level0\" >&nbsp;</th>\n",
              "      <th id=\"T_1071d_level0_col0\" class=\"col_heading level0 col0\" >Accuracy</th>\n",
              "      <th id=\"T_1071d_level0_col1\" class=\"col_heading level0 col1\" >AUC</th>\n",
              "      <th id=\"T_1071d_level0_col2\" class=\"col_heading level0 col2\" >Recall</th>\n",
              "      <th id=\"T_1071d_level0_col3\" class=\"col_heading level0 col3\" >Prec.</th>\n",
              "      <th id=\"T_1071d_level0_col4\" class=\"col_heading level0 col4\" >F1</th>\n",
              "      <th id=\"T_1071d_level0_col5\" class=\"col_heading level0 col5\" >Kappa</th>\n",
              "      <th id=\"T_1071d_level0_col6\" class=\"col_heading level0 col6\" >MCC</th>\n",
              "    </tr>\n",
              "    <tr>\n",
              "      <th class=\"index_name level0\" >Fold</th>\n",
              "      <th class=\"blank col0\" >&nbsp;</th>\n",
              "      <th class=\"blank col1\" >&nbsp;</th>\n",
              "      <th class=\"blank col2\" >&nbsp;</th>\n",
              "      <th class=\"blank col3\" >&nbsp;</th>\n",
              "      <th class=\"blank col4\" >&nbsp;</th>\n",
              "      <th class=\"blank col5\" >&nbsp;</th>\n",
              "      <th class=\"blank col6\" >&nbsp;</th>\n",
              "    </tr>\n",
              "  </thead>\n",
              "  <tbody>\n",
              "    <tr>\n",
              "      <th id=\"T_1071d_level0_row0\" class=\"row_heading level0 row0\" >0</th>\n",
              "      <td id=\"T_1071d_row0_col0\" class=\"data row0 col0\" >0.3657</td>\n",
              "      <td id=\"T_1071d_row0_col1\" class=\"data row0 col1\" >0.9227</td>\n",
              "      <td id=\"T_1071d_row0_col2\" class=\"data row0 col2\" >0.3657</td>\n",
              "      <td id=\"T_1071d_row0_col3\" class=\"data row0 col3\" >0.3487</td>\n",
              "      <td id=\"T_1071d_row0_col4\" class=\"data row0 col4\" >0.3503</td>\n",
              "      <td id=\"T_1071d_row0_col5\" class=\"data row0 col5\" >0.3279</td>\n",
              "      <td id=\"T_1071d_row0_col6\" class=\"data row0 col6\" >0.3289</td>\n",
              "    </tr>\n",
              "    <tr>\n",
              "      <th id=\"T_1071d_level0_row1\" class=\"row_heading level0 row1\" >1</th>\n",
              "      <td id=\"T_1071d_row1_col0\" class=\"data row1 col0\" >0.3114</td>\n",
              "      <td id=\"T_1071d_row1_col1\" class=\"data row1 col1\" >0.9200</td>\n",
              "      <td id=\"T_1071d_row1_col2\" class=\"data row1 col2\" >0.3114</td>\n",
              "      <td id=\"T_1071d_row1_col3\" class=\"data row1 col3\" >0.2902</td>\n",
              "      <td id=\"T_1071d_row1_col4\" class=\"data row1 col4\" >0.2938</td>\n",
              "      <td id=\"T_1071d_row1_col5\" class=\"data row1 col5\" >0.2707</td>\n",
              "      <td id=\"T_1071d_row1_col6\" class=\"data row1 col6\" >0.2715</td>\n",
              "    </tr>\n",
              "    <tr>\n",
              "      <th id=\"T_1071d_level0_row2\" class=\"row_heading level0 row2\" >2</th>\n",
              "      <td id=\"T_1071d_row2_col0\" class=\"data row2 col0\" >0.3614</td>\n",
              "      <td id=\"T_1071d_row2_col1\" class=\"data row2 col1\" >0.9208</td>\n",
              "      <td id=\"T_1071d_row2_col2\" class=\"data row2 col2\" >0.3614</td>\n",
              "      <td id=\"T_1071d_row2_col3\" class=\"data row2 col3\" >0.3401</td>\n",
              "      <td id=\"T_1071d_row2_col4\" class=\"data row2 col4\" >0.3387</td>\n",
              "      <td id=\"T_1071d_row2_col5\" class=\"data row2 col5\" >0.3229</td>\n",
              "      <td id=\"T_1071d_row2_col6\" class=\"data row2 col6\" >0.3242</td>\n",
              "    </tr>\n",
              "    <tr>\n",
              "      <th id=\"T_1071d_level0_row3\" class=\"row_heading level0 row3\" >3</th>\n",
              "      <td id=\"T_1071d_row3_col0\" class=\"data row3 col0\" >0.3414</td>\n",
              "      <td id=\"T_1071d_row3_col1\" class=\"data row3 col1\" >0.9227</td>\n",
              "      <td id=\"T_1071d_row3_col2\" class=\"data row3 col2\" >0.3414</td>\n",
              "      <td id=\"T_1071d_row3_col3\" class=\"data row3 col3\" >0.3283</td>\n",
              "      <td id=\"T_1071d_row3_col4\" class=\"data row3 col4\" >0.3293</td>\n",
              "      <td id=\"T_1071d_row3_col5\" class=\"data row3 col5\" >0.3031</td>\n",
              "      <td id=\"T_1071d_row3_col6\" class=\"data row3 col6\" >0.3037</td>\n",
              "    </tr>\n",
              "    <tr>\n",
              "      <th id=\"T_1071d_level0_row4\" class=\"row_heading level0 row4\" >4</th>\n",
              "      <td id=\"T_1071d_row4_col0\" class=\"data row4 col0\" >0.3486</td>\n",
              "      <td id=\"T_1071d_row4_col1\" class=\"data row4 col1\" >0.9259</td>\n",
              "      <td id=\"T_1071d_row4_col2\" class=\"data row4 col2\" >0.3486</td>\n",
              "      <td id=\"T_1071d_row4_col3\" class=\"data row4 col3\" >0.3333</td>\n",
              "      <td id=\"T_1071d_row4_col4\" class=\"data row4 col4\" >0.3288</td>\n",
              "      <td id=\"T_1071d_row4_col5\" class=\"data row4 col5\" >0.3098</td>\n",
              "      <td id=\"T_1071d_row4_col6\" class=\"data row4 col6\" >0.3109</td>\n",
              "    </tr>\n",
              "    <tr>\n",
              "      <th id=\"T_1071d_level0_row5\" class=\"row_heading level0 row5\" >5</th>\n",
              "      <td id=\"T_1071d_row5_col0\" class=\"data row5 col0\" >0.3386</td>\n",
              "      <td id=\"T_1071d_row5_col1\" class=\"data row5 col1\" >0.9252</td>\n",
              "      <td id=\"T_1071d_row5_col2\" class=\"data row5 col2\" >0.3386</td>\n",
              "      <td id=\"T_1071d_row5_col3\" class=\"data row5 col3\" >0.3085</td>\n",
              "      <td id=\"T_1071d_row5_col4\" class=\"data row5 col4\" >0.3157</td>\n",
              "      <td id=\"T_1071d_row5_col5\" class=\"data row5 col5\" >0.2990</td>\n",
              "      <td id=\"T_1071d_row5_col6\" class=\"data row5 col6\" >0.3004</td>\n",
              "    </tr>\n",
              "    <tr>\n",
              "      <th id=\"T_1071d_level0_row6\" class=\"row_heading level0 row6\" >6</th>\n",
              "      <td id=\"T_1071d_row6_col0\" class=\"data row6 col0\" >0.3100</td>\n",
              "      <td id=\"T_1071d_row6_col1\" class=\"data row6 col1\" >0.9214</td>\n",
              "      <td id=\"T_1071d_row6_col2\" class=\"data row6 col2\" >0.3100</td>\n",
              "      <td id=\"T_1071d_row6_col3\" class=\"data row6 col3\" >0.2886</td>\n",
              "      <td id=\"T_1071d_row6_col4\" class=\"data row6 col4\" >0.2953</td>\n",
              "      <td id=\"T_1071d_row6_col5\" class=\"data row6 col5\" >0.2696</td>\n",
              "      <td id=\"T_1071d_row6_col6\" class=\"data row6 col6\" >0.2702</td>\n",
              "    </tr>\n",
              "    <tr>\n",
              "      <th id=\"T_1071d_level0_row7\" class=\"row_heading level0 row7\" >7</th>\n",
              "      <td id=\"T_1071d_row7_col0\" class=\"data row7 col0\" >0.3400</td>\n",
              "      <td id=\"T_1071d_row7_col1\" class=\"data row7 col1\" >0.9251</td>\n",
              "      <td id=\"T_1071d_row7_col2\" class=\"data row7 col2\" >0.3400</td>\n",
              "      <td id=\"T_1071d_row7_col3\" class=\"data row7 col3\" >0.3195</td>\n",
              "      <td id=\"T_1071d_row7_col4\" class=\"data row7 col4\" >0.3223</td>\n",
              "      <td id=\"T_1071d_row7_col5\" class=\"data row7 col5\" >0.3013</td>\n",
              "      <td id=\"T_1071d_row7_col6\" class=\"data row7 col6\" >0.3022</td>\n",
              "    </tr>\n",
              "    <tr>\n",
              "      <th id=\"T_1071d_level0_row8\" class=\"row_heading level0 row8\" >8</th>\n",
              "      <td id=\"T_1071d_row8_col0\" class=\"data row8 col0\" >0.3443</td>\n",
              "      <td id=\"T_1071d_row8_col1\" class=\"data row8 col1\" >0.9242</td>\n",
              "      <td id=\"T_1071d_row8_col2\" class=\"data row8 col2\" >0.3443</td>\n",
              "      <td id=\"T_1071d_row8_col3\" class=\"data row8 col3\" >0.3313</td>\n",
              "      <td id=\"T_1071d_row8_col4\" class=\"data row8 col4\" >0.3290</td>\n",
              "      <td id=\"T_1071d_row8_col5\" class=\"data row8 col5\" >0.3057</td>\n",
              "      <td id=\"T_1071d_row8_col6\" class=\"data row8 col6\" >0.3067</td>\n",
              "    </tr>\n",
              "    <tr>\n",
              "      <th id=\"T_1071d_level0_row9\" class=\"row_heading level0 row9\" >9</th>\n",
              "      <td id=\"T_1071d_row9_col0\" class=\"data row9 col0\" >0.3414</td>\n",
              "      <td id=\"T_1071d_row9_col1\" class=\"data row9 col1\" >0.9252</td>\n",
              "      <td id=\"T_1071d_row9_col2\" class=\"data row9 col2\" >0.3414</td>\n",
              "      <td id=\"T_1071d_row9_col3\" class=\"data row9 col3\" >0.3283</td>\n",
              "      <td id=\"T_1071d_row9_col4\" class=\"data row9 col4\" >0.3253</td>\n",
              "      <td id=\"T_1071d_row9_col5\" class=\"data row9 col5\" >0.3023</td>\n",
              "      <td id=\"T_1071d_row9_col6\" class=\"data row9 col6\" >0.3033</td>\n",
              "    </tr>\n",
              "    <tr>\n",
              "      <th id=\"T_1071d_level0_row10\" class=\"row_heading level0 row10\" >Mean</th>\n",
              "      <td id=\"T_1071d_row10_col0\" class=\"data row10 col0\" >0.3403</td>\n",
              "      <td id=\"T_1071d_row10_col1\" class=\"data row10 col1\" >0.9233</td>\n",
              "      <td id=\"T_1071d_row10_col2\" class=\"data row10 col2\" >0.3403</td>\n",
              "      <td id=\"T_1071d_row10_col3\" class=\"data row10 col3\" >0.3217</td>\n",
              "      <td id=\"T_1071d_row10_col4\" class=\"data row10 col4\" >0.3228</td>\n",
              "      <td id=\"T_1071d_row10_col5\" class=\"data row10 col5\" >0.3012</td>\n",
              "      <td id=\"T_1071d_row10_col6\" class=\"data row10 col6\" >0.3022</td>\n",
              "    </tr>\n",
              "    <tr>\n",
              "      <th id=\"T_1071d_level0_row11\" class=\"row_heading level0 row11\" >Std</th>\n",
              "      <td id=\"T_1071d_row11_col0\" class=\"data row11 col0\" >0.0171</td>\n",
              "      <td id=\"T_1071d_row11_col1\" class=\"data row11 col1\" >0.0020</td>\n",
              "      <td id=\"T_1071d_row11_col2\" class=\"data row11 col2\" >0.0171</td>\n",
              "      <td id=\"T_1071d_row11_col3\" class=\"data row11 col3\" >0.0191</td>\n",
              "      <td id=\"T_1071d_row11_col4\" class=\"data row11 col4\" >0.0167</td>\n",
              "      <td id=\"T_1071d_row11_col5\" class=\"data row11 col5\" >0.0179</td>\n",
              "      <td id=\"T_1071d_row11_col6\" class=\"data row11 col6\" >0.0181</td>\n",
              "    </tr>\n",
              "  </tbody>\n",
              "</table>\n"
            ]
          },
          "metadata": {}
        },
        {
          "output_type": "display_data",
          "data": {
            "text/plain": [
              "Processing:   0%|          | 0/4 [00:00<?, ?it/s]"
            ],
            "application/vnd.jupyter.widget-view+json": {
              "version_major": 2,
              "version_minor": 0,
              "model_id": "9adc2c0d1ec641b79d82b9f1114c0ca4"
            }
          },
          "metadata": {
            "application/vnd.jupyter.widget-view+json": {
              "colab": {
                "custom_widget_manager": {
                  "url": "https://ssl.gstatic.com/colaboratory-static/widgets/colab-cdn-widget-manager/b3e629b1971e1542/manager.min.js"
                }
              }
            }
          }
        },
        {
          "output_type": "display_data",
          "data": {
            "text/plain": [
              "<IPython.core.display.HTML object>"
            ],
            "text/html": []
          },
          "metadata": {}
        }
      ]
    },
    {
      "cell_type": "code",
      "source": [
        "tuned_lr =tune_model(lr_model, optimize ='Accuracy')"
      ],
      "metadata": {
        "id": "oKf601hV_0Lg",
        "colab": {
          "base_uri": "https://localhost:8080/",
          "height": 492,
          "referenced_widgets": [
            "ebb15a0c53a249a0b5f8c536ca75c411",
            "26ca3234f9ed4b7f8b7ab1c3ec25a7c3",
            "c376255564294ee3b3539f99ebd2b15c",
            "7387d0f2b280467fbad140c8afc696fb",
            "c341f006a8ee4051b7b88d48ff1d382b",
            "7ba9c4a5530742dcae57a0455ceb0cf1",
            "da3cf6b003e14bab9f9fae17fb1de342",
            "b41633b0844843c88bc138c32f0a74f9",
            "54d0c941d6b84ed183c6d1b410b29999",
            "071423ec883343dba81be22d034f1634",
            "47b65e5805e542579ca64c35ec9e86ee"
          ]
        },
        "outputId": "461fc060-b6b7-4973-9ffe-e6f7f6d9a9a1"
      },
      "execution_count": null,
      "outputs": [
        {
          "output_type": "display_data",
          "data": {
            "text/plain": [
              "<IPython.core.display.HTML object>"
            ],
            "text/html": []
          },
          "metadata": {}
        },
        {
          "output_type": "display_data",
          "data": {
            "text/plain": [
              "<pandas.io.formats.style.Styler at 0x7bbe80a07280>"
            ],
            "text/html": [
              "<style type=\"text/css\">\n",
              "#T_447e7_row10_col0, #T_447e7_row10_col1, #T_447e7_row10_col2, #T_447e7_row10_col3, #T_447e7_row10_col4, #T_447e7_row10_col5, #T_447e7_row10_col6 {\n",
              "  background: yellow;\n",
              "}\n",
              "</style>\n",
              "<table id=\"T_447e7\" class=\"dataframe\">\n",
              "  <thead>\n",
              "    <tr>\n",
              "      <th class=\"blank level0\" >&nbsp;</th>\n",
              "      <th id=\"T_447e7_level0_col0\" class=\"col_heading level0 col0\" >Accuracy</th>\n",
              "      <th id=\"T_447e7_level0_col1\" class=\"col_heading level0 col1\" >AUC</th>\n",
              "      <th id=\"T_447e7_level0_col2\" class=\"col_heading level0 col2\" >Recall</th>\n",
              "      <th id=\"T_447e7_level0_col3\" class=\"col_heading level0 col3\" >Prec.</th>\n",
              "      <th id=\"T_447e7_level0_col4\" class=\"col_heading level0 col4\" >F1</th>\n",
              "      <th id=\"T_447e7_level0_col5\" class=\"col_heading level0 col5\" >Kappa</th>\n",
              "      <th id=\"T_447e7_level0_col6\" class=\"col_heading level0 col6\" >MCC</th>\n",
              "    </tr>\n",
              "    <tr>\n",
              "      <th class=\"index_name level0\" >Fold</th>\n",
              "      <th class=\"blank col0\" >&nbsp;</th>\n",
              "      <th class=\"blank col1\" >&nbsp;</th>\n",
              "      <th class=\"blank col2\" >&nbsp;</th>\n",
              "      <th class=\"blank col3\" >&nbsp;</th>\n",
              "      <th class=\"blank col4\" >&nbsp;</th>\n",
              "      <th class=\"blank col5\" >&nbsp;</th>\n",
              "      <th class=\"blank col6\" >&nbsp;</th>\n",
              "    </tr>\n",
              "  </thead>\n",
              "  <tbody>\n",
              "    <tr>\n",
              "      <th id=\"T_447e7_level0_row0\" class=\"row_heading level0 row0\" >0</th>\n",
              "      <td id=\"T_447e7_row0_col0\" class=\"data row0 col0\" >0.3486</td>\n",
              "      <td id=\"T_447e7_row0_col1\" class=\"data row0 col1\" >0.9215</td>\n",
              "      <td id=\"T_447e7_row0_col2\" class=\"data row0 col2\" >0.3486</td>\n",
              "      <td id=\"T_447e7_row0_col3\" class=\"data row0 col3\" >0.3359</td>\n",
              "      <td id=\"T_447e7_row0_col4\" class=\"data row0 col4\" >0.3381</td>\n",
              "      <td id=\"T_447e7_row0_col5\" class=\"data row0 col5\" >0.3105</td>\n",
              "      <td id=\"T_447e7_row0_col6\" class=\"data row0 col6\" >0.3111</td>\n",
              "    </tr>\n",
              "    <tr>\n",
              "      <th id=\"T_447e7_level0_row1\" class=\"row_heading level0 row1\" >1</th>\n",
              "      <td id=\"T_447e7_row1_col0\" class=\"data row1 col0\" >0.3071</td>\n",
              "      <td id=\"T_447e7_row1_col1\" class=\"data row1 col1\" >0.9199</td>\n",
              "      <td id=\"T_447e7_row1_col2\" class=\"data row1 col2\" >0.3071</td>\n",
              "      <td id=\"T_447e7_row1_col3\" class=\"data row1 col3\" >0.2926</td>\n",
              "      <td id=\"T_447e7_row1_col4\" class=\"data row1 col4\" >0.2957</td>\n",
              "      <td id=\"T_447e7_row1_col5\" class=\"data row1 col5\" >0.2671</td>\n",
              "      <td id=\"T_447e7_row1_col6\" class=\"data row1 col6\" >0.2676</td>\n",
              "    </tr>\n",
              "    <tr>\n",
              "      <th id=\"T_447e7_level0_row2\" class=\"row_heading level0 row2\" >2</th>\n",
              "      <td id=\"T_447e7_row2_col0\" class=\"data row2 col0\" >0.3514</td>\n",
              "      <td id=\"T_447e7_row2_col1\" class=\"data row2 col1\" >0.9197</td>\n",
              "      <td id=\"T_447e7_row2_col2\" class=\"data row2 col2\" >0.3514</td>\n",
              "      <td id=\"T_447e7_row2_col3\" class=\"data row2 col3\" >0.3290</td>\n",
              "      <td id=\"T_447e7_row2_col4\" class=\"data row2 col4\" >0.3333</td>\n",
              "      <td id=\"T_447e7_row2_col5\" class=\"data row2 col5\" >0.3131</td>\n",
              "      <td id=\"T_447e7_row2_col6\" class=\"data row2 col6\" >0.3139</td>\n",
              "    </tr>\n",
              "    <tr>\n",
              "      <th id=\"T_447e7_level0_row3\" class=\"row_heading level0 row3\" >3</th>\n",
              "      <td id=\"T_447e7_row3_col0\" class=\"data row3 col0\" >0.3443</td>\n",
              "      <td id=\"T_447e7_row3_col1\" class=\"data row3 col1\" >0.9223</td>\n",
              "      <td id=\"T_447e7_row3_col2\" class=\"data row3 col2\" >0.3443</td>\n",
              "      <td id=\"T_447e7_row3_col3\" class=\"data row3 col3\" >0.3367</td>\n",
              "      <td id=\"T_447e7_row3_col4\" class=\"data row3 col4\" >0.3365</td>\n",
              "      <td id=\"T_447e7_row3_col5\" class=\"data row3 col5\" >0.3066</td>\n",
              "      <td id=\"T_447e7_row3_col6\" class=\"data row3 col6\" >0.3070</td>\n",
              "    </tr>\n",
              "    <tr>\n",
              "      <th id=\"T_447e7_level0_row4\" class=\"row_heading level0 row4\" >4</th>\n",
              "      <td id=\"T_447e7_row4_col0\" class=\"data row4 col0\" >0.3471</td>\n",
              "      <td id=\"T_447e7_row4_col1\" class=\"data row4 col1\" >0.9253</td>\n",
              "      <td id=\"T_447e7_row4_col2\" class=\"data row4 col2\" >0.3471</td>\n",
              "      <td id=\"T_447e7_row4_col3\" class=\"data row4 col3\" >0.3327</td>\n",
              "      <td id=\"T_447e7_row4_col4\" class=\"data row4 col4\" >0.3329</td>\n",
              "      <td id=\"T_447e7_row4_col5\" class=\"data row4 col5\" >0.3091</td>\n",
              "      <td id=\"T_447e7_row4_col6\" class=\"data row4 col6\" >0.3099</td>\n",
              "    </tr>\n",
              "    <tr>\n",
              "      <th id=\"T_447e7_level0_row5\" class=\"row_heading level0 row5\" >5</th>\n",
              "      <td id=\"T_447e7_row5_col0\" class=\"data row5 col0\" >0.3457</td>\n",
              "      <td id=\"T_447e7_row5_col1\" class=\"data row5 col1\" >0.9248</td>\n",
              "      <td id=\"T_447e7_row5_col2\" class=\"data row5 col2\" >0.3457</td>\n",
              "      <td id=\"T_447e7_row5_col3\" class=\"data row5 col3\" >0.3245</td>\n",
              "      <td id=\"T_447e7_row5_col4\" class=\"data row5 col4\" >0.3282</td>\n",
              "      <td id=\"T_447e7_row5_col5\" class=\"data row5 col5\" >0.3071</td>\n",
              "      <td id=\"T_447e7_row5_col6\" class=\"data row5 col6\" >0.3082</td>\n",
              "    </tr>\n",
              "    <tr>\n",
              "      <th id=\"T_447e7_level0_row6\" class=\"row_heading level0 row6\" >6</th>\n",
              "      <td id=\"T_447e7_row6_col0\" class=\"data row6 col0\" >0.2957</td>\n",
              "      <td id=\"T_447e7_row6_col1\" class=\"data row6 col1\" >0.9205</td>\n",
              "      <td id=\"T_447e7_row6_col2\" class=\"data row6 col2\" >0.2957</td>\n",
              "      <td id=\"T_447e7_row6_col3\" class=\"data row6 col3\" >0.2825</td>\n",
              "      <td id=\"T_447e7_row6_col4\" class=\"data row6 col4\" >0.2859</td>\n",
              "      <td id=\"T_447e7_row6_col5\" class=\"data row6 col5\" >0.2553</td>\n",
              "      <td id=\"T_447e7_row6_col6\" class=\"data row6 col6\" >0.2557</td>\n",
              "    </tr>\n",
              "    <tr>\n",
              "      <th id=\"T_447e7_level0_row7\" class=\"row_heading level0 row7\" >7</th>\n",
              "      <td id=\"T_447e7_row7_col0\" class=\"data row7 col0\" >0.3371</td>\n",
              "      <td id=\"T_447e7_row7_col1\" class=\"data row7 col1\" >0.9249</td>\n",
              "      <td id=\"T_447e7_row7_col2\" class=\"data row7 col2\" >0.3371</td>\n",
              "      <td id=\"T_447e7_row7_col3\" class=\"data row7 col3\" >0.3233</td>\n",
              "      <td id=\"T_447e7_row7_col4\" class=\"data row7 col4\" >0.3258</td>\n",
              "      <td id=\"T_447e7_row7_col5\" class=\"data row7 col5\" >0.2992</td>\n",
              "      <td id=\"T_447e7_row7_col6\" class=\"data row7 col6\" >0.2998</td>\n",
              "    </tr>\n",
              "    <tr>\n",
              "      <th id=\"T_447e7_level0_row8\" class=\"row_heading level0 row8\" >8</th>\n",
              "      <td id=\"T_447e7_row8_col0\" class=\"data row8 col0\" >0.3414</td>\n",
              "      <td id=\"T_447e7_row8_col1\" class=\"data row8 col1\" >0.9237</td>\n",
              "      <td id=\"T_447e7_row8_col2\" class=\"data row8 col2\" >0.3414</td>\n",
              "      <td id=\"T_447e7_row8_col3\" class=\"data row8 col3\" >0.3267</td>\n",
              "      <td id=\"T_447e7_row8_col4\" class=\"data row8 col4\" >0.3287</td>\n",
              "      <td id=\"T_447e7_row8_col5\" class=\"data row8 col5\" >0.3032</td>\n",
              "      <td id=\"T_447e7_row8_col6\" class=\"data row8 col6\" >0.3039</td>\n",
              "    </tr>\n",
              "    <tr>\n",
              "      <th id=\"T_447e7_level0_row9\" class=\"row_heading level0 row9\" >9</th>\n",
              "      <td id=\"T_447e7_row9_col0\" class=\"data row9 col0\" >0.3457</td>\n",
              "      <td id=\"T_447e7_row9_col1\" class=\"data row9 col1\" >0.9246</td>\n",
              "      <td id=\"T_447e7_row9_col2\" class=\"data row9 col2\" >0.3457</td>\n",
              "      <td id=\"T_447e7_row9_col3\" class=\"data row9 col3\" >0.3337</td>\n",
              "      <td id=\"T_447e7_row9_col4\" class=\"data row9 col4\" >0.3328</td>\n",
              "      <td id=\"T_447e7_row9_col5\" class=\"data row9 col5\" >0.3073</td>\n",
              "      <td id=\"T_447e7_row9_col6\" class=\"data row9 col6\" >0.3081</td>\n",
              "    </tr>\n",
              "    <tr>\n",
              "      <th id=\"T_447e7_level0_row10\" class=\"row_heading level0 row10\" >Mean</th>\n",
              "      <td id=\"T_447e7_row10_col0\" class=\"data row10 col0\" >0.3364</td>\n",
              "      <td id=\"T_447e7_row10_col1\" class=\"data row10 col1\" >0.9227</td>\n",
              "      <td id=\"T_447e7_row10_col2\" class=\"data row10 col2\" >0.3364</td>\n",
              "      <td id=\"T_447e7_row10_col3\" class=\"data row10 col3\" >0.3218</td>\n",
              "      <td id=\"T_447e7_row10_col4\" class=\"data row10 col4\" >0.3238</td>\n",
              "      <td id=\"T_447e7_row10_col5\" class=\"data row10 col5\" >0.2979</td>\n",
              "      <td id=\"T_447e7_row10_col6\" class=\"data row10 col6\" >0.2985</td>\n",
              "    </tr>\n",
              "    <tr>\n",
              "      <th id=\"T_447e7_level0_row11\" class=\"row_heading level0 row11\" >Std</th>\n",
              "      <td id=\"T_447e7_row11_col0\" class=\"data row11 col0\" >0.0181</td>\n",
              "      <td id=\"T_447e7_row11_col1\" class=\"data row11 col1\" >0.0021</td>\n",
              "      <td id=\"T_447e7_row11_col2\" class=\"data row11 col2\" >0.0181</td>\n",
              "      <td id=\"T_447e7_row11_col3\" class=\"data row11 col3\" >0.0178</td>\n",
              "      <td id=\"T_447e7_row11_col4\" class=\"data row11 col4\" >0.0170</td>\n",
              "      <td id=\"T_447e7_row11_col5\" class=\"data row11 col5\" >0.0189</td>\n",
              "      <td id=\"T_447e7_row11_col6\" class=\"data row11 col6\" >0.0190</td>\n",
              "    </tr>\n",
              "  </tbody>\n",
              "</table>\n"
            ]
          },
          "metadata": {}
        },
        {
          "output_type": "display_data",
          "data": {
            "text/plain": [
              "Processing:   0%|          | 0/7 [00:00<?, ?it/s]"
            ],
            "application/vnd.jupyter.widget-view+json": {
              "version_major": 2,
              "version_minor": 0,
              "model_id": "ebb15a0c53a249a0b5f8c536ca75c411"
            }
          },
          "metadata": {
            "application/vnd.jupyter.widget-view+json": {
              "colab": {
                "custom_widget_manager": {
                  "url": "https://ssl.gstatic.com/colaboratory-static/widgets/colab-cdn-widget-manager/b3e629b1971e1542/manager.min.js"
                }
              }
            }
          }
        },
        {
          "output_type": "stream",
          "name": "stdout",
          "text": [
            "Fitting 10 folds for each of 10 candidates, totalling 100 fits\n"
          ]
        },
        {
          "output_type": "display_data",
          "data": {
            "text/plain": [
              "<IPython.core.display.HTML object>"
            ],
            "text/html": []
          },
          "metadata": {}
        },
        {
          "output_type": "stream",
          "name": "stdout",
          "text": [
            "Original model was better than the tuned model, hence it will be returned. NOTE: The display metrics are for the tuned model (not the original one).\n"
          ]
        }
      ]
    },
    {
      "cell_type": "code",
      "source": [
        "gbc_model=create_model('gbc')"
      ],
      "metadata": {
        "id": "9wy8tGul_2rU",
        "colab": {
          "base_uri": "https://localhost:8080/",
          "height": 457,
          "referenced_widgets": [
            "f57a61f26a6244f7980bc5007075b4b0",
            "1fb1960cc39f432bba6719d280c84125",
            "5b8ad76d59c04b788ceff7380f65d2b1",
            "9aaa776b23ab417daf5234954557ce80",
            "b3c148ffa7e34ad5846a3b4abb1360a6",
            "a538f42d756f4917b432c49913f26074",
            "48474381025545268f7327cbfd395901",
            "5d31eec0b3ac45eca843971901b42258",
            "0f8de681f514495cb2c0f43ec2cf3ee2",
            "34a28b756ca14bd49e4ca0aaa732b9b1",
            "d45b586efe584ca2b489646fb3d2ef41"
          ]
        },
        "outputId": "7dbd8efb-fd43-49d0-9be1-283123820661"
      },
      "execution_count": null,
      "outputs": [
        {
          "output_type": "display_data",
          "data": {
            "text/plain": [
              "<IPython.core.display.HTML object>"
            ],
            "text/html": []
          },
          "metadata": {}
        },
        {
          "output_type": "display_data",
          "data": {
            "text/plain": [
              "<pandas.io.formats.style.Styler at 0x7bbe8087cb50>"
            ],
            "text/html": [
              "<style type=\"text/css\">\n",
              "#T_b19b0_row10_col0, #T_b19b0_row10_col1, #T_b19b0_row10_col2, #T_b19b0_row10_col3, #T_b19b0_row10_col4, #T_b19b0_row10_col5, #T_b19b0_row10_col6 {\n",
              "  background: yellow;\n",
              "}\n",
              "</style>\n",
              "<table id=\"T_b19b0\" class=\"dataframe\">\n",
              "  <thead>\n",
              "    <tr>\n",
              "      <th class=\"blank level0\" >&nbsp;</th>\n",
              "      <th id=\"T_b19b0_level0_col0\" class=\"col_heading level0 col0\" >Accuracy</th>\n",
              "      <th id=\"T_b19b0_level0_col1\" class=\"col_heading level0 col1\" >AUC</th>\n",
              "      <th id=\"T_b19b0_level0_col2\" class=\"col_heading level0 col2\" >Recall</th>\n",
              "      <th id=\"T_b19b0_level0_col3\" class=\"col_heading level0 col3\" >Prec.</th>\n",
              "      <th id=\"T_b19b0_level0_col4\" class=\"col_heading level0 col4\" >F1</th>\n",
              "      <th id=\"T_b19b0_level0_col5\" class=\"col_heading level0 col5\" >Kappa</th>\n",
              "      <th id=\"T_b19b0_level0_col6\" class=\"col_heading level0 col6\" >MCC</th>\n",
              "    </tr>\n",
              "    <tr>\n",
              "      <th class=\"index_name level0\" >Fold</th>\n",
              "      <th class=\"blank col0\" >&nbsp;</th>\n",
              "      <th class=\"blank col1\" >&nbsp;</th>\n",
              "      <th class=\"blank col2\" >&nbsp;</th>\n",
              "      <th class=\"blank col3\" >&nbsp;</th>\n",
              "      <th class=\"blank col4\" >&nbsp;</th>\n",
              "      <th class=\"blank col5\" >&nbsp;</th>\n",
              "      <th class=\"blank col6\" >&nbsp;</th>\n",
              "    </tr>\n",
              "  </thead>\n",
              "  <tbody>\n",
              "    <tr>\n",
              "      <th id=\"T_b19b0_level0_row0\" class=\"row_heading level0 row0\" >0</th>\n",
              "      <td id=\"T_b19b0_row0_col0\" class=\"data row0 col0\" >0.3714</td>\n",
              "      <td id=\"T_b19b0_row0_col1\" class=\"data row0 col1\" >0.9233</td>\n",
              "      <td id=\"T_b19b0_row0_col2\" class=\"data row0 col2\" >0.3714</td>\n",
              "      <td id=\"T_b19b0_row0_col3\" class=\"data row0 col3\" >0.3314</td>\n",
              "      <td id=\"T_b19b0_row0_col4\" class=\"data row0 col4\" >0.3359</td>\n",
              "      <td id=\"T_b19b0_row0_col5\" class=\"data row0 col5\" >0.3325</td>\n",
              "      <td id=\"T_b19b0_row0_col6\" class=\"data row0 col6\" >0.3348</td>\n",
              "    </tr>\n",
              "    <tr>\n",
              "      <th id=\"T_b19b0_level0_row1\" class=\"row_heading level0 row1\" >1</th>\n",
              "      <td id=\"T_b19b0_row1_col0\" class=\"data row1 col0\" >0.3486</td>\n",
              "      <td id=\"T_b19b0_row1_col1\" class=\"data row1 col1\" >0.9223</td>\n",
              "      <td id=\"T_b19b0_row1_col2\" class=\"data row1 col2\" >0.3486</td>\n",
              "      <td id=\"T_b19b0_row1_col3\" class=\"data row1 col3\" >0.3166</td>\n",
              "      <td id=\"T_b19b0_row1_col4\" class=\"data row1 col4\" >0.3143</td>\n",
              "      <td id=\"T_b19b0_row1_col5\" class=\"data row1 col5\" >0.3081</td>\n",
              "      <td id=\"T_b19b0_row1_col6\" class=\"data row1 col6\" >0.3103</td>\n",
              "    </tr>\n",
              "    <tr>\n",
              "      <th id=\"T_b19b0_level0_row2\" class=\"row_heading level0 row2\" >2</th>\n",
              "      <td id=\"T_b19b0_row2_col0\" class=\"data row2 col0\" >0.3829</td>\n",
              "      <td id=\"T_b19b0_row2_col1\" class=\"data row2 col1\" >0.9244</td>\n",
              "      <td id=\"T_b19b0_row2_col2\" class=\"data row2 col2\" >0.3829</td>\n",
              "      <td id=\"T_b19b0_row2_col3\" class=\"data row2 col3\" >0.3574</td>\n",
              "      <td id=\"T_b19b0_row2_col4\" class=\"data row2 col4\" >0.3517</td>\n",
              "      <td id=\"T_b19b0_row2_col5\" class=\"data row2 col5\" >0.3450</td>\n",
              "      <td id=\"T_b19b0_row2_col6\" class=\"data row2 col6\" >0.3469</td>\n",
              "    </tr>\n",
              "    <tr>\n",
              "      <th id=\"T_b19b0_level0_row3\" class=\"row_heading level0 row3\" >3</th>\n",
              "      <td id=\"T_b19b0_row3_col0\" class=\"data row3 col0\" >0.3600</td>\n",
              "      <td id=\"T_b19b0_row3_col1\" class=\"data row3 col1\" >0.9242</td>\n",
              "      <td id=\"T_b19b0_row3_col2\" class=\"data row3 col2\" >0.3600</td>\n",
              "      <td id=\"T_b19b0_row3_col3\" class=\"data row3 col3\" >0.3406</td>\n",
              "      <td id=\"T_b19b0_row3_col4\" class=\"data row3 col4\" >0.3305</td>\n",
              "      <td id=\"T_b19b0_row3_col5\" class=\"data row3 col5\" >0.3210</td>\n",
              "      <td id=\"T_b19b0_row3_col6\" class=\"data row3 col6\" >0.3232</td>\n",
              "    </tr>\n",
              "    <tr>\n",
              "      <th id=\"T_b19b0_level0_row4\" class=\"row_heading level0 row4\" >4</th>\n",
              "      <td id=\"T_b19b0_row4_col0\" class=\"data row4 col0\" >0.3714</td>\n",
              "      <td id=\"T_b19b0_row4_col1\" class=\"data row4 col1\" >0.9282</td>\n",
              "      <td id=\"T_b19b0_row4_col2\" class=\"data row4 col2\" >0.3714</td>\n",
              "      <td id=\"T_b19b0_row4_col3\" class=\"data row4 col3\" >0.3652</td>\n",
              "      <td id=\"T_b19b0_row4_col4\" class=\"data row4 col4\" >0.3394</td>\n",
              "      <td id=\"T_b19b0_row4_col5\" class=\"data row4 col5\" >0.3327</td>\n",
              "      <td id=\"T_b19b0_row4_col6\" class=\"data row4 col6\" >0.3352</td>\n",
              "    </tr>\n",
              "    <tr>\n",
              "      <th id=\"T_b19b0_level0_row5\" class=\"row_heading level0 row5\" >5</th>\n",
              "      <td id=\"T_b19b0_row5_col0\" class=\"data row5 col0\" >0.3629</td>\n",
              "      <td id=\"T_b19b0_row5_col1\" class=\"data row5 col1\" >0.9248</td>\n",
              "      <td id=\"T_b19b0_row5_col2\" class=\"data row5 col2\" >0.3629</td>\n",
              "      <td id=\"T_b19b0_row5_col3\" class=\"data row5 col3\" >0.3489</td>\n",
              "      <td id=\"T_b19b0_row5_col4\" class=\"data row5 col4\" >0.3330</td>\n",
              "      <td id=\"T_b19b0_row5_col5\" class=\"data row5 col5\" >0.3235</td>\n",
              "      <td id=\"T_b19b0_row5_col6\" class=\"data row5 col6\" >0.3256</td>\n",
              "    </tr>\n",
              "    <tr>\n",
              "      <th id=\"T_b19b0_level0_row6\" class=\"row_heading level0 row6\" >6</th>\n",
              "      <td id=\"T_b19b0_row6_col0\" class=\"data row6 col0\" >0.3314</td>\n",
              "      <td id=\"T_b19b0_row6_col1\" class=\"data row6 col1\" >0.9222</td>\n",
              "      <td id=\"T_b19b0_row6_col2\" class=\"data row6 col2\" >0.3314</td>\n",
              "      <td id=\"T_b19b0_row6_col3\" class=\"data row6 col3\" >0.3161</td>\n",
              "      <td id=\"T_b19b0_row6_col4\" class=\"data row6 col4\" >0.3059</td>\n",
              "      <td id=\"T_b19b0_row6_col5\" class=\"data row6 col5\" >0.2904</td>\n",
              "      <td id=\"T_b19b0_row6_col6\" class=\"data row6 col6\" >0.2921</td>\n",
              "    </tr>\n",
              "    <tr>\n",
              "      <th id=\"T_b19b0_level0_row7\" class=\"row_heading level0 row7\" >7</th>\n",
              "      <td id=\"T_b19b0_row7_col0\" class=\"data row7 col0\" >0.3700</td>\n",
              "      <td id=\"T_b19b0_row7_col1\" class=\"data row7 col1\" >0.9266</td>\n",
              "      <td id=\"T_b19b0_row7_col2\" class=\"data row7 col2\" >0.3700</td>\n",
              "      <td id=\"T_b19b0_row7_col3\" class=\"data row7 col3\" >0.3556</td>\n",
              "      <td id=\"T_b19b0_row7_col4\" class=\"data row7 col4\" >0.3414</td>\n",
              "      <td id=\"T_b19b0_row7_col5\" class=\"data row7 col5\" >0.3317</td>\n",
              "      <td id=\"T_b19b0_row7_col6\" class=\"data row7 col6\" >0.3337</td>\n",
              "    </tr>\n",
              "    <tr>\n",
              "      <th id=\"T_b19b0_level0_row8\" class=\"row_heading level0 row8\" >8</th>\n",
              "      <td id=\"T_b19b0_row8_col0\" class=\"data row8 col0\" >0.3614</td>\n",
              "      <td id=\"T_b19b0_row8_col1\" class=\"data row8 col1\" >0.9257</td>\n",
              "      <td id=\"T_b19b0_row8_col2\" class=\"data row8 col2\" >0.3614</td>\n",
              "      <td id=\"T_b19b0_row8_col3\" class=\"data row8 col3\" >0.3375</td>\n",
              "      <td id=\"T_b19b0_row8_col4\" class=\"data row8 col4\" >0.3327</td>\n",
              "      <td id=\"T_b19b0_row8_col5\" class=\"data row8 col5\" >0.3225</td>\n",
              "      <td id=\"T_b19b0_row8_col6\" class=\"data row8 col6\" >0.3245</td>\n",
              "    </tr>\n",
              "    <tr>\n",
              "      <th id=\"T_b19b0_level0_row9\" class=\"row_heading level0 row9\" >9</th>\n",
              "      <td id=\"T_b19b0_row9_col0\" class=\"data row9 col0\" >0.3657</td>\n",
              "      <td id=\"T_b19b0_row9_col1\" class=\"data row9 col1\" >0.9273</td>\n",
              "      <td id=\"T_b19b0_row9_col2\" class=\"data row9 col2\" >0.3657</td>\n",
              "      <td id=\"T_b19b0_row9_col3\" class=\"data row9 col3\" >0.3402</td>\n",
              "      <td id=\"T_b19b0_row9_col4\" class=\"data row9 col4\" >0.3379</td>\n",
              "      <td id=\"T_b19b0_row9_col5\" class=\"data row9 col5\" >0.3268</td>\n",
              "      <td id=\"T_b19b0_row9_col6\" class=\"data row9 col6\" >0.3288</td>\n",
              "    </tr>\n",
              "    <tr>\n",
              "      <th id=\"T_b19b0_level0_row10\" class=\"row_heading level0 row10\" >Mean</th>\n",
              "      <td id=\"T_b19b0_row10_col0\" class=\"data row10 col0\" >0.3626</td>\n",
              "      <td id=\"T_b19b0_row10_col1\" class=\"data row10 col1\" >0.9249</td>\n",
              "      <td id=\"T_b19b0_row10_col2\" class=\"data row10 col2\" >0.3626</td>\n",
              "      <td id=\"T_b19b0_row10_col3\" class=\"data row10 col3\" >0.3409</td>\n",
              "      <td id=\"T_b19b0_row10_col4\" class=\"data row10 col4\" >0.3323</td>\n",
              "      <td id=\"T_b19b0_row10_col5\" class=\"data row10 col5\" >0.3234</td>\n",
              "      <td id=\"T_b19b0_row10_col6\" class=\"data row10 col6\" >0.3255</td>\n",
              "    </tr>\n",
              "    <tr>\n",
              "      <th id=\"T_b19b0_level0_row11\" class=\"row_heading level0 row11\" >Std</th>\n",
              "      <td id=\"T_b19b0_row11_col0\" class=\"data row11 col0\" >0.0134</td>\n",
              "      <td id=\"T_b19b0_row11_col1\" class=\"data row11 col1\" >0.0019</td>\n",
              "      <td id=\"T_b19b0_row11_col2\" class=\"data row11 col2\" >0.0134</td>\n",
              "      <td id=\"T_b19b0_row11_col3\" class=\"data row11 col3\" >0.0157</td>\n",
              "      <td id=\"T_b19b0_row11_col4\" class=\"data row11 col4\" >0.0126</td>\n",
              "      <td id=\"T_b19b0_row11_col5\" class=\"data row11 col5\" >0.0143</td>\n",
              "      <td id=\"T_b19b0_row11_col6\" class=\"data row11 col6\" >0.0144</td>\n",
              "    </tr>\n",
              "  </tbody>\n",
              "</table>\n"
            ]
          },
          "metadata": {}
        },
        {
          "output_type": "display_data",
          "data": {
            "text/plain": [
              "Processing:   0%|          | 0/4 [00:00<?, ?it/s]"
            ],
            "application/vnd.jupyter.widget-view+json": {
              "version_major": 2,
              "version_minor": 0,
              "model_id": "f57a61f26a6244f7980bc5007075b4b0"
            }
          },
          "metadata": {
            "application/vnd.jupyter.widget-view+json": {
              "colab": {
                "custom_widget_manager": {
                  "url": "https://ssl.gstatic.com/colaboratory-static/widgets/colab-cdn-widget-manager/b3e629b1971e1542/manager.min.js"
                }
              }
            }
          }
        },
        {
          "output_type": "display_data",
          "data": {
            "text/plain": [
              "<IPython.core.display.HTML object>"
            ],
            "text/html": []
          },
          "metadata": {}
        }
      ]
    },
    {
      "cell_type": "code",
      "source": [
        "tuned_gbc =tune_model(gbc_model, optimize ='Accuracy')"
      ],
      "metadata": {
        "id": "z9tSbz9Y_6Kw",
        "colab": {
          "base_uri": "https://localhost:8080/",
          "height": 475,
          "referenced_widgets": [
            "cf1b89c9f40643b799a1c062bf81aba4",
            "a8c405fef2a24ca280be699fbca50182",
            "f463270c9ae74276a54fcaacccc89f80",
            "ddc0f6a7e4fe489a9da5227c171ff3fa",
            "b27bc10d9d6a4c16881c508a2c64b3b4",
            "013f8937f2e249cda59ac8cec0654639",
            "ff460a2d59f845c2b87bc09d3cf7c9bb",
            "6d7aacba165c4bb0b1e128e99c60d00d",
            "455bd80fc8d14b19b634c048b7b479ad",
            "7097c129096f427497719abfe939886e",
            "25bc1d6b28ea4521b92aee8168f269dc"
          ]
        },
        "outputId": "162cdde9-b591-4dae-9f22-8375d4bfb174"
      },
      "execution_count": null,
      "outputs": [
        {
          "output_type": "display_data",
          "data": {
            "text/plain": [
              "<IPython.core.display.HTML object>"
            ],
            "text/html": []
          },
          "metadata": {}
        },
        {
          "output_type": "display_data",
          "data": {
            "text/plain": [
              "<pandas.io.formats.style.Styler at 0x7bbe7fb04880>"
            ],
            "text/html": [
              "<style type=\"text/css\">\n",
              "#T_f7709_row10_col0, #T_f7709_row10_col1, #T_f7709_row10_col2, #T_f7709_row10_col3, #T_f7709_row10_col4, #T_f7709_row10_col5, #T_f7709_row10_col6 {\n",
              "  background: yellow;\n",
              "}\n",
              "</style>\n",
              "<table id=\"T_f7709\" class=\"dataframe\">\n",
              "  <thead>\n",
              "    <tr>\n",
              "      <th class=\"blank level0\" >&nbsp;</th>\n",
              "      <th id=\"T_f7709_level0_col0\" class=\"col_heading level0 col0\" >Accuracy</th>\n",
              "      <th id=\"T_f7709_level0_col1\" class=\"col_heading level0 col1\" >AUC</th>\n",
              "      <th id=\"T_f7709_level0_col2\" class=\"col_heading level0 col2\" >Recall</th>\n",
              "      <th id=\"T_f7709_level0_col3\" class=\"col_heading level0 col3\" >Prec.</th>\n",
              "      <th id=\"T_f7709_level0_col4\" class=\"col_heading level0 col4\" >F1</th>\n",
              "      <th id=\"T_f7709_level0_col5\" class=\"col_heading level0 col5\" >Kappa</th>\n",
              "      <th id=\"T_f7709_level0_col6\" class=\"col_heading level0 col6\" >MCC</th>\n",
              "    </tr>\n",
              "    <tr>\n",
              "      <th class=\"index_name level0\" >Fold</th>\n",
              "      <th class=\"blank col0\" >&nbsp;</th>\n",
              "      <th class=\"blank col1\" >&nbsp;</th>\n",
              "      <th class=\"blank col2\" >&nbsp;</th>\n",
              "      <th class=\"blank col3\" >&nbsp;</th>\n",
              "      <th class=\"blank col4\" >&nbsp;</th>\n",
              "      <th class=\"blank col5\" >&nbsp;</th>\n",
              "      <th class=\"blank col6\" >&nbsp;</th>\n",
              "    </tr>\n",
              "  </thead>\n",
              "  <tbody>\n",
              "    <tr>\n",
              "      <th id=\"T_f7709_level0_row0\" class=\"row_heading level0 row0\" >0</th>\n",
              "      <td id=\"T_f7709_row0_col0\" class=\"data row0 col0\" >0.3871</td>\n",
              "      <td id=\"T_f7709_row0_col1\" class=\"data row0 col1\" >0.9266</td>\n",
              "      <td id=\"T_f7709_row0_col2\" class=\"data row0 col2\" >0.3871</td>\n",
              "      <td id=\"T_f7709_row0_col3\" class=\"data row0 col3\" >0.3398</td>\n",
              "      <td id=\"T_f7709_row0_col4\" class=\"data row0 col4\" >0.3468</td>\n",
              "      <td id=\"T_f7709_row0_col5\" class=\"data row0 col5\" >0.3489</td>\n",
              "      <td id=\"T_f7709_row0_col6\" class=\"data row0 col6\" >0.3521</td>\n",
              "    </tr>\n",
              "    <tr>\n",
              "      <th id=\"T_f7709_level0_row1\" class=\"row_heading level0 row1\" >1</th>\n",
              "      <td id=\"T_f7709_row1_col0\" class=\"data row1 col0\" >0.3486</td>\n",
              "      <td id=\"T_f7709_row1_col1\" class=\"data row1 col1\" >0.9230</td>\n",
              "      <td id=\"T_f7709_row1_col2\" class=\"data row1 col2\" >0.3486</td>\n",
              "      <td id=\"T_f7709_row1_col3\" class=\"data row1 col3\" >0.3238</td>\n",
              "      <td id=\"T_f7709_row1_col4\" class=\"data row1 col4\" >0.3114</td>\n",
              "      <td id=\"T_f7709_row1_col5\" class=\"data row1 col5\" >0.3081</td>\n",
              "      <td id=\"T_f7709_row1_col6\" class=\"data row1 col6\" >0.3107</td>\n",
              "    </tr>\n",
              "    <tr>\n",
              "      <th id=\"T_f7709_level0_row2\" class=\"row_heading level0 row2\" >2</th>\n",
              "      <td id=\"T_f7709_row2_col0\" class=\"data row2 col0\" >0.3800</td>\n",
              "      <td id=\"T_f7709_row2_col1\" class=\"data row2 col1\" >0.9242</td>\n",
              "      <td id=\"T_f7709_row2_col2\" class=\"data row2 col2\" >0.3800</td>\n",
              "      <td id=\"T_f7709_row2_col3\" class=\"data row2 col3\" >0.3438</td>\n",
              "      <td id=\"T_f7709_row2_col4\" class=\"data row2 col4\" >0.3405</td>\n",
              "      <td id=\"T_f7709_row2_col5\" class=\"data row2 col5\" >0.3413</td>\n",
              "      <td id=\"T_f7709_row2_col6\" class=\"data row2 col6\" >0.3439</td>\n",
              "    </tr>\n",
              "    <tr>\n",
              "      <th id=\"T_f7709_level0_row3\" class=\"row_heading level0 row3\" >3</th>\n",
              "      <td id=\"T_f7709_row3_col0\" class=\"data row3 col0\" >0.3600</td>\n",
              "      <td id=\"T_f7709_row3_col1\" class=\"data row3 col1\" >0.9272</td>\n",
              "      <td id=\"T_f7709_row3_col2\" class=\"data row3 col2\" >0.3600</td>\n",
              "      <td id=\"T_f7709_row3_col3\" class=\"data row3 col3\" >0.3266</td>\n",
              "      <td id=\"T_f7709_row3_col4\" class=\"data row3 col4\" >0.3241</td>\n",
              "      <td id=\"T_f7709_row3_col5\" class=\"data row3 col5\" >0.3204</td>\n",
              "      <td id=\"T_f7709_row3_col6\" class=\"data row3 col6\" >0.3232</td>\n",
              "    </tr>\n",
              "    <tr>\n",
              "      <th id=\"T_f7709_level0_row4\" class=\"row_heading level0 row4\" >4</th>\n",
              "      <td id=\"T_f7709_row4_col0\" class=\"data row4 col0\" >0.3571</td>\n",
              "      <td id=\"T_f7709_row4_col1\" class=\"data row4 col1\" >0.9248</td>\n",
              "      <td id=\"T_f7709_row4_col2\" class=\"data row4 col2\" >0.3571</td>\n",
              "      <td id=\"T_f7709_row4_col3\" class=\"data row4 col3\" >0.3263</td>\n",
              "      <td id=\"T_f7709_row4_col4\" class=\"data row4 col4\" >0.3119</td>\n",
              "      <td id=\"T_f7709_row4_col5\" class=\"data row4 col5\" >0.3163</td>\n",
              "      <td id=\"T_f7709_row4_col6\" class=\"data row4 col6\" >0.3198</td>\n",
              "    </tr>\n",
              "    <tr>\n",
              "      <th id=\"T_f7709_level0_row5\" class=\"row_heading level0 row5\" >5</th>\n",
              "      <td id=\"T_f7709_row5_col0\" class=\"data row5 col0\" >0.3771</td>\n",
              "      <td id=\"T_f7709_row5_col1\" class=\"data row5 col1\" >0.9257</td>\n",
              "      <td id=\"T_f7709_row5_col2\" class=\"data row5 col2\" >0.3771</td>\n",
              "      <td id=\"T_f7709_row5_col3\" class=\"data row5 col3\" >0.3462</td>\n",
              "      <td id=\"T_f7709_row5_col4\" class=\"data row5 col4\" >0.3356</td>\n",
              "      <td id=\"T_f7709_row5_col5\" class=\"data row5 col5\" >0.3381</td>\n",
              "      <td id=\"T_f7709_row5_col6\" class=\"data row5 col6\" >0.3415</td>\n",
              "    </tr>\n",
              "    <tr>\n",
              "      <th id=\"T_f7709_level0_row6\" class=\"row_heading level0 row6\" >6</th>\n",
              "      <td id=\"T_f7709_row6_col0\" class=\"data row6 col0\" >0.3386</td>\n",
              "      <td id=\"T_f7709_row6_col1\" class=\"data row6 col1\" >0.9219</td>\n",
              "      <td id=\"T_f7709_row6_col2\" class=\"data row6 col2\" >0.3386</td>\n",
              "      <td id=\"T_f7709_row6_col3\" class=\"data row6 col3\" >0.3148</td>\n",
              "      <td id=\"T_f7709_row6_col4\" class=\"data row6 col4\" >0.3089</td>\n",
              "      <td id=\"T_f7709_row6_col5\" class=\"data row6 col5\" >0.2979</td>\n",
              "      <td id=\"T_f7709_row6_col6\" class=\"data row6 col6\" >0.2998</td>\n",
              "    </tr>\n",
              "    <tr>\n",
              "      <th id=\"T_f7709_level0_row7\" class=\"row_heading level0 row7\" >7</th>\n",
              "      <td id=\"T_f7709_row7_col0\" class=\"data row7 col0\" >0.3571</td>\n",
              "      <td id=\"T_f7709_row7_col1\" class=\"data row7 col1\" >0.9255</td>\n",
              "      <td id=\"T_f7709_row7_col2\" class=\"data row7 col2\" >0.3571</td>\n",
              "      <td id=\"T_f7709_row7_col3\" class=\"data row7 col3\" >0.3401</td>\n",
              "      <td id=\"T_f7709_row7_col4\" class=\"data row7 col4\" >0.3258</td>\n",
              "      <td id=\"T_f7709_row7_col5\" class=\"data row7 col5\" >0.3179</td>\n",
              "      <td id=\"T_f7709_row7_col6\" class=\"data row7 col6\" >0.3199</td>\n",
              "    </tr>\n",
              "    <tr>\n",
              "      <th id=\"T_f7709_level0_row8\" class=\"row_heading level0 row8\" >8</th>\n",
              "      <td id=\"T_f7709_row8_col0\" class=\"data row8 col0\" >0.3657</td>\n",
              "      <td id=\"T_f7709_row8_col1\" class=\"data row8 col1\" >0.9262</td>\n",
              "      <td id=\"T_f7709_row8_col2\" class=\"data row8 col2\" >0.3657</td>\n",
              "      <td id=\"T_f7709_row8_col3\" class=\"data row8 col3\" >0.3418</td>\n",
              "      <td id=\"T_f7709_row8_col4\" class=\"data row8 col4\" >0.3309</td>\n",
              "      <td id=\"T_f7709_row8_col5\" class=\"data row8 col5\" >0.3265</td>\n",
              "      <td id=\"T_f7709_row8_col6\" class=\"data row8 col6\" >0.3293</td>\n",
              "    </tr>\n",
              "    <tr>\n",
              "      <th id=\"T_f7709_level0_row9\" class=\"row_heading level0 row9\" >9</th>\n",
              "      <td id=\"T_f7709_row9_col0\" class=\"data row9 col0\" >0.3786</td>\n",
              "      <td id=\"T_f7709_row9_col1\" class=\"data row9 col1\" >0.9272</td>\n",
              "      <td id=\"T_f7709_row9_col2\" class=\"data row9 col2\" >0.3786</td>\n",
              "      <td id=\"T_f7709_row9_col3\" class=\"data row9 col3\" >0.3494</td>\n",
              "      <td id=\"T_f7709_row9_col4\" class=\"data row9 col4\" >0.3476</td>\n",
              "      <td id=\"T_f7709_row9_col5\" class=\"data row9 col5\" >0.3401</td>\n",
              "      <td id=\"T_f7709_row9_col6\" class=\"data row9 col6\" >0.3426</td>\n",
              "    </tr>\n",
              "    <tr>\n",
              "      <th id=\"T_f7709_level0_row10\" class=\"row_heading level0 row10\" >Mean</th>\n",
              "      <td id=\"T_f7709_row10_col0\" class=\"data row10 col0\" >0.3650</td>\n",
              "      <td id=\"T_f7709_row10_col1\" class=\"data row10 col1\" >0.9252</td>\n",
              "      <td id=\"T_f7709_row10_col2\" class=\"data row10 col2\" >0.3650</td>\n",
              "      <td id=\"T_f7709_row10_col3\" class=\"data row10 col3\" >0.3353</td>\n",
              "      <td id=\"T_f7709_row10_col4\" class=\"data row10 col4\" >0.3283</td>\n",
              "      <td id=\"T_f7709_row10_col5\" class=\"data row10 col5\" >0.3256</td>\n",
              "      <td id=\"T_f7709_row10_col6\" class=\"data row10 col6\" >0.3283</td>\n",
              "    </tr>\n",
              "    <tr>\n",
              "      <th id=\"T_f7709_level0_row11\" class=\"row_heading level0 row11\" >Std</th>\n",
              "      <td id=\"T_f7709_row11_col0\" class=\"data row11 col0\" >0.0147</td>\n",
              "      <td id=\"T_f7709_row11_col1\" class=\"data row11 col1\" >0.0017</td>\n",
              "      <td id=\"T_f7709_row11_col2\" class=\"data row11 col2\" >0.0147</td>\n",
              "      <td id=\"T_f7709_row11_col3\" class=\"data row11 col3\" >0.0109</td>\n",
              "      <td id=\"T_f7709_row11_col4\" class=\"data row11 col4\" >0.0137</td>\n",
              "      <td id=\"T_f7709_row11_col5\" class=\"data row11 col5\" >0.0155</td>\n",
              "      <td id=\"T_f7709_row11_col6\" class=\"data row11 col6\" >0.0157</td>\n",
              "    </tr>\n",
              "  </tbody>\n",
              "</table>\n"
            ]
          },
          "metadata": {}
        },
        {
          "output_type": "display_data",
          "data": {
            "text/plain": [
              "Processing:   0%|          | 0/7 [00:00<?, ?it/s]"
            ],
            "application/vnd.jupyter.widget-view+json": {
              "version_major": 2,
              "version_minor": 0,
              "model_id": "cf1b89c9f40643b799a1c062bf81aba4"
            }
          },
          "metadata": {
            "application/vnd.jupyter.widget-view+json": {
              "colab": {
                "custom_widget_manager": {
                  "url": "https://ssl.gstatic.com/colaboratory-static/widgets/colab-cdn-widget-manager/b3e629b1971e1542/manager.min.js"
                }
              }
            }
          }
        },
        {
          "output_type": "stream",
          "name": "stdout",
          "text": [
            "Fitting 10 folds for each of 10 candidates, totalling 100 fits\n"
          ]
        },
        {
          "output_type": "display_data",
          "data": {
            "text/plain": [
              "<IPython.core.display.HTML object>"
            ],
            "text/html": []
          },
          "metadata": {}
        }
      ]
    },
    {
      "cell_type": "code",
      "execution_count": null,
      "metadata": {
        "colab": {
          "base_uri": "https://localhost:8080/",
          "height": 457,
          "referenced_widgets": [
            "5006256689da4a0080c6391c38be72bb",
            "506306cc57a442e5a02ccc3fcb3200df",
            "0c847d42cf964c3cb3e12b7f9b6d4e7b",
            "020df827a4ae41c39de3b0318fb9085c",
            "7c7c928f1cad4a25a59d80b93be790b2",
            "18f0f64a80dd4463a10aec41013a5af3",
            "85573a5012b04f889e0a8be8d98ae0c2",
            "1354fef5f4bb40f48340575665504826",
            "5188fca6caa843129b49552e29cda481",
            "5b65c0e8ec66435796d0ee5da710dcf9",
            "36d7c20c8bd945ec91aa4b0180e827d9"
          ]
        },
        "id": "HuHYBXro7gaL",
        "outputId": "2a821ad4-832f-44e8-d076-62b4a34286e2"
      },
      "outputs": [
        {
          "output_type": "display_data",
          "data": {
            "text/plain": [
              "<IPython.core.display.HTML object>"
            ],
            "text/html": []
          },
          "metadata": {}
        },
        {
          "output_type": "display_data",
          "data": {
            "text/plain": [
              "<pandas.io.formats.style.Styler at 0x7bbe7fb04eb0>"
            ],
            "text/html": [
              "<style type=\"text/css\">\n",
              "#T_6fade_row10_col0, #T_6fade_row10_col1, #T_6fade_row10_col2, #T_6fade_row10_col3, #T_6fade_row10_col4, #T_6fade_row10_col5, #T_6fade_row10_col6 {\n",
              "  background: yellow;\n",
              "}\n",
              "</style>\n",
              "<table id=\"T_6fade\" class=\"dataframe\">\n",
              "  <thead>\n",
              "    <tr>\n",
              "      <th class=\"blank level0\" >&nbsp;</th>\n",
              "      <th id=\"T_6fade_level0_col0\" class=\"col_heading level0 col0\" >Accuracy</th>\n",
              "      <th id=\"T_6fade_level0_col1\" class=\"col_heading level0 col1\" >AUC</th>\n",
              "      <th id=\"T_6fade_level0_col2\" class=\"col_heading level0 col2\" >Recall</th>\n",
              "      <th id=\"T_6fade_level0_col3\" class=\"col_heading level0 col3\" >Prec.</th>\n",
              "      <th id=\"T_6fade_level0_col4\" class=\"col_heading level0 col4\" >F1</th>\n",
              "      <th id=\"T_6fade_level0_col5\" class=\"col_heading level0 col5\" >Kappa</th>\n",
              "      <th id=\"T_6fade_level0_col6\" class=\"col_heading level0 col6\" >MCC</th>\n",
              "    </tr>\n",
              "    <tr>\n",
              "      <th class=\"index_name level0\" >Fold</th>\n",
              "      <th class=\"blank col0\" >&nbsp;</th>\n",
              "      <th class=\"blank col1\" >&nbsp;</th>\n",
              "      <th class=\"blank col2\" >&nbsp;</th>\n",
              "      <th class=\"blank col3\" >&nbsp;</th>\n",
              "      <th class=\"blank col4\" >&nbsp;</th>\n",
              "      <th class=\"blank col5\" >&nbsp;</th>\n",
              "      <th class=\"blank col6\" >&nbsp;</th>\n",
              "    </tr>\n",
              "  </thead>\n",
              "  <tbody>\n",
              "    <tr>\n",
              "      <th id=\"T_6fade_level0_row0\" class=\"row_heading level0 row0\" >0</th>\n",
              "      <td id=\"T_6fade_row0_col0\" class=\"data row0 col0\" >0.3443</td>\n",
              "      <td id=\"T_6fade_row0_col1\" class=\"data row0 col1\" >0.9215</td>\n",
              "      <td id=\"T_6fade_row0_col2\" class=\"data row0 col2\" >0.3443</td>\n",
              "      <td id=\"T_6fade_row0_col3\" class=\"data row0 col3\" >0.3350</td>\n",
              "      <td id=\"T_6fade_row0_col4\" class=\"data row0 col4\" >0.3225</td>\n",
              "      <td id=\"T_6fade_row0_col5\" class=\"data row0 col5\" >0.3045</td>\n",
              "      <td id=\"T_6fade_row0_col6\" class=\"data row0 col6\" >0.3059</td>\n",
              "    </tr>\n",
              "    <tr>\n",
              "      <th id=\"T_6fade_level0_row1\" class=\"row_heading level0 row1\" >1</th>\n",
              "      <td id=\"T_6fade_row1_col0\" class=\"data row1 col0\" >0.3329</td>\n",
              "      <td id=\"T_6fade_row1_col1\" class=\"data row1 col1\" >0.9205</td>\n",
              "      <td id=\"T_6fade_row1_col2\" class=\"data row1 col2\" >0.3329</td>\n",
              "      <td id=\"T_6fade_row1_col3\" class=\"data row1 col3\" >0.3089</td>\n",
              "      <td id=\"T_6fade_row1_col4\" class=\"data row1 col4\" >0.3117</td>\n",
              "      <td id=\"T_6fade_row1_col5\" class=\"data row1 col5\" >0.2931</td>\n",
              "      <td id=\"T_6fade_row1_col6\" class=\"data row1 col6\" >0.2941</td>\n",
              "    </tr>\n",
              "    <tr>\n",
              "      <th id=\"T_6fade_level0_row2\" class=\"row_heading level0 row2\" >2</th>\n",
              "      <td id=\"T_6fade_row2_col0\" class=\"data row2 col0\" >0.3557</td>\n",
              "      <td id=\"T_6fade_row2_col1\" class=\"data row2 col1\" >0.9233</td>\n",
              "      <td id=\"T_6fade_row2_col2\" class=\"data row2 col2\" >0.3557</td>\n",
              "      <td id=\"T_6fade_row2_col3\" class=\"data row2 col3\" >0.3334</td>\n",
              "      <td id=\"T_6fade_row2_col4\" class=\"data row2 col4\" >0.3308</td>\n",
              "      <td id=\"T_6fade_row2_col5\" class=\"data row2 col5\" >0.3165</td>\n",
              "      <td id=\"T_6fade_row2_col6\" class=\"data row2 col6\" >0.3178</td>\n",
              "    </tr>\n",
              "    <tr>\n",
              "      <th id=\"T_6fade_level0_row3\" class=\"row_heading level0 row3\" >3</th>\n",
              "      <td id=\"T_6fade_row3_col0\" class=\"data row3 col0\" >0.3457</td>\n",
              "      <td id=\"T_6fade_row3_col1\" class=\"data row3 col1\" >0.9216</td>\n",
              "      <td id=\"T_6fade_row3_col2\" class=\"data row3 col2\" >0.3457</td>\n",
              "      <td id=\"T_6fade_row3_col3\" class=\"data row3 col3\" >0.3229</td>\n",
              "      <td id=\"T_6fade_row3_col4\" class=\"data row3 col4\" >0.3226</td>\n",
              "      <td id=\"T_6fade_row3_col5\" class=\"data row3 col5\" >0.3062</td>\n",
              "      <td id=\"T_6fade_row3_col6\" class=\"data row3 col6\" >0.3074</td>\n",
              "    </tr>\n",
              "    <tr>\n",
              "      <th id=\"T_6fade_level0_row4\" class=\"row_heading level0 row4\" >4</th>\n",
              "      <td id=\"T_6fade_row4_col0\" class=\"data row4 col0\" >0.3471</td>\n",
              "      <td id=\"T_6fade_row4_col1\" class=\"data row4 col1\" >0.9274</td>\n",
              "      <td id=\"T_6fade_row4_col2\" class=\"data row4 col2\" >0.3471</td>\n",
              "      <td id=\"T_6fade_row4_col3\" class=\"data row4 col3\" >0.3317</td>\n",
              "      <td id=\"T_6fade_row4_col4\" class=\"data row4 col4\" >0.3201</td>\n",
              "      <td id=\"T_6fade_row4_col5\" class=\"data row4 col5\" >0.3071</td>\n",
              "      <td id=\"T_6fade_row4_col6\" class=\"data row4 col6\" >0.3087</td>\n",
              "    </tr>\n",
              "    <tr>\n",
              "      <th id=\"T_6fade_level0_row5\" class=\"row_heading level0 row5\" >5</th>\n",
              "      <td id=\"T_6fade_row5_col0\" class=\"data row5 col0\" >0.3657</td>\n",
              "      <td id=\"T_6fade_row5_col1\" class=\"data row5 col1\" >0.9219</td>\n",
              "      <td id=\"T_6fade_row5_col2\" class=\"data row5 col2\" >0.3657</td>\n",
              "      <td id=\"T_6fade_row5_col3\" class=\"data row5 col3\" >0.3517</td>\n",
              "      <td id=\"T_6fade_row5_col4\" class=\"data row5 col4\" >0.3423</td>\n",
              "      <td id=\"T_6fade_row5_col5\" class=\"data row5 col5\" >0.3274</td>\n",
              "      <td id=\"T_6fade_row5_col6\" class=\"data row5 col6\" >0.3291</td>\n",
              "    </tr>\n",
              "    <tr>\n",
              "      <th id=\"T_6fade_level0_row6\" class=\"row_heading level0 row6\" >6</th>\n",
              "      <td id=\"T_6fade_row6_col0\" class=\"data row6 col0\" >0.3157</td>\n",
              "      <td id=\"T_6fade_row6_col1\" class=\"data row6 col1\" >0.9159</td>\n",
              "      <td id=\"T_6fade_row6_col2\" class=\"data row6 col2\" >0.3157</td>\n",
              "      <td id=\"T_6fade_row6_col3\" class=\"data row6 col3\" >0.2901</td>\n",
              "      <td id=\"T_6fade_row6_col4\" class=\"data row6 col4\" >0.2955</td>\n",
              "      <td id=\"T_6fade_row6_col5\" class=\"data row6 col5\" >0.2752</td>\n",
              "      <td id=\"T_6fade_row6_col6\" class=\"data row6 col6\" >0.2759</td>\n",
              "    </tr>\n",
              "    <tr>\n",
              "      <th id=\"T_6fade_level0_row7\" class=\"row_heading level0 row7\" >7</th>\n",
              "      <td id=\"T_6fade_row7_col0\" class=\"data row7 col0\" >0.3600</td>\n",
              "      <td id=\"T_6fade_row7_col1\" class=\"data row7 col1\" >0.9232</td>\n",
              "      <td id=\"T_6fade_row7_col2\" class=\"data row7 col2\" >0.3600</td>\n",
              "      <td id=\"T_6fade_row7_col3\" class=\"data row7 col3\" >0.3592</td>\n",
              "      <td id=\"T_6fade_row7_col4\" class=\"data row7 col4\" >0.3426</td>\n",
              "      <td id=\"T_6fade_row7_col5\" class=\"data row7 col5\" >0.3219</td>\n",
              "      <td id=\"T_6fade_row7_col6\" class=\"data row7 col6\" >0.3230</td>\n",
              "    </tr>\n",
              "    <tr>\n",
              "      <th id=\"T_6fade_level0_row8\" class=\"row_heading level0 row8\" >8</th>\n",
              "      <td id=\"T_6fade_row8_col0\" class=\"data row8 col0\" >0.3286</td>\n",
              "      <td id=\"T_6fade_row8_col1\" class=\"data row8 col1\" >0.9207</td>\n",
              "      <td id=\"T_6fade_row8_col2\" class=\"data row8 col2\" >0.3286</td>\n",
              "      <td id=\"T_6fade_row8_col3\" class=\"data row8 col3\" >0.3060</td>\n",
              "      <td id=\"T_6fade_row8_col4\" class=\"data row8 col4\" >0.3053</td>\n",
              "      <td id=\"T_6fade_row8_col5\" class=\"data row8 col5\" >0.2887</td>\n",
              "      <td id=\"T_6fade_row8_col6\" class=\"data row8 col6\" >0.2898</td>\n",
              "    </tr>\n",
              "    <tr>\n",
              "      <th id=\"T_6fade_level0_row9\" class=\"row_heading level0 row9\" >9</th>\n",
              "      <td id=\"T_6fade_row9_col0\" class=\"data row9 col0\" >0.3543</td>\n",
              "      <td id=\"T_6fade_row9_col1\" class=\"data row9 col1\" >0.9238</td>\n",
              "      <td id=\"T_6fade_row9_col2\" class=\"data row9 col2\" >0.3543</td>\n",
              "      <td id=\"T_6fade_row9_col3\" class=\"data row9 col3\" >0.3362</td>\n",
              "      <td id=\"T_6fade_row9_col4\" class=\"data row9 col4\" >0.3376</td>\n",
              "      <td id=\"T_6fade_row9_col5\" class=\"data row9 col5\" >0.3164</td>\n",
              "      <td id=\"T_6fade_row9_col6\" class=\"data row9 col6\" >0.3172</td>\n",
              "    </tr>\n",
              "    <tr>\n",
              "      <th id=\"T_6fade_level0_row10\" class=\"row_heading level0 row10\" >Mean</th>\n",
              "      <td id=\"T_6fade_row10_col0\" class=\"data row10 col0\" >0.3450</td>\n",
              "      <td id=\"T_6fade_row10_col1\" class=\"data row10 col1\" >0.9220</td>\n",
              "      <td id=\"T_6fade_row10_col2\" class=\"data row10 col2\" >0.3450</td>\n",
              "      <td id=\"T_6fade_row10_col3\" class=\"data row10 col3\" >0.3275</td>\n",
              "      <td id=\"T_6fade_row10_col4\" class=\"data row10 col4\" >0.3231</td>\n",
              "      <td id=\"T_6fade_row10_col5\" class=\"data row10 col5\" >0.3057</td>\n",
              "      <td id=\"T_6fade_row10_col6\" class=\"data row10 col6\" >0.3069</td>\n",
              "    </tr>\n",
              "    <tr>\n",
              "      <th id=\"T_6fade_level0_row11\" class=\"row_heading level0 row11\" >Std</th>\n",
              "      <td id=\"T_6fade_row11_col0\" class=\"data row11 col0\" >0.0146</td>\n",
              "      <td id=\"T_6fade_row11_col1\" class=\"data row11 col1\" >0.0028</td>\n",
              "      <td id=\"T_6fade_row11_col2\" class=\"data row11 col2\" >0.0146</td>\n",
              "      <td id=\"T_6fade_row11_col3\" class=\"data row11 col3\" >0.0200</td>\n",
              "      <td id=\"T_6fade_row11_col4\" class=\"data row11 col4\" >0.0149</td>\n",
              "      <td id=\"T_6fade_row11_col5\" class=\"data row11 col5\" >0.0153</td>\n",
              "      <td id=\"T_6fade_row11_col6\" class=\"data row11 col6\" >0.0155</td>\n",
              "    </tr>\n",
              "  </tbody>\n",
              "</table>\n"
            ]
          },
          "metadata": {}
        },
        {
          "output_type": "display_data",
          "data": {
            "text/plain": [
              "Processing:   0%|          | 0/4 [00:00<?, ?it/s]"
            ],
            "application/vnd.jupyter.widget-view+json": {
              "version_major": 2,
              "version_minor": 0,
              "model_id": "5006256689da4a0080c6391c38be72bb"
            }
          },
          "metadata": {
            "application/vnd.jupyter.widget-view+json": {
              "colab": {
                "custom_widget_manager": {
                  "url": "https://ssl.gstatic.com/colaboratory-static/widgets/colab-cdn-widget-manager/b3e629b1971e1542/manager.min.js"
                }
              }
            }
          }
        },
        {
          "output_type": "display_data",
          "data": {
            "text/plain": [
              "<IPython.core.display.HTML object>"
            ],
            "text/html": []
          },
          "metadata": {}
        }
      ],
      "source": [
        "rf_model=create_model('rf')"
      ]
    },
    {
      "cell_type": "code",
      "execution_count": null,
      "metadata": {
        "colab": {
          "base_uri": "https://localhost:8080/",
          "height": 492,
          "referenced_widgets": [
            "fd3efae3877344a2b0b52ef1aa8b51e0",
            "f909e132c35b471787bb454c982108d5",
            "4490359d8f304529b5681cb7b98a32a7",
            "b2b1b6e2e75b40c994d13aa6ed9e0539",
            "c64a6b0807d349a1aa770aa74c5dce94",
            "048815bdfdb24da796c39d337241fb57",
            "0096a8a7f5fa494fa140f9630c1415f4",
            "aab5a471025341ae8db1b944f499acd0",
            "130a57423bcd4fd2b924dce3dd10d0b3",
            "b4f0a151f5d24c55bd122d2c226fb0b6",
            "8c5f6e90f37141519df54fede347d6a4"
          ]
        },
        "id": "PmEqlTFL7lEV",
        "outputId": "5ea080b6-d5a6-4b5d-9a0d-64331e4f0f7a"
      },
      "outputs": [
        {
          "output_type": "display_data",
          "data": {
            "text/plain": [
              "<IPython.core.display.HTML object>"
            ],
            "text/html": []
          },
          "metadata": {}
        },
        {
          "output_type": "display_data",
          "data": {
            "text/plain": [
              "<pandas.io.formats.style.Styler at 0x7bbe80a8c7f0>"
            ],
            "text/html": [
              "<style type=\"text/css\">\n",
              "#T_e8191_row10_col0, #T_e8191_row10_col1, #T_e8191_row10_col2, #T_e8191_row10_col3, #T_e8191_row10_col4, #T_e8191_row10_col5, #T_e8191_row10_col6 {\n",
              "  background: yellow;\n",
              "}\n",
              "</style>\n",
              "<table id=\"T_e8191\" class=\"dataframe\">\n",
              "  <thead>\n",
              "    <tr>\n",
              "      <th class=\"blank level0\" >&nbsp;</th>\n",
              "      <th id=\"T_e8191_level0_col0\" class=\"col_heading level0 col0\" >Accuracy</th>\n",
              "      <th id=\"T_e8191_level0_col1\" class=\"col_heading level0 col1\" >AUC</th>\n",
              "      <th id=\"T_e8191_level0_col2\" class=\"col_heading level0 col2\" >Recall</th>\n",
              "      <th id=\"T_e8191_level0_col3\" class=\"col_heading level0 col3\" >Prec.</th>\n",
              "      <th id=\"T_e8191_level0_col4\" class=\"col_heading level0 col4\" >F1</th>\n",
              "      <th id=\"T_e8191_level0_col5\" class=\"col_heading level0 col5\" >Kappa</th>\n",
              "      <th id=\"T_e8191_level0_col6\" class=\"col_heading level0 col6\" >MCC</th>\n",
              "    </tr>\n",
              "    <tr>\n",
              "      <th class=\"index_name level0\" >Fold</th>\n",
              "      <th class=\"blank col0\" >&nbsp;</th>\n",
              "      <th class=\"blank col1\" >&nbsp;</th>\n",
              "      <th class=\"blank col2\" >&nbsp;</th>\n",
              "      <th class=\"blank col3\" >&nbsp;</th>\n",
              "      <th class=\"blank col4\" >&nbsp;</th>\n",
              "      <th class=\"blank col5\" >&nbsp;</th>\n",
              "      <th class=\"blank col6\" >&nbsp;</th>\n",
              "    </tr>\n",
              "  </thead>\n",
              "  <tbody>\n",
              "    <tr>\n",
              "      <th id=\"T_e8191_level0_row0\" class=\"row_heading level0 row0\" >0</th>\n",
              "      <td id=\"T_e8191_row0_col0\" class=\"data row0 col0\" >0.3357</td>\n",
              "      <td id=\"T_e8191_row0_col1\" class=\"data row0 col1\" >0.9226</td>\n",
              "      <td id=\"T_e8191_row0_col2\" class=\"data row0 col2\" >0.3357</td>\n",
              "      <td id=\"T_e8191_row0_col3\" class=\"data row0 col3\" >0.1636</td>\n",
              "      <td id=\"T_e8191_row0_col4\" class=\"data row0 col4\" >0.2022</td>\n",
              "      <td id=\"T_e8191_row0_col5\" class=\"data row0 col5\" >0.2884</td>\n",
              "      <td id=\"T_e8191_row0_col6\" class=\"data row0 col6\" >0.3088</td>\n",
              "    </tr>\n",
              "    <tr>\n",
              "      <th id=\"T_e8191_level0_row1\" class=\"row_heading level0 row1\" >1</th>\n",
              "      <td id=\"T_e8191_row1_col0\" class=\"data row1 col0\" >0.3486</td>\n",
              "      <td id=\"T_e8191_row1_col1\" class=\"data row1 col1\" >0.9192</td>\n",
              "      <td id=\"T_e8191_row1_col2\" class=\"data row1 col2\" >0.3486</td>\n",
              "      <td id=\"T_e8191_row1_col3\" class=\"data row1 col3\" >0.2000</td>\n",
              "      <td id=\"T_e8191_row1_col4\" class=\"data row1 col4\" >0.2178</td>\n",
              "      <td id=\"T_e8191_row1_col5\" class=\"data row1 col5\" >0.3026</td>\n",
              "      <td id=\"T_e8191_row1_col6\" class=\"data row1 col6\" >0.3218</td>\n",
              "    </tr>\n",
              "    <tr>\n",
              "      <th id=\"T_e8191_level0_row2\" class=\"row_heading level0 row2\" >2</th>\n",
              "      <td id=\"T_e8191_row2_col0\" class=\"data row2 col0\" >0.3514</td>\n",
              "      <td id=\"T_e8191_row2_col1\" class=\"data row2 col1\" >0.9194</td>\n",
              "      <td id=\"T_e8191_row2_col2\" class=\"data row2 col2\" >0.3514</td>\n",
              "      <td id=\"T_e8191_row2_col3\" class=\"data row2 col3\" >0.1695</td>\n",
              "      <td id=\"T_e8191_row2_col4\" class=\"data row2 col4\" >0.2129</td>\n",
              "      <td id=\"T_e8191_row2_col5\" class=\"data row2 col5\" >0.3054</td>\n",
              "      <td id=\"T_e8191_row2_col6\" class=\"data row2 col6\" >0.3268</td>\n",
              "    </tr>\n",
              "    <tr>\n",
              "      <th id=\"T_e8191_level0_row3\" class=\"row_heading level0 row3\" >3</th>\n",
              "      <td id=\"T_e8191_row3_col0\" class=\"data row3 col0\" >0.3471</td>\n",
              "      <td id=\"T_e8191_row3_col1\" class=\"data row3 col1\" >0.9196</td>\n",
              "      <td id=\"T_e8191_row3_col2\" class=\"data row3 col2\" >0.3471</td>\n",
              "      <td id=\"T_e8191_row3_col3\" class=\"data row3 col3\" >0.1932</td>\n",
              "      <td id=\"T_e8191_row3_col4\" class=\"data row3 col4\" >0.2137</td>\n",
              "      <td id=\"T_e8191_row3_col5\" class=\"data row3 col5\" >0.3008</td>\n",
              "      <td id=\"T_e8191_row3_col6\" class=\"data row3 col6\" >0.3222</td>\n",
              "    </tr>\n",
              "    <tr>\n",
              "      <th id=\"T_e8191_level0_row4\" class=\"row_heading level0 row4\" >4</th>\n",
              "      <td id=\"T_e8191_row4_col0\" class=\"data row4 col0\" >0.3529</td>\n",
              "      <td id=\"T_e8191_row4_col1\" class=\"data row4 col1\" >0.9221</td>\n",
              "      <td id=\"T_e8191_row4_col2\" class=\"data row4 col2\" >0.3529</td>\n",
              "      <td id=\"T_e8191_row4_col3\" class=\"data row4 col3\" >0.1656</td>\n",
              "      <td id=\"T_e8191_row4_col4\" class=\"data row4 col4\" >0.2121</td>\n",
              "      <td id=\"T_e8191_row4_col5\" class=\"data row4 col5\" >0.3073</td>\n",
              "      <td id=\"T_e8191_row4_col6\" class=\"data row4 col6\" >0.3280</td>\n",
              "    </tr>\n",
              "    <tr>\n",
              "      <th id=\"T_e8191_level0_row5\" class=\"row_heading level0 row5\" >5</th>\n",
              "      <td id=\"T_e8191_row5_col0\" class=\"data row5 col0\" >0.3471</td>\n",
              "      <td id=\"T_e8191_row5_col1\" class=\"data row5 col1\" >0.9235</td>\n",
              "      <td id=\"T_e8191_row5_col2\" class=\"data row5 col2\" >0.3471</td>\n",
              "      <td id=\"T_e8191_row5_col3\" class=\"data row5 col3\" >0.1989</td>\n",
              "      <td id=\"T_e8191_row5_col4\" class=\"data row5 col4\" >0.2132</td>\n",
              "      <td id=\"T_e8191_row5_col5\" class=\"data row5 col5\" >0.3007</td>\n",
              "      <td id=\"T_e8191_row5_col6\" class=\"data row5 col6\" >0.3209</td>\n",
              "    </tr>\n",
              "    <tr>\n",
              "      <th id=\"T_e8191_level0_row6\" class=\"row_heading level0 row6\" >6</th>\n",
              "      <td id=\"T_e8191_row6_col0\" class=\"data row6 col0\" >0.3329</td>\n",
              "      <td id=\"T_e8191_row6_col1\" class=\"data row6 col1\" >0.9188</td>\n",
              "      <td id=\"T_e8191_row6_col2\" class=\"data row6 col2\" >0.3329</td>\n",
              "      <td id=\"T_e8191_row6_col3\" class=\"data row6 col3\" >0.2214</td>\n",
              "      <td id=\"T_e8191_row6_col4\" class=\"data row6 col4\" >0.1998</td>\n",
              "      <td id=\"T_e8191_row6_col5\" class=\"data row6 col5\" >0.2853</td>\n",
              "      <td id=\"T_e8191_row6_col6\" class=\"data row6 col6\" >0.3059</td>\n",
              "    </tr>\n",
              "    <tr>\n",
              "      <th id=\"T_e8191_level0_row7\" class=\"row_heading level0 row7\" >7</th>\n",
              "      <td id=\"T_e8191_row7_col0\" class=\"data row7 col0\" >0.3371</td>\n",
              "      <td id=\"T_e8191_row7_col1\" class=\"data row7 col1\" >0.9231</td>\n",
              "      <td id=\"T_e8191_row7_col2\" class=\"data row7 col2\" >0.3371</td>\n",
              "      <td id=\"T_e8191_row7_col3\" class=\"data row7 col3\" >0.1646</td>\n",
              "      <td id=\"T_e8191_row7_col4\" class=\"data row7 col4\" >0.2010</td>\n",
              "      <td id=\"T_e8191_row7_col5\" class=\"data row7 col5\" >0.2904</td>\n",
              "      <td id=\"T_e8191_row7_col6\" class=\"data row7 col6\" >0.3110</td>\n",
              "    </tr>\n",
              "    <tr>\n",
              "      <th id=\"T_e8191_level0_row8\" class=\"row_heading level0 row8\" >8</th>\n",
              "      <td id=\"T_e8191_row8_col0\" class=\"data row8 col0\" >0.3286</td>\n",
              "      <td id=\"T_e8191_row8_col1\" class=\"data row8 col1\" >0.9216</td>\n",
              "      <td id=\"T_e8191_row8_col2\" class=\"data row8 col2\" >0.3286</td>\n",
              "      <td id=\"T_e8191_row8_col3\" class=\"data row8 col3\" >0.1582</td>\n",
              "      <td id=\"T_e8191_row8_col4\" class=\"data row8 col4\" >0.1969</td>\n",
              "      <td id=\"T_e8191_row8_col5\" class=\"data row8 col5\" >0.2812</td>\n",
              "      <td id=\"T_e8191_row8_col6\" class=\"data row8 col6\" >0.2997</td>\n",
              "    </tr>\n",
              "    <tr>\n",
              "      <th id=\"T_e8191_level0_row9\" class=\"row_heading level0 row9\" >9</th>\n",
              "      <td id=\"T_e8191_row9_col0\" class=\"data row9 col0\" >0.3471</td>\n",
              "      <td id=\"T_e8191_row9_col1\" class=\"data row9 col1\" >0.9224</td>\n",
              "      <td id=\"T_e8191_row9_col2\" class=\"data row9 col2\" >0.3471</td>\n",
              "      <td id=\"T_e8191_row9_col3\" class=\"data row9 col3\" >0.1673</td>\n",
              "      <td id=\"T_e8191_row9_col4\" class=\"data row9 col4\" >0.2103</td>\n",
              "      <td id=\"T_e8191_row9_col5\" class=\"data row9 col5\" >0.3012</td>\n",
              "      <td id=\"T_e8191_row9_col6\" class=\"data row9 col6\" >0.3217</td>\n",
              "    </tr>\n",
              "    <tr>\n",
              "      <th id=\"T_e8191_level0_row10\" class=\"row_heading level0 row10\" >Mean</th>\n",
              "      <td id=\"T_e8191_row10_col0\" class=\"data row10 col0\" >0.3429</td>\n",
              "      <td id=\"T_e8191_row10_col1\" class=\"data row10 col1\" >0.9212</td>\n",
              "      <td id=\"T_e8191_row10_col2\" class=\"data row10 col2\" >0.3429</td>\n",
              "      <td id=\"T_e8191_row10_col3\" class=\"data row10 col3\" >0.1802</td>\n",
              "      <td id=\"T_e8191_row10_col4\" class=\"data row10 col4\" >0.2080</td>\n",
              "      <td id=\"T_e8191_row10_col5\" class=\"data row10 col5\" >0.2963</td>\n",
              "      <td id=\"T_e8191_row10_col6\" class=\"data row10 col6\" >0.3167</td>\n",
              "    </tr>\n",
              "    <tr>\n",
              "      <th id=\"T_e8191_level0_row11\" class=\"row_heading level0 row11\" >Std</th>\n",
              "      <td id=\"T_e8191_row11_col0\" class=\"data row11 col0\" >0.0081</td>\n",
              "      <td id=\"T_e8191_row11_col1\" class=\"data row11 col1\" >0.0017</td>\n",
              "      <td id=\"T_e8191_row11_col2\" class=\"data row11 col2\" >0.0081</td>\n",
              "      <td id=\"T_e8191_row11_col3\" class=\"data row11 col3\" >0.0203</td>\n",
              "      <td id=\"T_e8191_row11_col4\" class=\"data row11 col4\" >0.0069</td>\n",
              "      <td id=\"T_e8191_row11_col5\" class=\"data row11 col5\" >0.0087</td>\n",
              "      <td id=\"T_e8191_row11_col6\" class=\"data row11 col6\" >0.0091</td>\n",
              "    </tr>\n",
              "  </tbody>\n",
              "</table>\n"
            ]
          },
          "metadata": {}
        },
        {
          "output_type": "display_data",
          "data": {
            "text/plain": [
              "Processing:   0%|          | 0/7 [00:00<?, ?it/s]"
            ],
            "application/vnd.jupyter.widget-view+json": {
              "version_major": 2,
              "version_minor": 0,
              "model_id": "fd3efae3877344a2b0b52ef1aa8b51e0"
            }
          },
          "metadata": {
            "application/vnd.jupyter.widget-view+json": {
              "colab": {
                "custom_widget_manager": {
                  "url": "https://ssl.gstatic.com/colaboratory-static/widgets/colab-cdn-widget-manager/b3e629b1971e1542/manager.min.js"
                }
              }
            }
          }
        },
        {
          "output_type": "stream",
          "name": "stdout",
          "text": [
            "Fitting 10 folds for each of 10 candidates, totalling 100 fits\n"
          ]
        },
        {
          "output_type": "display_data",
          "data": {
            "text/plain": [
              "<IPython.core.display.HTML object>"
            ],
            "text/html": []
          },
          "metadata": {}
        },
        {
          "output_type": "stream",
          "name": "stdout",
          "text": [
            "Original model was better than the tuned model, hence it will be returned. NOTE: The display metrics are for the tuned model (not the original one).\n"
          ]
        }
      ],
      "source": [
        "tuned_rf =tune_model(rf_model, optimize ='Accuracy')"
      ]
    },
    {
      "cell_type": "code",
      "execution_count": null,
      "metadata": {
        "colab": {
          "base_uri": "https://localhost:8080/",
          "height": 179
        },
        "id": "vBcxbAsm9xLO",
        "outputId": "18d36a0c-aad1-4328-8431-c8cac9a0e2cb"
      },
      "outputs": [
        {
          "output_type": "execute_result",
          "data": {
            "text/plain": [
              "RandomForestClassifier(bootstrap=True, ccp_alpha=0.0, class_weight=None,\n",
              "                       criterion='gini', max_depth=None, max_features='sqrt',\n",
              "                       max_leaf_nodes=None, max_samples=None,\n",
              "                       min_impurity_decrease=0.0, min_samples_leaf=1,\n",
              "                       min_samples_split=2, min_weight_fraction_leaf=0.0,\n",
              "                       n_estimators=100, n_jobs=-1, oob_score=False,\n",
              "                       random_state=3638, verbose=0, warm_start=False)"
            ],
            "text/html": [
              "<style>#sk-container-id-1 {color: black;background-color: white;}#sk-container-id-1 pre{padding: 0;}#sk-container-id-1 div.sk-toggleable {background-color: white;}#sk-container-id-1 label.sk-toggleable__label {cursor: pointer;display: block;width: 100%;margin-bottom: 0;padding: 0.3em;box-sizing: border-box;text-align: center;}#sk-container-id-1 label.sk-toggleable__label-arrow:before {content: \"▸\";float: left;margin-right: 0.25em;color: #696969;}#sk-container-id-1 label.sk-toggleable__label-arrow:hover:before {color: black;}#sk-container-id-1 div.sk-estimator:hover label.sk-toggleable__label-arrow:before {color: black;}#sk-container-id-1 div.sk-toggleable__content {max-height: 0;max-width: 0;overflow: hidden;text-align: left;background-color: #f0f8ff;}#sk-container-id-1 div.sk-toggleable__content pre {margin: 0.2em;color: black;border-radius: 0.25em;background-color: #f0f8ff;}#sk-container-id-1 input.sk-toggleable__control:checked~div.sk-toggleable__content {max-height: 200px;max-width: 100%;overflow: auto;}#sk-container-id-1 input.sk-toggleable__control:checked~label.sk-toggleable__label-arrow:before {content: \"▾\";}#sk-container-id-1 div.sk-estimator input.sk-toggleable__control:checked~label.sk-toggleable__label {background-color: #d4ebff;}#sk-container-id-1 div.sk-label input.sk-toggleable__control:checked~label.sk-toggleable__label {background-color: #d4ebff;}#sk-container-id-1 input.sk-hidden--visually {border: 0;clip: rect(1px 1px 1px 1px);clip: rect(1px, 1px, 1px, 1px);height: 1px;margin: -1px;overflow: hidden;padding: 0;position: absolute;width: 1px;}#sk-container-id-1 div.sk-estimator {font-family: monospace;background-color: #f0f8ff;border: 1px dotted black;border-radius: 0.25em;box-sizing: border-box;margin-bottom: 0.5em;}#sk-container-id-1 div.sk-estimator:hover {background-color: #d4ebff;}#sk-container-id-1 div.sk-parallel-item::after {content: \"\";width: 100%;border-bottom: 1px solid gray;flex-grow: 1;}#sk-container-id-1 div.sk-label:hover label.sk-toggleable__label {background-color: #d4ebff;}#sk-container-id-1 div.sk-serial::before {content: \"\";position: absolute;border-left: 1px solid gray;box-sizing: border-box;top: 0;bottom: 0;left: 50%;z-index: 0;}#sk-container-id-1 div.sk-serial {display: flex;flex-direction: column;align-items: center;background-color: white;padding-right: 0.2em;padding-left: 0.2em;position: relative;}#sk-container-id-1 div.sk-item {position: relative;z-index: 1;}#sk-container-id-1 div.sk-parallel {display: flex;align-items: stretch;justify-content: center;background-color: white;position: relative;}#sk-container-id-1 div.sk-item::before, #sk-container-id-1 div.sk-parallel-item::before {content: \"\";position: absolute;border-left: 1px solid gray;box-sizing: border-box;top: 0;bottom: 0;left: 50%;z-index: -1;}#sk-container-id-1 div.sk-parallel-item {display: flex;flex-direction: column;z-index: 1;position: relative;background-color: white;}#sk-container-id-1 div.sk-parallel-item:first-child::after {align-self: flex-end;width: 50%;}#sk-container-id-1 div.sk-parallel-item:last-child::after {align-self: flex-start;width: 50%;}#sk-container-id-1 div.sk-parallel-item:only-child::after {width: 0;}#sk-container-id-1 div.sk-dashed-wrapped {border: 1px dashed gray;margin: 0 0.4em 0.5em 0.4em;box-sizing: border-box;padding-bottom: 0.4em;background-color: white;}#sk-container-id-1 div.sk-label label {font-family: monospace;font-weight: bold;display: inline-block;line-height: 1.2em;}#sk-container-id-1 div.sk-label-container {text-align: center;}#sk-container-id-1 div.sk-container {/* jupyter's `normalize.less` sets `[hidden] { display: none; }` but bootstrap.min.css set `[hidden] { display: none !important; }` so we also need the `!important` here to be able to override the default hidden behavior on the sphinx rendered scikit-learn.org. See: https://github.com/scikit-learn/scikit-learn/issues/21755 */display: inline-block !important;position: relative;}#sk-container-id-1 div.sk-text-repr-fallback {display: none;}</style><div id=\"sk-container-id-1\" class=\"sk-top-container\"><div class=\"sk-text-repr-fallback\"><pre>RandomForestClassifier(bootstrap=True, ccp_alpha=0.0, class_weight=None,\n",
              "                       criterion=&#x27;gini&#x27;, max_depth=None, max_features=&#x27;sqrt&#x27;,\n",
              "                       max_leaf_nodes=None, max_samples=None,\n",
              "                       min_impurity_decrease=0.0, min_samples_leaf=1,\n",
              "                       min_samples_split=2, min_weight_fraction_leaf=0.0,\n",
              "                       n_estimators=100, n_jobs=-1, oob_score=False,\n",
              "                       random_state=3638, verbose=0, warm_start=False)</pre><b>In a Jupyter environment, please rerun this cell to show the HTML representation or trust the notebook. <br />On GitHub, the HTML representation is unable to render, please try loading this page with nbviewer.org.</b></div><div class=\"sk-container\" hidden><div class=\"sk-item\"><div class=\"sk-estimator sk-toggleable\"><input class=\"sk-toggleable__control sk-hidden--visually\" id=\"sk-estimator-id-1\" type=\"checkbox\" checked><label for=\"sk-estimator-id-1\" class=\"sk-toggleable__label sk-toggleable__label-arrow\">RandomForestClassifier</label><div class=\"sk-toggleable__content\"><pre>RandomForestClassifier(bootstrap=True, ccp_alpha=0.0, class_weight=None,\n",
              "                       criterion=&#x27;gini&#x27;, max_depth=None, max_features=&#x27;sqrt&#x27;,\n",
              "                       max_leaf_nodes=None, max_samples=None,\n",
              "                       min_impurity_decrease=0.0, min_samples_leaf=1,\n",
              "                       min_samples_split=2, min_weight_fraction_leaf=0.0,\n",
              "                       n_estimators=100, n_jobs=-1, oob_score=False,\n",
              "                       random_state=3638, verbose=0, warm_start=False)</pre></div></div></div></div></div>"
            ]
          },
          "metadata": {},
          "execution_count": 17
        }
      ],
      "source": [
        "tuned_rf"
      ]
    },
    {
      "cell_type": "code",
      "source": [
        "tuned_gbc"
      ],
      "metadata": {
        "colab": {
          "base_uri": "https://localhost:8080/",
          "height": 214
        },
        "id": "slUAK9BEaddR",
        "outputId": "b923a391-456b-4322-a9c1-0faa71586c56"
      },
      "execution_count": null,
      "outputs": [
        {
          "output_type": "execute_result",
          "data": {
            "text/plain": [
              "GradientBoostingClassifier(ccp_alpha=0.0, criterion='friedman_mse', init=None,\n",
              "                           learning_rate=0.01, loss='log_loss', max_depth=5,\n",
              "                           max_features=1.0, max_leaf_nodes=None,\n",
              "                           min_impurity_decrease=0.0005, min_samples_leaf=5,\n",
              "                           min_samples_split=9, min_weight_fraction_leaf=0.0,\n",
              "                           n_estimators=190, n_iter_no_change=None,\n",
              "                           random_state=3638, subsample=0.6, tol=0.0001,\n",
              "                           validation_fraction=0.1, verbose=0,\n",
              "                           warm_start=False)"
            ],
            "text/html": [
              "<style>#sk-container-id-2 {color: black;background-color: white;}#sk-container-id-2 pre{padding: 0;}#sk-container-id-2 div.sk-toggleable {background-color: white;}#sk-container-id-2 label.sk-toggleable__label {cursor: pointer;display: block;width: 100%;margin-bottom: 0;padding: 0.3em;box-sizing: border-box;text-align: center;}#sk-container-id-2 label.sk-toggleable__label-arrow:before {content: \"▸\";float: left;margin-right: 0.25em;color: #696969;}#sk-container-id-2 label.sk-toggleable__label-arrow:hover:before {color: black;}#sk-container-id-2 div.sk-estimator:hover label.sk-toggleable__label-arrow:before {color: black;}#sk-container-id-2 div.sk-toggleable__content {max-height: 0;max-width: 0;overflow: hidden;text-align: left;background-color: #f0f8ff;}#sk-container-id-2 div.sk-toggleable__content pre {margin: 0.2em;color: black;border-radius: 0.25em;background-color: #f0f8ff;}#sk-container-id-2 input.sk-toggleable__control:checked~div.sk-toggleable__content {max-height: 200px;max-width: 100%;overflow: auto;}#sk-container-id-2 input.sk-toggleable__control:checked~label.sk-toggleable__label-arrow:before {content: \"▾\";}#sk-container-id-2 div.sk-estimator input.sk-toggleable__control:checked~label.sk-toggleable__label {background-color: #d4ebff;}#sk-container-id-2 div.sk-label input.sk-toggleable__control:checked~label.sk-toggleable__label {background-color: #d4ebff;}#sk-container-id-2 input.sk-hidden--visually {border: 0;clip: rect(1px 1px 1px 1px);clip: rect(1px, 1px, 1px, 1px);height: 1px;margin: -1px;overflow: hidden;padding: 0;position: absolute;width: 1px;}#sk-container-id-2 div.sk-estimator {font-family: monospace;background-color: #f0f8ff;border: 1px dotted black;border-radius: 0.25em;box-sizing: border-box;margin-bottom: 0.5em;}#sk-container-id-2 div.sk-estimator:hover {background-color: #d4ebff;}#sk-container-id-2 div.sk-parallel-item::after {content: \"\";width: 100%;border-bottom: 1px solid gray;flex-grow: 1;}#sk-container-id-2 div.sk-label:hover label.sk-toggleable__label {background-color: #d4ebff;}#sk-container-id-2 div.sk-serial::before {content: \"\";position: absolute;border-left: 1px solid gray;box-sizing: border-box;top: 0;bottom: 0;left: 50%;z-index: 0;}#sk-container-id-2 div.sk-serial {display: flex;flex-direction: column;align-items: center;background-color: white;padding-right: 0.2em;padding-left: 0.2em;position: relative;}#sk-container-id-2 div.sk-item {position: relative;z-index: 1;}#sk-container-id-2 div.sk-parallel {display: flex;align-items: stretch;justify-content: center;background-color: white;position: relative;}#sk-container-id-2 div.sk-item::before, #sk-container-id-2 div.sk-parallel-item::before {content: \"\";position: absolute;border-left: 1px solid gray;box-sizing: border-box;top: 0;bottom: 0;left: 50%;z-index: -1;}#sk-container-id-2 div.sk-parallel-item {display: flex;flex-direction: column;z-index: 1;position: relative;background-color: white;}#sk-container-id-2 div.sk-parallel-item:first-child::after {align-self: flex-end;width: 50%;}#sk-container-id-2 div.sk-parallel-item:last-child::after {align-self: flex-start;width: 50%;}#sk-container-id-2 div.sk-parallel-item:only-child::after {width: 0;}#sk-container-id-2 div.sk-dashed-wrapped {border: 1px dashed gray;margin: 0 0.4em 0.5em 0.4em;box-sizing: border-box;padding-bottom: 0.4em;background-color: white;}#sk-container-id-2 div.sk-label label {font-family: monospace;font-weight: bold;display: inline-block;line-height: 1.2em;}#sk-container-id-2 div.sk-label-container {text-align: center;}#sk-container-id-2 div.sk-container {/* jupyter's `normalize.less` sets `[hidden] { display: none; }` but bootstrap.min.css set `[hidden] { display: none !important; }` so we also need the `!important` here to be able to override the default hidden behavior on the sphinx rendered scikit-learn.org. See: https://github.com/scikit-learn/scikit-learn/issues/21755 */display: inline-block !important;position: relative;}#sk-container-id-2 div.sk-text-repr-fallback {display: none;}</style><div id=\"sk-container-id-2\" class=\"sk-top-container\"><div class=\"sk-text-repr-fallback\"><pre>GradientBoostingClassifier(ccp_alpha=0.0, criterion=&#x27;friedman_mse&#x27;, init=None,\n",
              "                           learning_rate=0.01, loss=&#x27;log_loss&#x27;, max_depth=5,\n",
              "                           max_features=1.0, max_leaf_nodes=None,\n",
              "                           min_impurity_decrease=0.0005, min_samples_leaf=5,\n",
              "                           min_samples_split=9, min_weight_fraction_leaf=0.0,\n",
              "                           n_estimators=190, n_iter_no_change=None,\n",
              "                           random_state=3638, subsample=0.6, tol=0.0001,\n",
              "                           validation_fraction=0.1, verbose=0,\n",
              "                           warm_start=False)</pre><b>In a Jupyter environment, please rerun this cell to show the HTML representation or trust the notebook. <br />On GitHub, the HTML representation is unable to render, please try loading this page with nbviewer.org.</b></div><div class=\"sk-container\" hidden><div class=\"sk-item\"><div class=\"sk-estimator sk-toggleable\"><input class=\"sk-toggleable__control sk-hidden--visually\" id=\"sk-estimator-id-2\" type=\"checkbox\" checked><label for=\"sk-estimator-id-2\" class=\"sk-toggleable__label sk-toggleable__label-arrow\">GradientBoostingClassifier</label><div class=\"sk-toggleable__content\"><pre>GradientBoostingClassifier(ccp_alpha=0.0, criterion=&#x27;friedman_mse&#x27;, init=None,\n",
              "                           learning_rate=0.01, loss=&#x27;log_loss&#x27;, max_depth=5,\n",
              "                           max_features=1.0, max_leaf_nodes=None,\n",
              "                           min_impurity_decrease=0.0005, min_samples_leaf=5,\n",
              "                           min_samples_split=9, min_weight_fraction_leaf=0.0,\n",
              "                           n_estimators=190, n_iter_no_change=None,\n",
              "                           random_state=3638, subsample=0.6, tol=0.0001,\n",
              "                           validation_fraction=0.1, verbose=0,\n",
              "                           warm_start=False)</pre></div></div></div></div></div>"
            ]
          },
          "metadata": {},
          "execution_count": 18
        }
      ]
    },
    {
      "cell_type": "code",
      "source": [
        "tuned_lr"
      ],
      "metadata": {
        "colab": {
          "base_uri": "https://localhost:8080/",
          "height": 145
        },
        "id": "ISebVTvKagp6",
        "outputId": "515b89dd-ef89-4bc7-8027-1df117d54549"
      },
      "execution_count": null,
      "outputs": [
        {
          "output_type": "execute_result",
          "data": {
            "text/plain": [
              "LogisticRegression(C=1.0, class_weight=None, dual=False, fit_intercept=True,\n",
              "                   intercept_scaling=1, l1_ratio=None, max_iter=1000,\n",
              "                   multi_class='auto', n_jobs=None, penalty='l2',\n",
              "                   random_state=3638, solver='lbfgs', tol=0.0001, verbose=0,\n",
              "                   warm_start=False)"
            ],
            "text/html": [
              "<style>#sk-container-id-3 {color: black;background-color: white;}#sk-container-id-3 pre{padding: 0;}#sk-container-id-3 div.sk-toggleable {background-color: white;}#sk-container-id-3 label.sk-toggleable__label {cursor: pointer;display: block;width: 100%;margin-bottom: 0;padding: 0.3em;box-sizing: border-box;text-align: center;}#sk-container-id-3 label.sk-toggleable__label-arrow:before {content: \"▸\";float: left;margin-right: 0.25em;color: #696969;}#sk-container-id-3 label.sk-toggleable__label-arrow:hover:before {color: black;}#sk-container-id-3 div.sk-estimator:hover label.sk-toggleable__label-arrow:before {color: black;}#sk-container-id-3 div.sk-toggleable__content {max-height: 0;max-width: 0;overflow: hidden;text-align: left;background-color: #f0f8ff;}#sk-container-id-3 div.sk-toggleable__content pre {margin: 0.2em;color: black;border-radius: 0.25em;background-color: #f0f8ff;}#sk-container-id-3 input.sk-toggleable__control:checked~div.sk-toggleable__content {max-height: 200px;max-width: 100%;overflow: auto;}#sk-container-id-3 input.sk-toggleable__control:checked~label.sk-toggleable__label-arrow:before {content: \"▾\";}#sk-container-id-3 div.sk-estimator input.sk-toggleable__control:checked~label.sk-toggleable__label {background-color: #d4ebff;}#sk-container-id-3 div.sk-label input.sk-toggleable__control:checked~label.sk-toggleable__label {background-color: #d4ebff;}#sk-container-id-3 input.sk-hidden--visually {border: 0;clip: rect(1px 1px 1px 1px);clip: rect(1px, 1px, 1px, 1px);height: 1px;margin: -1px;overflow: hidden;padding: 0;position: absolute;width: 1px;}#sk-container-id-3 div.sk-estimator {font-family: monospace;background-color: #f0f8ff;border: 1px dotted black;border-radius: 0.25em;box-sizing: border-box;margin-bottom: 0.5em;}#sk-container-id-3 div.sk-estimator:hover {background-color: #d4ebff;}#sk-container-id-3 div.sk-parallel-item::after {content: \"\";width: 100%;border-bottom: 1px solid gray;flex-grow: 1;}#sk-container-id-3 div.sk-label:hover label.sk-toggleable__label {background-color: #d4ebff;}#sk-container-id-3 div.sk-serial::before {content: \"\";position: absolute;border-left: 1px solid gray;box-sizing: border-box;top: 0;bottom: 0;left: 50%;z-index: 0;}#sk-container-id-3 div.sk-serial {display: flex;flex-direction: column;align-items: center;background-color: white;padding-right: 0.2em;padding-left: 0.2em;position: relative;}#sk-container-id-3 div.sk-item {position: relative;z-index: 1;}#sk-container-id-3 div.sk-parallel {display: flex;align-items: stretch;justify-content: center;background-color: white;position: relative;}#sk-container-id-3 div.sk-item::before, #sk-container-id-3 div.sk-parallel-item::before {content: \"\";position: absolute;border-left: 1px solid gray;box-sizing: border-box;top: 0;bottom: 0;left: 50%;z-index: -1;}#sk-container-id-3 div.sk-parallel-item {display: flex;flex-direction: column;z-index: 1;position: relative;background-color: white;}#sk-container-id-3 div.sk-parallel-item:first-child::after {align-self: flex-end;width: 50%;}#sk-container-id-3 div.sk-parallel-item:last-child::after {align-self: flex-start;width: 50%;}#sk-container-id-3 div.sk-parallel-item:only-child::after {width: 0;}#sk-container-id-3 div.sk-dashed-wrapped {border: 1px dashed gray;margin: 0 0.4em 0.5em 0.4em;box-sizing: border-box;padding-bottom: 0.4em;background-color: white;}#sk-container-id-3 div.sk-label label {font-family: monospace;font-weight: bold;display: inline-block;line-height: 1.2em;}#sk-container-id-3 div.sk-label-container {text-align: center;}#sk-container-id-3 div.sk-container {/* jupyter's `normalize.less` sets `[hidden] { display: none; }` but bootstrap.min.css set `[hidden] { display: none !important; }` so we also need the `!important` here to be able to override the default hidden behavior on the sphinx rendered scikit-learn.org. See: https://github.com/scikit-learn/scikit-learn/issues/21755 */display: inline-block !important;position: relative;}#sk-container-id-3 div.sk-text-repr-fallback {display: none;}</style><div id=\"sk-container-id-3\" class=\"sk-top-container\"><div class=\"sk-text-repr-fallback\"><pre>LogisticRegression(C=1.0, class_weight=None, dual=False, fit_intercept=True,\n",
              "                   intercept_scaling=1, l1_ratio=None, max_iter=1000,\n",
              "                   multi_class=&#x27;auto&#x27;, n_jobs=None, penalty=&#x27;l2&#x27;,\n",
              "                   random_state=3638, solver=&#x27;lbfgs&#x27;, tol=0.0001, verbose=0,\n",
              "                   warm_start=False)</pre><b>In a Jupyter environment, please rerun this cell to show the HTML representation or trust the notebook. <br />On GitHub, the HTML representation is unable to render, please try loading this page with nbviewer.org.</b></div><div class=\"sk-container\" hidden><div class=\"sk-item\"><div class=\"sk-estimator sk-toggleable\"><input class=\"sk-toggleable__control sk-hidden--visually\" id=\"sk-estimator-id-3\" type=\"checkbox\" checked><label for=\"sk-estimator-id-3\" class=\"sk-toggleable__label sk-toggleable__label-arrow\">LogisticRegression</label><div class=\"sk-toggleable__content\"><pre>LogisticRegression(C=1.0, class_weight=None, dual=False, fit_intercept=True,\n",
              "                   intercept_scaling=1, l1_ratio=None, max_iter=1000,\n",
              "                   multi_class=&#x27;auto&#x27;, n_jobs=None, penalty=&#x27;l2&#x27;,\n",
              "                   random_state=3638, solver=&#x27;lbfgs&#x27;, tol=0.0001, verbose=0,\n",
              "                   warm_start=False)</pre></div></div></div></div></div>"
            ]
          },
          "metadata": {},
          "execution_count": 19
        }
      ]
    }
  ]
}