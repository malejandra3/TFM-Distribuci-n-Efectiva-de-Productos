{
  "nbformat": 4,
  "nbformat_minor": 0,
  "metadata": {
    "colab": {
      "provenance": []
    },
    "kernelspec": {
      "name": "python3",
      "display_name": "Python 3"
    },
    "language_info": {
      "name": "python"
    }
  },
  "cells": [
    {
      "cell_type": "code",
      "source": [
        "import pandas as pd\n",
        "from sklearn.ensemble import GradientBoostingClassifier\n",
        "from sklearn.model_selection import GridSearchCV"
      ],
      "metadata": {
        "id": "LKuYw4m7Mq-6"
      },
      "execution_count": null,
      "outputs": []
    },
    {
      "cell_type": "code",
      "execution_count": null,
      "metadata": {
        "id": "XeOytQPVJytd"
      },
      "outputs": [],
      "source": [
        "df_modelado_fin = pd.read_csv('datos_modelar_prueba2.csv', sep=';', dtype={'C.O.': str})"
      ]
    },
    {
      "cell_type": "code",
      "source": [
        "df_modelado_fin = df_modelado_fin.sample(n=20000, random_state=42)"
      ],
      "metadata": {
        "id": "YZ0VAyNHs15X"
      },
      "execution_count": null,
      "outputs": []
    },
    {
      "cell_type": "code",
      "source": [
        "df_modelado_fin.shape"
      ],
      "metadata": {
        "colab": {
          "base_uri": "https://localhost:8080/"
        },
        "id": "Aac40lons5ah",
        "outputId": "2ce93fe9-20dc-4cbb-a83c-c8d12a3dcaae"
      },
      "execution_count": null,
      "outputs": [
        {
          "output_type": "execute_result",
          "data": {
            "text/plain": [
              "(20000, 57)"
            ]
          },
          "metadata": {},
          "execution_count": 17
        }
      ]
    },
    {
      "cell_type": "code",
      "source": [
        "# Se realiza una adaptación del código utilizado en la materia 13MBID del presente master.\n",
        "from sklearn.model_selection import train_test_split\n",
        "\n",
        "# Extraer la columna objetivo \"C.O.\" del df_original\n",
        "label = df_modelado_fin['C.O.']\n",
        "\n",
        "# Eliminar la columna objetivo del df_modelado\n",
        "df_modelado_fin = df_modelado_fin.drop(columns=['C.O.'])\n",
        "\n",
        "# Dividir los datos en conjuntos de entrenamiento y prueba\n",
        "train_data, test_data, train_labels, test_labels= train_test_split(df_modelado_fin, label, test_size=0.2,train_size=0.8,random_state=71)"
      ],
      "metadata": {
        "id": "bLhWFO85M7Mo"
      },
      "execution_count": null,
      "outputs": []
    },
    {
      "cell_type": "code",
      "source": [
        "# Se realiza una adaptación del código utilizado en la materia 13MBID del presente master.\n",
        "\n",
        "\n",
        "from sklearn.metrics import confusion_matrix,accuracy_score,classification_report\n",
        "from sklearn.metrics import confusion_matrix, ConfusionMatrixDisplay\n",
        "\n",
        "\n",
        "# Configuración de la evaluación\n",
        "\n",
        "def evaluar_modelo(modelo, test_data, test_labels):\n",
        "    prediction = modelo.predict(test_data)\n",
        "    print('Rendimiento obtenido:',accuracy_score(test_labels,prediction))\n",
        "    print('Reporte de indicadores:\\n',classification_report(test_labels,prediction))"
      ],
      "metadata": {
        "id": "CQy78UNkM9Fa"
      },
      "execution_count": null,
      "outputs": []
    },
    {
      "cell_type": "code",
      "source": [
        "from sklearn.ensemble import GradientBoostingClassifier\n",
        "from sklearn.model_selection import GridSearchCV\n",
        "import time\n",
        "\n",
        "\n",
        "param_grid_gbc = {\n",
        "    'n_estimators': [200, 300],\n",
        "    'max_depth': [1, 2],\n",
        "    'min_samples_split': [2, 5],\n",
        "    'min_samples_leaf': [2, 4],\n",
        "    'random_state': [71]\n",
        "}\n",
        "\n",
        "# Crear el modelo GradientBoostingClassifier\n",
        "gbc = GradientBoostingClassifier()\n",
        "\n",
        "# Iniciar medición de tiempo\n",
        "start_time = time.time()\n",
        "\n",
        "\n",
        "grid_search_gbc = GridSearchCV(gbc, param_grid=param_grid_gbc, cv=3, scoring='accuracy', n_jobs=-1)\n",
        "grid_search_gbc.fit(train_data, train_labels)\n",
        "\n",
        "# Obtener los mejores hiperparámetros encontrados\n",
        "best_params_gbc = grid_search_gbc.best_params_\n",
        "print(\"Mejores hiperparámetros (GradientBoosting):\", best_params_gbc)\n",
        "\n",
        "# Crear un nuevo modelo utilizando los mejores hiperparámetros\n",
        "gbc_grid = GradientBoostingClassifier(**best_params_gbc)\n",
        "gbc_grid.fit(train_data, train_labels)\n",
        "\n",
        "# Finalizar medición de tiempo\n",
        "end_time = time.time()\n",
        "elapsed_time = end_time - start_time\n",
        "print(\"Tiempo transcurrido:\", elapsed_time, \"segundos\")\n"
      ],
      "metadata": {
        "id": "b_-SZW9fMfgL",
        "colab": {
          "base_uri": "https://localhost:8080/"
        },
        "outputId": "2ffd8777-3a40-423a-ab6f-dacb58c1b783"
      },
      "execution_count": null,
      "outputs": [
        {
          "output_type": "stream",
          "name": "stdout",
          "text": [
            "Mejores hiperparámetros (GradientBoosting): {'max_depth': 1, 'min_samples_leaf': 2, 'min_samples_split': 2, 'n_estimators': 300, 'random_state': 71}\n",
            "Tiempo transcurrido: 3563.212732076645 segundos\n"
          ]
        }
      ]
    },
    {
      "cell_type": "code",
      "source": [
        "evaluar_modelo(gbc_grid, test_data, test_labels)"
      ],
      "metadata": {
        "id": "DyokZn4BM_kW",
        "colab": {
          "base_uri": "https://localhost:8080/"
        },
        "outputId": "62c92c07-a368-4b2b-f5b4-820c718a5672"
      },
      "execution_count": null,
      "outputs": [
        {
          "output_type": "stream",
          "name": "stdout",
          "text": [
            "Rendimiento obtenido: 0.361\n",
            "Reporte de indicadores:\n",
            "               precision    recall  f1-score   support\n",
            "\n",
            "         004       0.31      0.03      0.05       144\n",
            "         006       0.00      0.00      0.00       141\n",
            "         007       0.29      0.39      0.33       250\n",
            "         009       0.30      0.56      0.39       306\n",
            "         010       0.30      0.31      0.31       277\n",
            "         011       0.29      0.14      0.19       256\n",
            "         017       0.17      0.01      0.03       143\n",
            "         022       1.00      1.00      1.00       117\n",
            "         023       0.18      0.09      0.12       200\n",
            "         026       0.29      0.22      0.25       116\n",
            "         027       0.25      0.03      0.05       108\n",
            "         028       0.27      0.35      0.30       206\n",
            "         029       0.35      0.69      0.46       323\n",
            "         030       0.18      0.12      0.15       128\n",
            "         032       0.37      0.61      0.46       190\n",
            "         033       0.37      0.78      0.50       219\n",
            "         034       0.35      0.30      0.32       189\n",
            "         035       0.17      0.04      0.07       124\n",
            "         037       0.00      0.00      0.00       119\n",
            "         039       0.28      0.11      0.15        94\n",
            "         414       0.62      0.96      0.75       213\n",
            "         415       0.58      0.08      0.14       137\n",
            "\n",
            "    accuracy                           0.36      4000\n",
            "   macro avg       0.31      0.31      0.27      4000\n",
            "weighted avg       0.32      0.36      0.30      4000\n",
            "\n"
          ]
        }
      ]
    }
  ]
}