{
  "nbformat": 4,
  "nbformat_minor": 0,
  "metadata": {
    "colab": {
      "provenance": []
    },
    "kernelspec": {
      "name": "python3",
      "display_name": "Python 3"
    },
    "language_info": {
      "name": "python"
    }
  },
  "cells": [
    {
      "cell_type": "code",
      "source": [
        "import pandas as pd"
      ],
      "metadata": {
        "id": "LKuYw4m7Mq-6"
      },
      "execution_count": null,
      "outputs": []
    },
    {
      "cell_type": "code",
      "execution_count": null,
      "metadata": {
        "id": "XeOytQPVJytd"
      },
      "outputs": [],
      "source": [
        "df_modelado_fin = pd.read_csv('datos_modelar_prueba42.csv', sep=';', dtype={'C.O.': str})"
      ]
    },
    {
      "cell_type": "code",
      "source": [
        "df_modelado_fin = df_modelado_fin.sample(n=20000, random_state=42)"
      ],
      "metadata": {
        "id": "c9FJdsX8ulAI"
      },
      "execution_count": null,
      "outputs": []
    },
    {
      "cell_type": "code",
      "source": [
        "# Se realiza una adaptación del código utilizado en la materia 13MBID del presente master.\n",
        "from sklearn.model_selection import train_test_split\n",
        "\n",
        "# Extraer la columna objetivo \"C.O.\" del df_original\n",
        "label = df_modelado_fin['C.O.']\n",
        "\n",
        "# Eliminar la columna objetivo del df_modelado\n",
        "df_modelado_fin = df_modelado_fin.drop(columns=['C.O.'])\n",
        "\n",
        "# Dividir los datos en conjuntos de entrenamiento y prueba\n",
        "train_data, test_data, train_labels, test_labels= train_test_split(df_modelado_fin, label, test_size=0.2,train_size=0.8,random_state=71)"
      ],
      "metadata": {
        "id": "bLhWFO85M7Mo"
      },
      "execution_count": null,
      "outputs": []
    },
    {
      "cell_type": "code",
      "source": [
        "# Se realiza una adaptación del código utilizado en la materia 13MBID del presente master.\n",
        "\n",
        "\n",
        "from sklearn.metrics import confusion_matrix,accuracy_score,classification_report\n",
        "from sklearn.metrics import confusion_matrix, ConfusionMatrixDisplay\n",
        "\n",
        "\n",
        "# Configuración de la evaluación\n",
        "\n",
        "def evaluar_modelo(modelo, test_data, test_labels):\n",
        "    prediction = modelo.predict(test_data)\n",
        "    print('Rendimiento obtenido:',accuracy_score(test_labels,prediction))\n",
        "    print('Reporte de indicadores:\\n',classification_report(test_labels,prediction))"
      ],
      "metadata": {
        "id": "CQy78UNkM9Fa"
      },
      "execution_count": null,
      "outputs": []
    },
    {
      "cell_type": "code",
      "source": [
        "from sklearn.ensemble import RandomForestClassifier\n",
        "from sklearn.model_selection import GridSearchCV\n",
        "import time\n",
        "\n",
        "# Definir los hiperparámetros que deseas optimizar\n",
        "param_grid_rf = {\n",
        "    'n_estimators': [20,80,100],\n",
        "    'criterion':['gini', 'entropy'],\n",
        "    'max_depth': [ 30,50,100],\n",
        "    'min_samples_split': [2, 6,40],\n",
        "    'min_samples_leaf': [4],\n",
        "    'random_state': [71]\n",
        "}\n",
        "\n",
        "# Crear el modelo de Random Forest Classifier\n",
        "rf = RandomForestClassifier()\n",
        "\n",
        "# Iniciar medición de tiempo\n",
        "start_time = time.time()\n",
        "\n",
        "# Realizar la búsqueda en cuadrícula (Grid Search)\n",
        "grid_search_rf = GridSearchCV(rf, param_grid=param_grid_rf, cv=3)\n",
        "grid_search_rf.fit(train_data, train_labels)\n",
        "\n",
        "# Obtener los mejores hiperparámetros encontrados\n",
        "best_params_rf = grid_search_rf.best_params_\n",
        "print(\"Mejores hiperparámetros (Random Forest):\", best_params_rf)\n",
        "\n",
        "# Crear un nuevo modelo utilizando los mejores hiperparámetros\n",
        "rf_grid_1 = RandomForestClassifier(**best_params_rf)\n",
        "rf_grid_1.fit(train_data, train_labels)\n",
        "\n",
        "# Finalizar medición de tiempo\n",
        "end_time = time.time()\n",
        "elapsed_time = end_time - start_time\n",
        "print(\"Tiempo transcurrido:\", elapsed_time, \"segundos\")\n"
      ],
      "metadata": {
        "id": "AG6hyfP0YGU0",
        "colab": {
          "base_uri": "https://localhost:8080/"
        },
        "outputId": "b05bbb52-c56b-46f4-cecc-a728b6244fa3"
      },
      "execution_count": null,
      "outputs": [
        {
          "output_type": "stream",
          "name": "stdout",
          "text": [
            "Mejores hiperparámetros (Random Forest): {'criterion': 'entropy', 'max_depth': 50, 'min_samples_leaf': 4, 'min_samples_split': 2, 'n_estimators': 100, 'random_state': 71}\n",
            "Tiempo transcurrido: 4468.297302007675 segundos\n"
          ]
        }
      ]
    },
    {
      "cell_type": "code",
      "source": [
        "evaluar_modelo(rf_grid_1, test_data, test_labels)"
      ],
      "metadata": {
        "id": "jD5D6THZYzQ7",
        "colab": {
          "base_uri": "https://localhost:8080/"
        },
        "outputId": "6dc32374-31a1-412e-a4a4-d58cf2eadbfd"
      },
      "execution_count": null,
      "outputs": [
        {
          "output_type": "stream",
          "name": "stdout",
          "text": [
            "Rendimiento obtenido: 0.4094019942070592\n",
            "Reporte de indicadores:\n",
            "               precision    recall  f1-score   support\n",
            "\n",
            "         004       0.28      0.14      0.19      2523\n",
            "         006       0.30      0.11      0.16      2869\n",
            "         007       0.35      0.34      0.34      4670\n",
            "         009       0.38      0.55      0.45      5893\n",
            "         010       0.33      0.36      0.34      5484\n",
            "         011       0.33      0.28      0.30      4552\n",
            "         017       0.30      0.07      0.12      2589\n",
            "         022       1.00      1.00      1.00      2322\n",
            "         023       0.34      0.23      0.27      4298\n",
            "         026       0.34      0.22      0.27      2238\n",
            "         027       0.26      0.10      0.15      1868\n",
            "         028       0.32      0.38      0.35      4020\n",
            "         029       0.39      0.68      0.50      6128\n",
            "         030       0.36      0.32      0.34      2733\n",
            "         032       0.40      0.63      0.49      3337\n",
            "         033       0.40      0.63      0.49      4726\n",
            "         034       0.37      0.37      0.37      3934\n",
            "         035       0.31      0.17      0.22      2742\n",
            "         037       0.27      0.06      0.10      1925\n",
            "         039       0.42      0.25      0.31      2022\n",
            "         414       0.69      0.90      0.78      4607\n",
            "         415       0.61      0.27      0.38      2546\n",
            "\n",
            "    accuracy                           0.41     78026\n",
            "   macro avg       0.40      0.37      0.36     78026\n",
            "weighted avg       0.40      0.41      0.38     78026\n",
            "\n"
          ]
        }
      ]
    }
  ]
}